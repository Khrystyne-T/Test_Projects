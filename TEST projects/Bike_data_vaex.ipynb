{
 "cells": [
  {
   "cell_type": "code",
   "execution_count": null,
   "metadata": {},
   "outputs": [],
   "source": []
  },
  {
   "cell_type": "code",
   "execution_count": 3,
   "metadata": {},
   "outputs": [],
   "source": [
    "import matplotlib.pyplot as plt\n",
    "import seaborn as sb\n",
    "import glob\n",
    "import os \n",
    "import datetime\n",
    "from requests import get\n",
    "from os import path, getcwd, makedirs, listdir\n",
    "from io import BytesIO\n",
    "from zipfile import ZipFile\n",
    "\n",
    "%matplotlib inline"
   ]
  },
  {
   "cell_type": "code",
   "execution_count": 7,
   "metadata": {},
   "outputs": [
    {
     "name": "stdout",
     "output_type": "stream",
     "text": [
      "Folder already exists\n"
     ]
    }
   ],
   "source": [
    "#create folder:\n",
    "folder_data = 'data'\n",
    "\n",
    "if not os.path.exists(folder_data):\n",
    "    os.makedirs(folder_data)\n",
    "else:\n",
    "    print('Folder already exists')\n",
    "        \n",
    "#loop through all files (from url) starting at month 1 to 12:\n",
    "for month in range(1,13):\n",
    "    month_string = str(month)\n",
    "    month_leading_zero = month_string.zfill(2)\n",
    "    \n",
    "    #scrape URL:                                                      +01, 02, 03...eg:201801-fordgobike-tripdata.csv.zip\n",
    "    bike_data_url = 'https://s3.amazonaws.com/fordgobike-data/2018' + month_leading_zero + '-fordgobike-tripdata.csv.zip'\n",
    "    response = get(bike_data_url)\n",
    "\n",
    "    # code below opens zip file; BytesIO returns a view of the contents;\n",
    "    unzipped_file = ZipFile(BytesIO(response.content))\n",
    "\n",
    "    # place extracted zip files into folder_data\n",
    "    unzipped_file.extractall(folder_data)\n"
   ]
  },
  {
   "cell_type": "code",
   "execution_count": 8,
   "metadata": {},
   "outputs": [],
   "source": [
    "# Combine all downloaded CSVs into one and importing into pandas 1st\n",
    "#import pandas as pd\n",
    "\n",
    "#list_data = []\n",
    "\n",
    "#for file_name in listdir(folder_data):\n",
    "#    list_data.append(pd.read_csv(folder_data+'/'+file_name))\n",
    "#df = pd.concat(list_data, join = 'inner', sort=True)\n",
    "\n",
    "\n",
    "\n",
    "#--------------------------------------------------------------------------------------------------------------------#\n",
    "# only run this block if you want the data to be imported into a pd df first before the vaex conversion           #\n",
    "#--------------------------------------------------------------------------------------------------------------------#"
   ]
  },
  {
   "cell_type": "markdown",
   "metadata": {},
   "source": [
    "### Import Vaex lib and convert all downloaded csv files to HDF5 format:\n",
    "- **convert to HDF5 because vaex support this format**"
   ]
  },
  {
   "cell_type": "code",
   "execution_count": null,
   "metadata": {},
   "outputs": [],
   "source": [
    "#import lib:\n",
    "import vaex"
   ]
  },
  {
   "cell_type": "raw",
   "metadata": {},
   "source": [
    "#if lib not installed --> installation:\n",
    "\n",
    "#pip install:\n",
    "!pip install vaex\n",
    "\n",
    "#conda install:\n",
    "!conda install -c conda-forge vaex"
   ]
  },
  {
   "cell_type": "code",
   "execution_count": 39,
   "metadata": {},
   "outputs": [],
   "source": [
    "#check all files are in dir:\n",
    "os.listdir()"
   ]
  },
  {
   "cell_type": "code",
   "execution_count": 29,
   "metadata": {},
   "outputs": [
    {
     "data": {
      "text/plain": [
       "'C:\\\\Users\\\\hp\\\\Downloads\\\\VAEX example project'"
      ]
     },
     "execution_count": 29,
     "metadata": {},
     "output_type": "execute_result"
    }
   ],
   "source": [
    "#current working dir?\n",
    "os.getcwd()"
   ]
  },
  {
   "cell_type": "code",
   "execution_count": 32,
   "metadata": {},
   "outputs": [],
   "source": [
    "#change cwd to dir that has all csv files:\n",
    "os.chdir(\"C:\\\\Users\\\\hp\\\\Downloads\\\\VAEX example project\\\\data\")"
   ]
  },
  {
   "cell_type": "code",
   "execution_count": 33,
   "metadata": {},
   "outputs": [
    {
     "data": {
      "text/plain": [
       "'C:\\\\Users\\\\hp\\\\Downloads\\\\VAEX example project\\\\data'"
      ]
     },
     "execution_count": 33,
     "metadata": {},
     "output_type": "execute_result"
    }
   ],
   "source": [
    "os.getcwd()"
   ]
  },
  {
   "cell_type": "code",
   "execution_count": 37,
   "metadata": {},
   "outputs": [],
   "source": [
    "# Convert each CSV file to HDF5:\n",
    "for file in os.listdir(): #make sure to cwd to folder where data is stored for this code to work\n",
    "    df_tmp = vaex.from_csv(file, convert=True, copy_index=False)"
   ]
  },
  {
   "cell_type": "code",
   "execution_count": 40,
   "metadata": {},
   "outputs": [],
   "source": [
    "#take all converted files(HDF5 files) and open with vaex in one df:\n",
    "df = vaex.open('C:\\\\Users\\\\hp\\\\Downloads\\\\VAEX example project\\\\data\\\\*.csv.hdf5')"
   ]
  },
  {
   "cell_type": "markdown",
   "metadata": {},
   "source": [
    "### Assess:"
   ]
  },
  {
   "cell_type": "code",
   "execution_count": 41,
   "metadata": {},
   "outputs": [
    {
     "data": {
      "text/html": [
       "<table>\n",
       "<thead>\n",
       "<tr><th>#                                    </th><th>duration_sec  </th><th>start_time                </th><th>end_time                  </th><th>start_station_id  </th><th>start_station_name                                 </th><th>start_station_latitude  </th><th>start_station_longitude  </th><th>end_station_id  </th><th>end_station_name                                   </th><th>end_station_latitude  </th><th>end_station_longitude  </th><th>bike_id  </th><th>user_type   </th><th>member_birth_year  </th><th>member_gender  </th><th>bike_share_for_all_trip  </th></tr>\n",
       "</thead>\n",
       "<tbody>\n",
       "<tr><td><i style='opacity: 0.6'>0</i>        </td><td>75284         </td><td>&#x27;2018-01-31 22:52:35.2390&#x27;</td><td>&#x27;2018-02-01 19:47:19.8240&#x27;</td><td>120.0             </td><td>&#x27;Mission Dolores Park&#x27;                             </td><td>37.7614205              </td><td>-122.4264353             </td><td>285.0           </td><td>&quot;Webster St at O&#x27;Farrell St&quot;                       </td><td>37.78352083526095     </td><td>-122.43115782737732    </td><td>2765     </td><td>&#x27;Subscriber&#x27;</td><td>1986.0             </td><td>&#x27;Male&#x27;         </td><td>&#x27;No&#x27;                     </td></tr>\n",
       "<tr><td><i style='opacity: 0.6'>1</i>        </td><td>85422         </td><td>&#x27;2018-01-31 16:13:34.3510&#x27;</td><td>&#x27;2018-02-01 15:57:17.3100&#x27;</td><td>15.0              </td><td>&quot;&#x27;San Francisco Ferry Building (Harry Bridges Pl...</td><td>37.795392               </td><td>-122.394203              </td><td>15.0            </td><td>&quot;&#x27;San Francisco Ferry Building (Harry Bridges Pl...</td><td>37.795392             </td><td>-122.394203            </td><td>2815     </td><td>&#x27;Customer&#x27;  </td><td>nan                </td><td>--             </td><td>&#x27;No&#x27;                     </td></tr>\n",
       "<tr><td><i style='opacity: 0.6'>2</i>        </td><td>71576         </td><td>&#x27;2018-01-31 14:23:55.8890&#x27;</td><td>&#x27;2018-02-01 10:16:52.1160&#x27;</td><td>304.0             </td><td>&#x27;Jackson St at 5th St&#x27;                             </td><td>37.348758686744794      </td><td>-121.89479783177376      </td><td>296.0           </td><td>&#x27;5th St at Virginia St&#x27;                            </td><td>37.3259984            </td><td>-121.87711999999999    </td><td>3039     </td><td>&#x27;Customer&#x27;  </td><td>1996.0             </td><td>&#x27;Male&#x27;         </td><td>&#x27;No&#x27;                     </td></tr>\n",
       "<tr><td><i style='opacity: 0.6'>3</i>        </td><td>61076         </td><td>&#x27;2018-01-31 14:53:23.5620&#x27;</td><td>&#x27;2018-02-01 07:51:20.5000&#x27;</td><td>75.0              </td><td>&#x27;Market St at Franklin St&#x27;                         </td><td>37.773793206088705      </td><td>-122.42123901844023      </td><td>47.0            </td><td>&#x27;4th St at Harrison St&#x27;                            </td><td>37.78095459960753     </td><td>-122.39974915981293    </td><td>321      </td><td>&#x27;Customer&#x27;  </td><td>nan                </td><td>--             </td><td>&#x27;No&#x27;                     </td></tr>\n",
       "<tr><td><i style='opacity: 0.6'>4</i>        </td><td>39966         </td><td>&#x27;2018-01-31 19:52:24.6670&#x27;</td><td>&#x27;2018-02-01 06:58:31.0530&#x27;</td><td>74.0              </td><td>&#x27;Laguna St at Hayes St&#x27;                            </td><td>37.77643481920474       </td><td>-122.42624402046205      </td><td>19.0            </td><td>&#x27;Post St at Kearny St&#x27;                             </td><td>37.788975             </td><td>-122.403452            </td><td>617      </td><td>&#x27;Subscriber&#x27;</td><td>1991.0             </td><td>&#x27;Male&#x27;         </td><td>&#x27;No&#x27;                     </td></tr>\n",
       "<tr><td>...                                  </td><td>...           </td><td>...                       </td><td>...                       </td><td>...               </td><td>...                                                </td><td>...                     </td><td>...                      </td><td>...             </td><td>...                                                </td><td>...                   </td><td>...                    </td><td>...      </td><td>...         </td><td>...                </td><td>...            </td><td>...                      </td></tr>\n",
       "<tr><td><i style='opacity: 0.6'>1,863,716</i></td><td>473           </td><td>&#x27;2018-12-01 00:11:54.8110&#x27;</td><td>&#x27;2018-12-01 00:19:48.5470&#x27;</td><td>345.0             </td><td>&#x27;Hubbell St at 16th St&#x27;                            </td><td>37.76647421515012       </td><td>-122.39829540252686      </td><td>81.0            </td><td>&#x27;Berry St at 4th St&#x27;                               </td><td>37.77588              </td><td>-122.39317             </td><td>3035     </td><td>&#x27;Subscriber&#x27;</td><td>1982.0             </td><td>&#x27;Female&#x27;       </td><td>&#x27;No&#x27;                     </td></tr>\n",
       "<tr><td><i style='opacity: 0.6'>1,863,717</i></td><td>841           </td><td>&#x27;2018-12-01 00:02:48.7260&#x27;</td><td>&#x27;2018-12-01 00:16:49.7660&#x27;</td><td>10.0              </td><td>&#x27;Washington St at Kearny St&#x27;                       </td><td>37.795392937254526      </td><td>-122.4047702550888       </td><td>58.0            </td><td>&#x27;Market St at 10th St&#x27;                             </td><td>37.776619000000004    </td><td>-122.41738500000001    </td><td>2034     </td><td>&#x27;Subscriber&#x27;</td><td>1999.0             </td><td>&#x27;Female&#x27;       </td><td>&#x27;No&#x27;                     </td></tr>\n",
       "<tr><td><i style='opacity: 0.6'>1,863,718</i></td><td>260           </td><td>&#x27;2018-12-01 00:05:27.6150&#x27;</td><td>&#x27;2018-12-01 00:09:47.9560&#x27;</td><td>245.0             </td><td>&#x27;Downtown Berkeley BART&#x27;                           </td><td>37.870139               </td><td>-122.268422              </td><td>255.0           </td><td>&#x27;Virginia St at Shattuck Ave&#x27;                      </td><td>37.876572549106854    </td><td>-122.26952791213988    </td><td>2243     </td><td>&#x27;Subscriber&#x27;</td><td>1991.0             </td><td>&#x27;Male&#x27;         </td><td>&#x27;No&#x27;                     </td></tr>\n",
       "<tr><td><i style='opacity: 0.6'>1,863,719</i></td><td>292           </td><td>&#x27;2018-12-01 00:03:06.5490&#x27;</td><td>&#x27;2018-12-01 00:07:59.0800&#x27;</td><td>93.0              </td><td>&#x27;4th St at Mission Bay Blvd S&#x27;                     </td><td>37.770407399999996      </td><td>-122.39119840000002      </td><td>126.0           </td><td>&#x27;Esprit Park&#x27;                                      </td><td>37.7616343            </td><td>-122.3906477           </td><td>545      </td><td>&#x27;Subscriber&#x27;</td><td>1963.0             </td><td>&#x27;Male&#x27;         </td><td>&#x27;No&#x27;                     </td></tr>\n",
       "<tr><td><i style='opacity: 0.6'>1,863,720</i></td><td>150           </td><td>&#x27;2018-12-01 00:03:05.7420&#x27;</td><td>&#x27;2018-12-01 00:05:36.0260&#x27;</td><td>107.0             </td><td>&#x27;17th St at Dolores St&#x27;                            </td><td>37.7630152              </td><td>-122.42649679999998      </td><td>119.0           </td><td>&#x27;18th St at Noe St&#x27;                                </td><td>37.7610471            </td><td>-122.43264170000002    </td><td>4319     </td><td>&#x27;Subscriber&#x27;</td><td>nan                </td><td>--             </td><td>&#x27;No&#x27;                     </td></tr>\n",
       "</tbody>\n",
       "</table>"
      ],
      "text/plain": [
       "#          duration_sec    start_time                  end_time                    start_station_id    start_station_name                                   start_station_latitude    start_station_longitude    end_station_id    end_station_name                                     end_station_latitude    end_station_longitude    bike_id    user_type     member_birth_year    member_gender    bike_share_for_all_trip\n",
       "0          75284           '2018-01-31 22:52:35.2390'  '2018-02-01 19:47:19.8240'  120.0               'Mission Dolores Park'                               37.7614205                -122.4264353               285.0             \"Webster St at O'Farrell St\"                         37.78352083526095       -122.43115782737732      2765       'Subscriber'  1986.0               'Male'           'No'\n",
       "1          85422           '2018-01-31 16:13:34.3510'  '2018-02-01 15:57:17.3100'  15.0                \"'San Francisco Ferry Building (Harry Bridges Pl...  37.795392                 -122.394203                15.0              \"'San Francisco Ferry Building (Harry Bridges Pl...  37.795392               -122.394203              2815       'Customer'    nan                  --               'No'\n",
       "2          71576           '2018-01-31 14:23:55.8890'  '2018-02-01 10:16:52.1160'  304.0               'Jackson St at 5th St'                               37.348758686744794        -121.89479783177376        296.0             '5th St at Virginia St'                              37.3259984              -121.87711999999999      3039       'Customer'    1996.0               'Male'           'No'\n",
       "3          61076           '2018-01-31 14:53:23.5620'  '2018-02-01 07:51:20.5000'  75.0                'Market St at Franklin St'                           37.773793206088705        -122.42123901844023        47.0              '4th St at Harrison St'                              37.78095459960753       -122.39974915981293      321        'Customer'    nan                  --               'No'\n",
       "4          39966           '2018-01-31 19:52:24.6670'  '2018-02-01 06:58:31.0530'  74.0                'Laguna St at Hayes St'                              37.77643481920474         -122.42624402046205        19.0              'Post St at Kearny St'                               37.788975               -122.403452              617        'Subscriber'  1991.0               'Male'           'No'\n",
       "...        ...             ...                         ...                         ...                 ...                                                  ...                       ...                        ...               ...                                                  ...                     ...                      ...        ...           ...                  ...              ...\n",
       "1,863,716  473             '2018-12-01 00:11:54.8110'  '2018-12-01 00:19:48.5470'  345.0               'Hubbell St at 16th St'                              37.76647421515012         -122.39829540252686        81.0              'Berry St at 4th St'                                 37.77588                -122.39317               3035       'Subscriber'  1982.0               'Female'         'No'\n",
       "1,863,717  841             '2018-12-01 00:02:48.7260'  '2018-12-01 00:16:49.7660'  10.0                'Washington St at Kearny St'                         37.795392937254526        -122.4047702550888         58.0              'Market St at 10th St'                               37.776619000000004      -122.41738500000001      2034       'Subscriber'  1999.0               'Female'         'No'\n",
       "1,863,718  260             '2018-12-01 00:05:27.6150'  '2018-12-01 00:09:47.9560'  245.0               'Downtown Berkeley BART'                             37.870139                 -122.268422                255.0             'Virginia St at Shattuck Ave'                        37.876572549106854      -122.26952791213988      2243       'Subscriber'  1991.0               'Male'           'No'\n",
       "1,863,719  292             '2018-12-01 00:03:06.5490'  '2018-12-01 00:07:59.0800'  93.0                '4th St at Mission Bay Blvd S'                       37.770407399999996        -122.39119840000002        126.0             'Esprit Park'                                        37.7616343              -122.3906477             545        'Subscriber'  1963.0               'Male'           'No'\n",
       "1,863,720  150             '2018-12-01 00:03:05.7420'  '2018-12-01 00:05:36.0260'  107.0               '17th St at Dolores St'                              37.7630152                -122.42649679999998        119.0             '18th St at Noe St'                                  37.7610471              -122.43264170000002      4319       'Subscriber'  nan                  --               'No'"
      ]
     },
     "execution_count": 41,
     "metadata": {},
     "output_type": "execute_result"
    }
   ],
   "source": [
    "df"
   ]
  },
  {
   "cell_type": "code",
   "execution_count": 45,
   "metadata": {},
   "outputs": [
    {
     "data": {
      "text/plain": [
       "(1863721, 16)"
      ]
     },
     "execution_count": 45,
     "metadata": {},
     "output_type": "execute_result"
    }
   ],
   "source": [
    "#no of rows and columns:\n",
    "df.shape"
   ]
  },
  {
   "cell_type": "code",
   "execution_count": 47,
   "metadata": {},
   "outputs": [
    {
     "data": {
      "text/html": [
       "<div>\n",
       "<style scoped>\n",
       "    .dataframe tbody tr th:only-of-type {\n",
       "        vertical-align: middle;\n",
       "    }\n",
       "\n",
       "    .dataframe tbody tr th {\n",
       "        vertical-align: top;\n",
       "    }\n",
       "\n",
       "    .dataframe thead th {\n",
       "        text-align: right;\n",
       "    }\n",
       "</style>\n",
       "<table border=\"1\" class=\"dataframe\">\n",
       "  <thead>\n",
       "    <tr style=\"text-align: right;\">\n",
       "      <th></th>\n",
       "      <th>data_type</th>\n",
       "      <th>count</th>\n",
       "      <th>NA</th>\n",
       "      <th>mean</th>\n",
       "      <th>std</th>\n",
       "      <th>min</th>\n",
       "      <th>max</th>\n",
       "    </tr>\n",
       "  </thead>\n",
       "  <tbody>\n",
       "    <tr>\n",
       "      <th>duration_sec</th>\n",
       "      <td>int64</td>\n",
       "      <td>1863721</td>\n",
       "      <td>0</td>\n",
       "      <td>857.3025710393348</td>\n",
       "      <td>2370.38</td>\n",
       "      <td>61</td>\n",
       "      <td>86366</td>\n",
       "    </tr>\n",
       "    <tr>\n",
       "      <th>start_time</th>\n",
       "      <td>string</td>\n",
       "      <td>1863721</td>\n",
       "      <td>0</td>\n",
       "      <td>--</td>\n",
       "      <td>--</td>\n",
       "      <td>--</td>\n",
       "      <td>--</td>\n",
       "    </tr>\n",
       "    <tr>\n",
       "      <th>end_time</th>\n",
       "      <td>string</td>\n",
       "      <td>1863721</td>\n",
       "      <td>0</td>\n",
       "      <td>--</td>\n",
       "      <td>--</td>\n",
       "      <td>--</td>\n",
       "      <td>--</td>\n",
       "    </tr>\n",
       "    <tr>\n",
       "      <th>start_station_id</th>\n",
       "      <td>float64</td>\n",
       "      <td>1851950</td>\n",
       "      <td>11771</td>\n",
       "      <td>119.67443613488486</td>\n",
       "      <td>100.398</td>\n",
       "      <td>3</td>\n",
       "      <td>381</td>\n",
       "    </tr>\n",
       "    <tr>\n",
       "      <th>start_station_name</th>\n",
       "      <td>string</td>\n",
       "      <td>1851950</td>\n",
       "      <td>11771</td>\n",
       "      <td>--</td>\n",
       "      <td>--</td>\n",
       "      <td>--</td>\n",
       "      <td>--</td>\n",
       "    </tr>\n",
       "    <tr>\n",
       "      <th>start_station_latitude</th>\n",
       "      <td>float64</td>\n",
       "      <td>1863721</td>\n",
       "      <td>0</td>\n",
       "      <td>37.766780024614675</td>\n",
       "      <td>0.105769</td>\n",
       "      <td>37.2633</td>\n",
       "      <td>45.51</td>\n",
       "    </tr>\n",
       "    <tr>\n",
       "      <th>start_station_longitude</th>\n",
       "      <td>float64</td>\n",
       "      <td>1863721</td>\n",
       "      <td>0</td>\n",
       "      <td>-122.34918427194773</td>\n",
       "      <td>0.165463</td>\n",
       "      <td>-122.474</td>\n",
       "      <td>-73.57</td>\n",
       "    </tr>\n",
       "    <tr>\n",
       "      <th>end_station_id</th>\n",
       "      <td>float64</td>\n",
       "      <td>1851950</td>\n",
       "      <td>11771</td>\n",
       "      <td>118.17297605226923</td>\n",
       "      <td>100.44</td>\n",
       "      <td>3</td>\n",
       "      <td>381</td>\n",
       "    </tr>\n",
       "    <tr>\n",
       "      <th>end_station_name</th>\n",
       "      <td>string</td>\n",
       "      <td>1851950</td>\n",
       "      <td>11771</td>\n",
       "      <td>--</td>\n",
       "      <td>--</td>\n",
       "      <td>--</td>\n",
       "      <td>--</td>\n",
       "    </tr>\n",
       "    <tr>\n",
       "      <th>end_station_latitude</th>\n",
       "      <td>float64</td>\n",
       "      <td>1863721</td>\n",
       "      <td>0</td>\n",
       "      <td>37.76690033448883</td>\n",
       "      <td>0.105648</td>\n",
       "      <td>37.2633</td>\n",
       "      <td>45.51</td>\n",
       "    </tr>\n",
       "    <tr>\n",
       "      <th>end_station_longitude</th>\n",
       "      <td>float64</td>\n",
       "      <td>1863721</td>\n",
       "      <td>0</td>\n",
       "      <td>-122.34866070108484</td>\n",
       "      <td>0.16506</td>\n",
       "      <td>-122.474</td>\n",
       "      <td>-73.57</td>\n",
       "    </tr>\n",
       "    <tr>\n",
       "      <th>bike_id</th>\n",
       "      <td>int64</td>\n",
       "      <td>1863721</td>\n",
       "      <td>0</td>\n",
       "      <td>2296.8505414705314</td>\n",
       "      <td>1287.73</td>\n",
       "      <td>11</td>\n",
       "      <td>6234</td>\n",
       "    </tr>\n",
       "    <tr>\n",
       "      <th>user_type</th>\n",
       "      <td>string</td>\n",
       "      <td>1863721</td>\n",
       "      <td>0</td>\n",
       "      <td>--</td>\n",
       "      <td>--</td>\n",
       "      <td>--</td>\n",
       "      <td>--</td>\n",
       "    </tr>\n",
       "    <tr>\n",
       "      <th>member_birth_year</th>\n",
       "      <td>float64</td>\n",
       "      <td>1753003</td>\n",
       "      <td>110718</td>\n",
       "      <td>1983.0879621997224</td>\n",
       "      <td>10.4429</td>\n",
       "      <td>1881</td>\n",
       "      <td>2000</td>\n",
       "    </tr>\n",
       "    <tr>\n",
       "      <th>member_gender</th>\n",
       "      <td>string</td>\n",
       "      <td>1753354</td>\n",
       "      <td>110367</td>\n",
       "      <td>--</td>\n",
       "      <td>--</td>\n",
       "      <td>--</td>\n",
       "      <td>--</td>\n",
       "    </tr>\n",
       "    <tr>\n",
       "      <th>bike_share_for_all_trip</th>\n",
       "      <td>string</td>\n",
       "      <td>1863721</td>\n",
       "      <td>0</td>\n",
       "      <td>--</td>\n",
       "      <td>--</td>\n",
       "      <td>--</td>\n",
       "      <td>--</td>\n",
       "    </tr>\n",
       "  </tbody>\n",
       "</table>\n",
       "</div>"
      ],
      "text/plain": [
       "                        data_type    count      NA                 mean  \\\n",
       "duration_sec                int64  1863721       0    857.3025710393348   \n",
       "start_time                 string  1863721       0                   --   \n",
       "end_time                   string  1863721       0                   --   \n",
       "start_station_id          float64  1851950   11771   119.67443613488486   \n",
       "start_station_name         string  1851950   11771                   --   \n",
       "start_station_latitude    float64  1863721       0   37.766780024614675   \n",
       "start_station_longitude   float64  1863721       0  -122.34918427194773   \n",
       "end_station_id            float64  1851950   11771   118.17297605226923   \n",
       "end_station_name           string  1851950   11771                   --   \n",
       "end_station_latitude      float64  1863721       0    37.76690033448883   \n",
       "end_station_longitude     float64  1863721       0  -122.34866070108484   \n",
       "bike_id                     int64  1863721       0   2296.8505414705314   \n",
       "user_type                  string  1863721       0                   --   \n",
       "member_birth_year         float64  1753003  110718   1983.0879621997224   \n",
       "member_gender              string  1753354  110367                   --   \n",
       "bike_share_for_all_trip    string  1863721       0                   --   \n",
       "\n",
       "                              std      min    max  \n",
       "duration_sec              2370.38       61  86366  \n",
       "start_time                     --       --     --  \n",
       "end_time                       --       --     --  \n",
       "start_station_id          100.398        3    381  \n",
       "start_station_name             --       --     --  \n",
       "start_station_latitude   0.105769  37.2633  45.51  \n",
       "start_station_longitude  0.165463 -122.474 -73.57  \n",
       "end_station_id             100.44        3    381  \n",
       "end_station_name               --       --     --  \n",
       "end_station_latitude     0.105648  37.2633  45.51  \n",
       "end_station_longitude     0.16506 -122.474 -73.57  \n",
       "bike_id                   1287.73       11   6234  \n",
       "user_type                      --       --     --  \n",
       "member_birth_year         10.4429     1881   2000  \n",
       "member_gender                  --       --     --  \n",
       "bike_share_for_all_trip        --       --     --  "
      ]
     },
     "execution_count": 47,
     "metadata": {},
     "output_type": "execute_result"
    }
   ],
   "source": [
    "#summary stats:\n",
    "df.describe().T"
   ]
  },
  {
   "cell_type": "code",
   "execution_count": 52,
   "metadata": {},
   "outputs": [
    {
     "data": {
      "text/html": [
       "<style>.vaex-description pre {\n",
       "          max-width : 450px;\n",
       "          white-space : nowrap;\n",
       "          overflow : hidden;\n",
       "          text-overflow: ellipsis;\n",
       "        }\n",
       "\n",
       "        .vex-description pre:hover {\n",
       "          max-width : initial;\n",
       "          white-space: pre;\n",
       "        }</style>"
      ],
      "text/plain": [
       "<IPython.core.display.HTML object>"
      ]
     },
     "metadata": {},
     "output_type": "display_data"
    },
    {
     "data": {
      "text/html": [
       "<div><h2>KeysView(<vaex.dataset.DatasetConcatenated object at 0x000001E5057C4508>)</h2> <b>rows</b>: 1,863,721</div><h2>Columns:</h2><table class='table-striped'><thead><tr><th>column</th><th>type</th><th>unit</th><th>description</th><th>expression</th></tr></thead><tr><td>duration_sec</td><td>int64</td><td></td><td ><pre></pre></td><td></td></tr><tr><td>start_time</td><td>str</td><td></td><td ><pre></pre></td><td></td></tr><tr><td>end_time</td><td>str</td><td></td><td ><pre></pre></td><td></td></tr><tr><td>start_station_id</td><td>float64</td><td></td><td ><pre></pre></td><td></td></tr><tr><td>start_station_name</td><td>str</td><td></td><td ><pre></pre></td><td></td></tr><tr><td>start_station_latitude</td><td>float64</td><td></td><td ><pre></pre></td><td></td></tr><tr><td>start_station_longitude</td><td>float64</td><td></td><td ><pre></pre></td><td></td></tr><tr><td>end_station_id</td><td>float64</td><td></td><td ><pre></pre></td><td></td></tr><tr><td>end_station_name</td><td>str</td><td></td><td ><pre></pre></td><td></td></tr><tr><td>end_station_latitude</td><td>float64</td><td></td><td ><pre></pre></td><td></td></tr><tr><td>end_station_longitude</td><td>float64</td><td></td><td ><pre></pre></td><td></td></tr><tr><td>bike_id</td><td>int64</td><td></td><td ><pre></pre></td><td></td></tr><tr><td>user_type</td><td>str</td><td></td><td ><pre></pre></td><td></td></tr><tr><td>member_birth_year</td><td>float64</td><td></td><td ><pre></pre></td><td></td></tr><tr><td>member_gender</td><td>str</td><td></td><td ><pre></pre></td><td></td></tr><tr><td>bike_share_for_all_trip</td><td>str</td><td></td><td ><pre></pre></td><td></td></tr></table><h2>Data:</h2><table>\n",
       "<thead>\n",
       "<tr><th>#                                    </th><th>duration_sec  </th><th>start_time                </th><th>end_time                  </th><th>start_station_id  </th><th>start_station_name                                 </th><th>start_station_latitude  </th><th>start_station_longitude  </th><th>end_station_id  </th><th>end_station_name                                   </th><th>end_station_latitude  </th><th>end_station_longitude  </th><th>bike_id  </th><th>user_type   </th><th>member_birth_year  </th><th>member_gender  </th><th>bike_share_for_all_trip  </th></tr>\n",
       "</thead>\n",
       "<tbody>\n",
       "<tr><td><i style='opacity: 0.6'>0</i>        </td><td>75284         </td><td>&#x27;2018-01-31 22:52:35.2390&#x27;</td><td>&#x27;2018-02-01 19:47:19.8240&#x27;</td><td>120.0             </td><td>&#x27;Mission Dolores Park&#x27;                             </td><td>37.7614205              </td><td>-122.4264353             </td><td>285.0           </td><td>&quot;Webster St at O&#x27;Farrell St&quot;                       </td><td>37.78352083526095     </td><td>-122.43115782737732    </td><td>2765     </td><td>&#x27;Subscriber&#x27;</td><td>1986.0             </td><td>&#x27;Male&#x27;         </td><td>&#x27;No&#x27;                     </td></tr>\n",
       "<tr><td><i style='opacity: 0.6'>1</i>        </td><td>85422         </td><td>&#x27;2018-01-31 16:13:34.3510&#x27;</td><td>&#x27;2018-02-01 15:57:17.3100&#x27;</td><td>15.0              </td><td>&quot;&#x27;San Francisco Ferry Building (Harry Bridges Pl...</td><td>37.795392               </td><td>-122.394203              </td><td>15.0            </td><td>&quot;&#x27;San Francisco Ferry Building (Harry Bridges Pl...</td><td>37.795392             </td><td>-122.394203            </td><td>2815     </td><td>&#x27;Customer&#x27;  </td><td>nan                </td><td>--             </td><td>&#x27;No&#x27;                     </td></tr>\n",
       "<tr><td><i style='opacity: 0.6'>2</i>        </td><td>71576         </td><td>&#x27;2018-01-31 14:23:55.8890&#x27;</td><td>&#x27;2018-02-01 10:16:52.1160&#x27;</td><td>304.0             </td><td>&#x27;Jackson St at 5th St&#x27;                             </td><td>37.348758686744794      </td><td>-121.89479783177376      </td><td>296.0           </td><td>&#x27;5th St at Virginia St&#x27;                            </td><td>37.3259984            </td><td>-121.87711999999999    </td><td>3039     </td><td>&#x27;Customer&#x27;  </td><td>1996.0             </td><td>&#x27;Male&#x27;         </td><td>&#x27;No&#x27;                     </td></tr>\n",
       "<tr><td><i style='opacity: 0.6'>3</i>        </td><td>61076         </td><td>&#x27;2018-01-31 14:53:23.5620&#x27;</td><td>&#x27;2018-02-01 07:51:20.5000&#x27;</td><td>75.0              </td><td>&#x27;Market St at Franklin St&#x27;                         </td><td>37.773793206088705      </td><td>-122.42123901844023      </td><td>47.0            </td><td>&#x27;4th St at Harrison St&#x27;                            </td><td>37.78095459960753     </td><td>-122.39974915981293    </td><td>321      </td><td>&#x27;Customer&#x27;  </td><td>nan                </td><td>--             </td><td>&#x27;No&#x27;                     </td></tr>\n",
       "<tr><td><i style='opacity: 0.6'>4</i>        </td><td>39966         </td><td>&#x27;2018-01-31 19:52:24.6670&#x27;</td><td>&#x27;2018-02-01 06:58:31.0530&#x27;</td><td>74.0              </td><td>&#x27;Laguna St at Hayes St&#x27;                            </td><td>37.77643481920474       </td><td>-122.42624402046205      </td><td>19.0            </td><td>&#x27;Post St at Kearny St&#x27;                             </td><td>37.788975             </td><td>-122.403452            </td><td>617      </td><td>&#x27;Subscriber&#x27;</td><td>1991.0             </td><td>&#x27;Male&#x27;         </td><td>&#x27;No&#x27;                     </td></tr>\n",
       "<tr><td>...                                  </td><td>...           </td><td>...                       </td><td>...                       </td><td>...               </td><td>...                                                </td><td>...                     </td><td>...                      </td><td>...             </td><td>...                                                </td><td>...                   </td><td>...                    </td><td>...      </td><td>...         </td><td>...                </td><td>...            </td><td>...                      </td></tr>\n",
       "<tr><td><i style='opacity: 0.6'>1,863,716</i></td><td>473           </td><td>&#x27;2018-12-01 00:11:54.8110&#x27;</td><td>&#x27;2018-12-01 00:19:48.5470&#x27;</td><td>345.0             </td><td>&#x27;Hubbell St at 16th St&#x27;                            </td><td>37.76647421515012       </td><td>-122.39829540252686      </td><td>81.0            </td><td>&#x27;Berry St at 4th St&#x27;                               </td><td>37.77588              </td><td>-122.39317             </td><td>3035     </td><td>&#x27;Subscriber&#x27;</td><td>1982.0             </td><td>&#x27;Female&#x27;       </td><td>&#x27;No&#x27;                     </td></tr>\n",
       "<tr><td><i style='opacity: 0.6'>1,863,717</i></td><td>841           </td><td>&#x27;2018-12-01 00:02:48.7260&#x27;</td><td>&#x27;2018-12-01 00:16:49.7660&#x27;</td><td>10.0              </td><td>&#x27;Washington St at Kearny St&#x27;                       </td><td>37.795392937254526      </td><td>-122.4047702550888       </td><td>58.0            </td><td>&#x27;Market St at 10th St&#x27;                             </td><td>37.776619000000004    </td><td>-122.41738500000001    </td><td>2034     </td><td>&#x27;Subscriber&#x27;</td><td>1999.0             </td><td>&#x27;Female&#x27;       </td><td>&#x27;No&#x27;                     </td></tr>\n",
       "<tr><td><i style='opacity: 0.6'>1,863,718</i></td><td>260           </td><td>&#x27;2018-12-01 00:05:27.6150&#x27;</td><td>&#x27;2018-12-01 00:09:47.9560&#x27;</td><td>245.0             </td><td>&#x27;Downtown Berkeley BART&#x27;                           </td><td>37.870139               </td><td>-122.268422              </td><td>255.0           </td><td>&#x27;Virginia St at Shattuck Ave&#x27;                      </td><td>37.876572549106854    </td><td>-122.26952791213988    </td><td>2243     </td><td>&#x27;Subscriber&#x27;</td><td>1991.0             </td><td>&#x27;Male&#x27;         </td><td>&#x27;No&#x27;                     </td></tr>\n",
       "<tr><td><i style='opacity: 0.6'>1,863,719</i></td><td>292           </td><td>&#x27;2018-12-01 00:03:06.5490&#x27;</td><td>&#x27;2018-12-01 00:07:59.0800&#x27;</td><td>93.0              </td><td>&#x27;4th St at Mission Bay Blvd S&#x27;                     </td><td>37.770407399999996      </td><td>-122.39119840000002      </td><td>126.0           </td><td>&#x27;Esprit Park&#x27;                                      </td><td>37.7616343            </td><td>-122.3906477           </td><td>545      </td><td>&#x27;Subscriber&#x27;</td><td>1963.0             </td><td>&#x27;Male&#x27;         </td><td>&#x27;No&#x27;                     </td></tr>\n",
       "<tr><td><i style='opacity: 0.6'>1,863,720</i></td><td>150           </td><td>&#x27;2018-12-01 00:03:05.7420&#x27;</td><td>&#x27;2018-12-01 00:05:36.0260&#x27;</td><td>107.0             </td><td>&#x27;17th St at Dolores St&#x27;                            </td><td>37.7630152              </td><td>-122.42649679999998      </td><td>119.0           </td><td>&#x27;18th St at Noe St&#x27;                                </td><td>37.7610471            </td><td>-122.43264170000002    </td><td>4319     </td><td>&#x27;Subscriber&#x27;</td><td>nan                </td><td>--             </td><td>&#x27;No&#x27;                     </td></tr>\n",
       "</tbody>\n",
       "</table>"
      ],
      "text/plain": [
       "<IPython.core.display.HTML object>"
      ]
     },
     "metadata": {},
     "output_type": "display_data"
    }
   ],
   "source": [
    "df.info()"
   ]
  },
  {
   "cell_type": "markdown",
   "metadata": {},
   "source": [
    "### Clean data:"
   ]
  },
  {
   "cell_type": "code",
   "execution_count": 70,
   "metadata": {},
   "outputs": [],
   "source": [
    "#change incorrect date columns to date time format: \n",
    "\n",
    "#start_time:\n",
    "df['start_time'] = df['start_time'].astype('datetime64[ns]') #vaex doesn't recognize 'datetime64'\n",
    "\n",
    "#end_time:\n",
    "df['end_time'] = df['end_time'].astype('datetime64[ns]')"
   ]
  },
  {
   "cell_type": "code",
   "execution_count": 73,
   "metadata": {},
   "outputs": [
    {
     "data": {
      "text/plain": [
       "(datetime64[ns], datetime64[ns])"
      ]
     },
     "execution_count": 73,
     "metadata": {},
     "output_type": "execute_result"
    }
   ],
   "source": [
    "#test:\n",
    "df['end_time'].data_type(), df['start_time'].data_type()"
   ]
  },
  {
   "cell_type": "code",
   "execution_count": 102,
   "metadata": {},
   "outputs": [],
   "source": [
    "#create column for user age:\n",
    "df['member_age'] = 2018 - df['member_birth_year'].astype('int')"
   ]
  },
  {
   "cell_type": "code",
   "execution_count": 91,
   "metadata": {},
   "outputs": [
    {
     "data": {
      "text/plain": [
       "-2147481630    110718\n",
       " 30            102836\n",
       " 31             86554\n",
       " 29             84830\n",
       " 28             81999\n",
       "                ...  \n",
       " 109                4\n",
       " 129                3\n",
       " 112                2\n",
       " 115                1\n",
       " 88                 1\n",
       "Length: 87, dtype: int64"
      ]
     },
     "execution_count": 91,
     "metadata": {},
     "output_type": "execute_result"
    }
   ],
   "source": [
    "#test:\n",
    "df.member_age.value_counts()"
   ]
  },
  {
   "cell_type": "code",
   "execution_count": 77,
   "metadata": {},
   "outputs": [
    {
     "data": {
      "text/html": [
       "<table>\n",
       "<thead>\n",
       "<tr><th>#                                  </th><th>member_birth_year  </th><th>member_age  </th></tr>\n",
       "</thead>\n",
       "<tbody>\n",
       "<tr><td><i style='opacity: 0.6'>0</i>      </td><td>nan                </td><td>-2147481630 </td></tr>\n",
       "<tr><td><i style='opacity: 0.6'>1</i>      </td><td>nan                </td><td>-2147481630 </td></tr>\n",
       "<tr><td><i style='opacity: 0.6'>2</i>      </td><td>nan                </td><td>-2147481630 </td></tr>\n",
       "<tr><td><i style='opacity: 0.6'>3</i>      </td><td>nan                </td><td>-2147481630 </td></tr>\n",
       "<tr><td><i style='opacity: 0.6'>4</i>      </td><td>nan                </td><td>-2147481630 </td></tr>\n",
       "<tr><td>...                                </td><td>...                </td><td>...         </td></tr>\n",
       "<tr><td><i style='opacity: 0.6'>110,713</i></td><td>nan                </td><td>-2147481630 </td></tr>\n",
       "<tr><td><i style='opacity: 0.6'>110,714</i></td><td>nan                </td><td>-2147481630 </td></tr>\n",
       "<tr><td><i style='opacity: 0.6'>110,715</i></td><td>nan                </td><td>-2147481630 </td></tr>\n",
       "<tr><td><i style='opacity: 0.6'>110,716</i></td><td>nan                </td><td>-2147481630 </td></tr>\n",
       "<tr><td><i style='opacity: 0.6'>110,717</i></td><td>nan                </td><td>-2147481630 </td></tr>\n",
       "</tbody>\n",
       "</table>"
      ],
      "text/plain": [
       "#        member_birth_year    member_age\n",
       "0        nan                  -2147481630\n",
       "1        nan                  -2147481630\n",
       "2        nan                  -2147481630\n",
       "3        nan                  -2147481630\n",
       "4        nan                  -2147481630\n",
       "...      ...                  ...\n",
       "110,713  nan                  -2147481630\n",
       "110,714  nan                  -2147481630\n",
       "110,715  nan                  -2147481630\n",
       "110,716  nan                  -2147481630\n",
       "110,717  nan                  -2147481630"
      ]
     },
     "execution_count": 77,
     "metadata": {},
     "output_type": "execute_result"
    }
   ],
   "source": [
    "df[df.member_age == -2147481630][['member_birth_year', 'member_age']]"
   ]
  },
  {
   "cell_type": "code",
   "execution_count": 92,
   "metadata": {},
   "outputs": [
    {
     "data": {
      "text/plain": [
       "array(110718, dtype=int64)"
      ]
     },
     "execution_count": 92,
     "metadata": {},
     "output_type": "execute_result"
    }
   ],
   "source": [
    "df[df.member_age == -2147481630].count()"
   ]
  },
  {
   "cell_type": "code",
   "execution_count": 105,
   "metadata": {},
   "outputs": [],
   "source": [
    "#change strange values above to 0:\n",
    "import numpy as np\n",
    "\n",
    "df['member_age_new'] = df.func.where(df['member_age'] == -2147481630, 0, df['member_age'])"
   ]
  },
  {
   "cell_type": "code",
   "execution_count": 106,
   "metadata": {},
   "outputs": [
    {
     "data": {
      "text/html": [
       "<table>\n",
       "<thead>\n",
       "<tr><th>#                            </th><th style=\"text-align: right;\">  duration_sec</th><th>start_time                   </th><th>end_time                     </th><th style=\"text-align: right;\">  start_station_id</th><th>start_station_name                                 </th><th style=\"text-align: right;\">  start_station_latitude</th><th style=\"text-align: right;\">  start_station_longitude</th><th style=\"text-align: right;\">  end_station_id</th><th>end_station_name                                   </th><th style=\"text-align: right;\">  end_station_latitude</th><th style=\"text-align: right;\">  end_station_longitude</th><th style=\"text-align: right;\">  bike_id</th><th>user_type   </th><th style=\"text-align: right;\">  member_birth_year</th><th>member_gender  </th><th>bike_share_for_all_trip  </th><th style=\"text-align: right;\">  member_age</th><th style=\"text-align: right;\">  member_age_new</th></tr>\n",
       "</thead>\n",
       "<tbody>\n",
       "<tr><td><i style='opacity: 0.6'>0</i></td><td style=\"text-align: right;\">         75284</td><td>2018-01-31 22:52:35.239000000</td><td>2018-02-01 19:47:19.824000000</td><td style=\"text-align: right;\">               120</td><td>&#x27;Mission Dolores Park&#x27;                             </td><td style=\"text-align: right;\">                 37.7614</td><td style=\"text-align: right;\">                 -122.426</td><td style=\"text-align: right;\">             285</td><td>&quot;Webster St at O&#x27;Farrell St&quot;                       </td><td style=\"text-align: right;\">               37.7835</td><td style=\"text-align: right;\">               -122.431</td><td style=\"text-align: right;\">     2765</td><td>&#x27;Subscriber&#x27;</td><td style=\"text-align: right;\">               1986</td><td>&#x27;Male&#x27;         </td><td>&#x27;No&#x27;                     </td><td style=\"text-align: right;\">32          </td><td style=\"text-align: right;\">              32</td></tr>\n",
       "<tr><td><i style='opacity: 0.6'>1</i></td><td style=\"text-align: right;\">         85422</td><td>2018-01-31 16:13:34.351000000</td><td>2018-02-01 15:57:17.310000000</td><td style=\"text-align: right;\">                15</td><td>&quot;&#x27;San Francisco Ferry Building (Harry Bridges Pl...</td><td style=\"text-align: right;\">                 37.7954</td><td style=\"text-align: right;\">                 -122.394</td><td style=\"text-align: right;\">              15</td><td>&quot;&#x27;San Francisco Ferry Building (Harry Bridges Pl...</td><td style=\"text-align: right;\">               37.7954</td><td style=\"text-align: right;\">               -122.394</td><td style=\"text-align: right;\">     2815</td><td>&#x27;Customer&#x27;  </td><td style=\"text-align: right;\">                nan</td><td>--             </td><td>&#x27;No&#x27;                     </td><td style=\"text-align: right;\">-2.14748e+09</td><td style=\"text-align: right;\">               0</td></tr>\n",
       "</tbody>\n",
       "</table>"
      ],
      "text/plain": [
       "  #    duration_sec  start_time                     end_time                         start_station_id  start_station_name                                     start_station_latitude    start_station_longitude    end_station_id  end_station_name                                       end_station_latitude    end_station_longitude    bike_id  user_type       member_birth_year  member_gender    bike_share_for_all_trip      member_age    member_age_new\n",
       "  0           75284  2018-01-31 22:52:35.239000000  2018-02-01 19:47:19.824000000                 120  'Mission Dolores Park'                                                37.7614                   -122.426               285  \"Webster St at O'Farrell St\"                                        37.7835                 -122.431       2765  'Subscriber'                 1986  'Male'           'No'                       32                          32\n",
       "  1           85422  2018-01-31 16:13:34.351000000  2018-02-01 15:57:17.310000000                  15  \"'San Francisco Ferry Building (Harry Bridges Pl...                   37.7954                   -122.394                15  \"'San Francisco Ferry Building (Harry Bridges Pl...                 37.7954                 -122.394       2815  'Customer'                    nan  --               'No'                       -2.14748e+09                 0"
      ]
     },
     "execution_count": 106,
     "metadata": {},
     "output_type": "execute_result"
    }
   ],
   "source": [
    "df.head(2)"
   ]
  },
  {
   "cell_type": "code",
   "execution_count": 107,
   "metadata": {},
   "outputs": [],
   "source": [
    "#delete old col:\n",
    "del(df.member_age)"
   ]
  },
  {
   "cell_type": "code",
   "execution_count": 112,
   "metadata": {},
   "outputs": [],
   "source": [
    "#create days of the week col:\n",
    "\n",
    "\n",
    "#import datetime lib:\n",
    "import datetime as dt\n",
    "\n",
    "df['weekday'] = df['start_time'].dt.strftime('%a')"
   ]
  },
  {
   "cell_type": "code",
   "execution_count": 113,
   "metadata": {},
   "outputs": [
    {
     "data": {
      "text/html": [
       "<table>\n",
       "<thead>\n",
       "<tr><th>#                            </th><th style=\"text-align: right;\">  duration_sec</th><th>start_time                   </th><th>end_time                     </th><th style=\"text-align: right;\">  start_station_id</th><th>start_station_name                                 </th><th style=\"text-align: right;\">  start_station_latitude</th><th style=\"text-align: right;\">  start_station_longitude</th><th style=\"text-align: right;\">  end_station_id</th><th>end_station_name                                   </th><th style=\"text-align: right;\">  end_station_latitude</th><th style=\"text-align: right;\">  end_station_longitude</th><th style=\"text-align: right;\">  bike_id</th><th>user_type   </th><th style=\"text-align: right;\">  member_birth_year</th><th>member_gender  </th><th>bike_share_for_all_trip  </th><th style=\"text-align: right;\">  member_age</th><th style=\"text-align: right;\">  member_age_new</th><th>weekday  </th></tr>\n",
       "</thead>\n",
       "<tbody>\n",
       "<tr><td><i style='opacity: 0.6'>0</i></td><td style=\"text-align: right;\">         75284</td><td>2018-01-31 22:52:35.239000000</td><td>2018-02-01 19:47:19.824000000</td><td style=\"text-align: right;\">               120</td><td>&#x27;Mission Dolores Park&#x27;                             </td><td style=\"text-align: right;\">                 37.7614</td><td style=\"text-align: right;\">                 -122.426</td><td style=\"text-align: right;\">             285</td><td>&quot;Webster St at O&#x27;Farrell St&quot;                       </td><td style=\"text-align: right;\">               37.7835</td><td style=\"text-align: right;\">               -122.431</td><td style=\"text-align: right;\">     2765</td><td>&#x27;Subscriber&#x27;</td><td style=\"text-align: right;\">               1986</td><td>&#x27;Male&#x27;         </td><td>&#x27;No&#x27;                     </td><td style=\"text-align: right;\">32          </td><td style=\"text-align: right;\">              32</td><td>&#x27;Wed&#x27;    </td></tr>\n",
       "<tr><td><i style='opacity: 0.6'>1</i></td><td style=\"text-align: right;\">         85422</td><td>2018-01-31 16:13:34.351000000</td><td>2018-02-01 15:57:17.310000000</td><td style=\"text-align: right;\">                15</td><td>&quot;&#x27;San Francisco Ferry Building (Harry Bridges Pl...</td><td style=\"text-align: right;\">                 37.7954</td><td style=\"text-align: right;\">                 -122.394</td><td style=\"text-align: right;\">              15</td><td>&quot;&#x27;San Francisco Ferry Building (Harry Bridges Pl...</td><td style=\"text-align: right;\">               37.7954</td><td style=\"text-align: right;\">               -122.394</td><td style=\"text-align: right;\">     2815</td><td>&#x27;Customer&#x27;  </td><td style=\"text-align: right;\">                nan</td><td>--             </td><td>&#x27;No&#x27;                     </td><td style=\"text-align: right;\">-2.14748e+09</td><td style=\"text-align: right;\">               0</td><td>&#x27;Wed&#x27;    </td></tr>\n",
       "</tbody>\n",
       "</table>"
      ],
      "text/plain": [
       "  #    duration_sec  start_time                     end_time                         start_station_id  start_station_name                                     start_station_latitude    start_station_longitude    end_station_id  end_station_name                                       end_station_latitude    end_station_longitude    bike_id  user_type       member_birth_year  member_gender    bike_share_for_all_trip      member_age    member_age_new  weekday\n",
       "  0           75284  2018-01-31 22:52:35.239000000  2018-02-01 19:47:19.824000000                 120  'Mission Dolores Park'                                                37.7614                   -122.426               285  \"Webster St at O'Farrell St\"                                        37.7835                 -122.431       2765  'Subscriber'                 1986  'Male'           'No'                       32                          32  'Wed'\n",
       "  1           85422  2018-01-31 16:13:34.351000000  2018-02-01 15:57:17.310000000                  15  \"'San Francisco Ferry Building (Harry Bridges Pl...                   37.7954                   -122.394                15  \"'San Francisco Ferry Building (Harry Bridges Pl...                 37.7954                 -122.394       2815  'Customer'                    nan  --               'No'                       -2.14748e+09                 0  'Wed'"
      ]
     },
     "execution_count": 113,
     "metadata": {},
     "output_type": "execute_result"
    }
   ],
   "source": [
    "#test:\n",
    "df.head(2)"
   ]
  },
  {
   "cell_type": "code",
   "execution_count": 115,
   "metadata": {},
   "outputs": [],
   "source": [
    "#creaet month col:\n",
    "df['month'] = df['start_time'].dt.strftime('%B')"
   ]
  },
  {
   "cell_type": "code",
   "execution_count": 133,
   "metadata": {},
   "outputs": [
    {
     "data": {
      "text/plain": [
       "['duration_sec',\n",
       " 'start_time',\n",
       " '____start_time_1',\n",
       " '__start_time',\n",
       " 'end_time',\n",
       " '__end_time_1',\n",
       " '__end_time',\n",
       " 'start_station_id',\n",
       " 'start_station_name',\n",
       " 'start_station_latitude',\n",
       " 'start_station_longitude',\n",
       " 'end_station_id',\n",
       " 'end_station_name',\n",
       " 'end_station_latitude',\n",
       " 'end_station_longitude',\n",
       " 'bike_id',\n",
       " 'user_type',\n",
       " 'member_birth_year',\n",
       " 'member_gender',\n",
       " 'bike_share_for_all_trip',\n",
       " '__member_age',\n",
       " '__member_age_1',\n",
       " '__member_age_2',\n",
       " '__member_age_new',\n",
       " 'member_age',\n",
       " 'member_age_new',\n",
       " 'weekday',\n",
       " 'month']"
      ]
     },
     "execution_count": 133,
     "metadata": {},
     "output_type": "execute_result"
    }
   ],
   "source": [
    "#test:\n",
    "df.column_names"
   ]
  },
  {
   "cell_type": "code",
   "execution_count": 117,
   "metadata": {},
   "outputs": [
    {
     "data": {
      "text/plain": [
       "October      201458\n",
       "July         199222\n",
       "June         195968\n",
       "August       192162\n",
       "September    186217\n",
       "May          179125\n",
       "November     134135\n",
       "December     131363\n",
       "April        131169\n",
       "March        111382\n",
       "February     106718\n",
       "January       94802\n",
       "dtype: int64"
      ]
     },
     "execution_count": 117,
     "metadata": {},
     "output_type": "execute_result"
    }
   ],
   "source": [
    "df['month'].value_counts()"
   ]
  },
  {
   "cell_type": "code",
   "execution_count": 140,
   "metadata": {},
   "outputs": [
    {
     "ename": "NameError",
     "evalue": "name '__start_time_1' is not defined",
     "output_type": "error",
     "traceback": [
      "\u001b[1;31m---------------------------------------------------------------------------\u001b[0m",
      "\u001b[1;31mKeyError\u001b[0m                                  Traceback (most recent call last)",
      "\u001b[1;32m~\\Anaconda3\\lib\\site-packages\\vaex\\scopes.py\u001b[0m in \u001b[0;36mevaluate\u001b[1;34m(self, expression, out)\u001b[0m\n\u001b[0;32m    101\u001b[0m             \u001b[1;31m# logger.debug(\"try avoid evaluating: %s\", expression)\u001b[0m\u001b[1;33m\u001b[0m\u001b[1;33m\u001b[0m\u001b[1;33m\u001b[0m\u001b[0m\n\u001b[1;32m--> 102\u001b[1;33m             \u001b[0mresult\u001b[0m \u001b[1;33m=\u001b[0m \u001b[0mself\u001b[0m\u001b[1;33m[\u001b[0m\u001b[0mexpression\u001b[0m\u001b[1;33m]\u001b[0m\u001b[1;33m\u001b[0m\u001b[1;33m\u001b[0m\u001b[0m\n\u001b[0m\u001b[0;32m    103\u001b[0m         \u001b[1;32mexcept\u001b[0m \u001b[0mKeyError\u001b[0m\u001b[1;33m:\u001b[0m\u001b[1;33m\u001b[0m\u001b[1;33m\u001b[0m\u001b[0m\n",
      "\u001b[1;32m~\\Anaconda3\\lib\\site-packages\\vaex\\scopes.py\u001b[0m in \u001b[0;36m__getitem__\u001b[1;34m(self, variable)\u001b[0m\n\u001b[0;32m    158\u001b[0m             \u001b[1;32mif\u001b[0m \u001b[0mvariable\u001b[0m \u001b[1;32mnot\u001b[0m \u001b[1;32min\u001b[0m \u001b[0mself\u001b[0m\u001b[1;33m.\u001b[0m\u001b[0mvalues\u001b[0m\u001b[1;33m:\u001b[0m\u001b[1;33m\u001b[0m\u001b[1;33m\u001b[0m\u001b[0m\n\u001b[1;32m--> 159\u001b[1;33m                 \u001b[1;32mraise\u001b[0m \u001b[0mKeyError\u001b[0m\u001b[1;33m(\u001b[0m\u001b[1;34m\"Unknown variables or column: %r\"\u001b[0m \u001b[1;33m%\u001b[0m \u001b[1;33m(\u001b[0m\u001b[0mvariable\u001b[0m\u001b[1;33m,\u001b[0m\u001b[1;33m)\u001b[0m\u001b[1;33m)\u001b[0m\u001b[1;33m\u001b[0m\u001b[1;33m\u001b[0m\u001b[0m\n\u001b[0m\u001b[0;32m    160\u001b[0m \u001b[1;33m\u001b[0m\u001b[0m\n",
      "\u001b[1;31mKeyError\u001b[0m: 'Unknown variables or column: \"astype(__start_time_1, \\'datetime64[ns]\\')\"'",
      "\nDuring handling of the above exception, another exception occurred:\n",
      "\u001b[1;31mNameError\u001b[0m                                 Traceback (most recent call last)",
      "\u001b[1;32m~\\Anaconda3\\lib\\site-packages\\vaex\\dataframe.py\u001b[0m in \u001b[0;36mdata_type\u001b[1;34m(self, expression, array_type, internal, axis)\u001b[0m\n\u001b[0;32m   1967\u001b[0m             \u001b[1;32mtry\u001b[0m\u001b[1;33m:\u001b[0m\u001b[1;33m\u001b[0m\u001b[1;33m\u001b[0m\u001b[0m\n\u001b[1;32m-> 1968\u001b[1;33m                 \u001b[0mdata\u001b[0m \u001b[1;33m=\u001b[0m \u001b[0mself\u001b[0m\u001b[1;33m.\u001b[0m\u001b[0mevaluate\u001b[0m\u001b[1;33m(\u001b[0m\u001b[0mexpression\u001b[0m\u001b[1;33m,\u001b[0m \u001b[1;36m0\u001b[0m\u001b[1;33m,\u001b[0m \u001b[1;36m1\u001b[0m\u001b[1;33m,\u001b[0m \u001b[0mfiltered\u001b[0m\u001b[1;33m=\u001b[0m\u001b[1;32mFalse\u001b[0m\u001b[1;33m,\u001b[0m \u001b[0marray_type\u001b[0m\u001b[1;33m=\u001b[0m\u001b[0marray_type\u001b[0m\u001b[1;33m,\u001b[0m \u001b[0mparallel\u001b[0m\u001b[1;33m=\u001b[0m\u001b[1;32mFalse\u001b[0m\u001b[1;33m)\u001b[0m\u001b[1;33m\u001b[0m\u001b[1;33m\u001b[0m\u001b[0m\n\u001b[0m\u001b[0;32m   1969\u001b[0m             \u001b[1;32mexcept\u001b[0m\u001b[1;33m:\u001b[0m\u001b[1;33m\u001b[0m\u001b[1;33m\u001b[0m\u001b[0m\n",
      "\u001b[1;32m~\\Anaconda3\\lib\\site-packages\\vaex\\dataframe.py\u001b[0m in \u001b[0;36mevaluate\u001b[1;34m(self, expression, i1, i2, out, selection, filtered, array_type, parallel, chunk_size)\u001b[0m\n\u001b[0;32m   2641\u001b[0m         \u001b[1;32melse\u001b[0m\u001b[1;33m:\u001b[0m\u001b[1;33m\u001b[0m\u001b[1;33m\u001b[0m\u001b[0m\n\u001b[1;32m-> 2642\u001b[1;33m             \u001b[1;32mreturn\u001b[0m \u001b[0mself\u001b[0m\u001b[1;33m.\u001b[0m\u001b[0m_evaluate_implementation\u001b[0m\u001b[1;33m(\u001b[0m\u001b[0mexpression\u001b[0m\u001b[1;33m,\u001b[0m \u001b[0mi1\u001b[0m\u001b[1;33m=\u001b[0m\u001b[0mi1\u001b[0m\u001b[1;33m,\u001b[0m \u001b[0mi2\u001b[0m\u001b[1;33m=\u001b[0m\u001b[0mi2\u001b[0m\u001b[1;33m,\u001b[0m \u001b[0mout\u001b[0m\u001b[1;33m=\u001b[0m\u001b[0mout\u001b[0m\u001b[1;33m,\u001b[0m \u001b[0mselection\u001b[0m\u001b[1;33m=\u001b[0m\u001b[0mselection\u001b[0m\u001b[1;33m,\u001b[0m \u001b[0mfiltered\u001b[0m\u001b[1;33m=\u001b[0m\u001b[0mfiltered\u001b[0m\u001b[1;33m,\u001b[0m \u001b[0marray_type\u001b[0m\u001b[1;33m=\u001b[0m\u001b[0marray_type\u001b[0m\u001b[1;33m,\u001b[0m \u001b[0mparallel\u001b[0m\u001b[1;33m=\u001b[0m\u001b[0mparallel\u001b[0m\u001b[1;33m,\u001b[0m \u001b[0mchunk_size\u001b[0m\u001b[1;33m=\u001b[0m\u001b[0mchunk_size\u001b[0m\u001b[1;33m)\u001b[0m\u001b[1;33m\u001b[0m\u001b[1;33m\u001b[0m\u001b[0m\n\u001b[0m\u001b[0;32m   2643\u001b[0m \u001b[1;33m\u001b[0m\u001b[0m\n",
      "\u001b[1;32m~\\Anaconda3\\lib\\site-packages\\vaex\\dataframe.py\u001b[0m in \u001b[0;36m_evaluate_implementation\u001b[1;34m(self, expression, i1, i2, out, selection, filtered, array_type, parallel, chunk_size, raw)\u001b[0m\n\u001b[0;32m   5675\u001b[0m                     \u001b[0mscope\u001b[0m\u001b[1;33m.\u001b[0m\u001b[0mbuffers\u001b[0m\u001b[1;33m[\u001b[0m\u001b[0mexpression\u001b[0m\u001b[1;33m]\u001b[0m \u001b[1;33m=\u001b[0m \u001b[0mout\u001b[0m\u001b[1;33m\u001b[0m\u001b[1;33m\u001b[0m\u001b[0m\n\u001b[1;32m-> 5676\u001b[1;33m                 \u001b[0mvalue\u001b[0m \u001b[1;33m=\u001b[0m \u001b[0mscope\u001b[0m\u001b[1;33m.\u001b[0m\u001b[0mevaluate\u001b[0m\u001b[1;33m(\u001b[0m\u001b[0mexpression\u001b[0m\u001b[1;33m)\u001b[0m\u001b[1;33m\u001b[0m\u001b[1;33m\u001b[0m\u001b[0m\n\u001b[0m\u001b[0;32m   5677\u001b[0m                 \u001b[1;31m# if isinstance(value, ColumnString) and not internal:\u001b[0m\u001b[1;33m\u001b[0m\u001b[1;33m\u001b[0m\u001b[1;33m\u001b[0m\u001b[0m\n",
      "\u001b[1;32m~\\Anaconda3\\lib\\site-packages\\vaex\\scopes.py\u001b[0m in \u001b[0;36mevaluate\u001b[1;34m(self, expression, out)\u001b[0m\n\u001b[0;32m    101\u001b[0m             \u001b[1;31m# logger.debug(\"try avoid evaluating: %s\", expression)\u001b[0m\u001b[1;33m\u001b[0m\u001b[1;33m\u001b[0m\u001b[1;33m\u001b[0m\u001b[0m\n\u001b[1;32m--> 102\u001b[1;33m             \u001b[0mresult\u001b[0m \u001b[1;33m=\u001b[0m \u001b[0mself\u001b[0m\u001b[1;33m[\u001b[0m\u001b[0mexpression\u001b[0m\u001b[1;33m]\u001b[0m\u001b[1;33m\u001b[0m\u001b[1;33m\u001b[0m\u001b[0m\n\u001b[0m\u001b[0;32m    103\u001b[0m         \u001b[1;32mexcept\u001b[0m \u001b[0mKeyError\u001b[0m\u001b[1;33m:\u001b[0m\u001b[1;33m\u001b[0m\u001b[1;33m\u001b[0m\u001b[0m\n",
      "\u001b[1;32m~\\Anaconda3\\lib\\site-packages\\vaex\\scopes.py\u001b[0m in \u001b[0;36m__getitem__\u001b[1;34m(self, variable)\u001b[0m\n\u001b[0;32m    151\u001b[0m                     \u001b[1;31m# self._ensure_buffer(variable)\u001b[0m\u001b[1;33m\u001b[0m\u001b[1;33m\u001b[0m\u001b[1;33m\u001b[0m\u001b[0m\n\u001b[1;32m--> 152\u001b[1;33m                     \u001b[0mvalues\u001b[0m \u001b[1;33m=\u001b[0m \u001b[0mself\u001b[0m\u001b[1;33m.\u001b[0m\u001b[0mevaluate\u001b[0m\u001b[1;33m(\u001b[0m\u001b[0mexpression\u001b[0m\u001b[1;33m)\u001b[0m\u001b[1;33m\u001b[0m\u001b[1;33m\u001b[0m\u001b[0m\n\u001b[0m\u001b[0;32m    153\u001b[0m                     \u001b[0mself\u001b[0m\u001b[1;33m.\u001b[0m\u001b[0mvalues\u001b[0m\u001b[1;33m[\u001b[0m\u001b[0mvariable\u001b[0m\u001b[1;33m]\u001b[0m \u001b[1;33m=\u001b[0m \u001b[0mwrap\u001b[0m\u001b[1;33m(\u001b[0m\u001b[0mvalues\u001b[0m\u001b[1;33m)\u001b[0m\u001b[1;33m\u001b[0m\u001b[1;33m\u001b[0m\u001b[0m\n",
      "\u001b[1;32m~\\Anaconda3\\lib\\site-packages\\vaex\\scopes.py\u001b[0m in \u001b[0;36mevaluate\u001b[1;34m(self, expression, out)\u001b[0m\n\u001b[0;32m    107\u001b[0m             \u001b[1;31m# eval(\"def f(\")\u001b[0m\u001b[1;33m\u001b[0m\u001b[1;33m\u001b[0m\u001b[1;33m\u001b[0m\u001b[0m\n\u001b[1;32m--> 108\u001b[1;33m             \u001b[0mresult\u001b[0m \u001b[1;33m=\u001b[0m \u001b[0meval\u001b[0m\u001b[1;33m(\u001b[0m\u001b[0mexpression\u001b[0m\u001b[1;33m,\u001b[0m \u001b[0mexpression_namespace\u001b[0m\u001b[1;33m,\u001b[0m \u001b[0mself\u001b[0m\u001b[1;33m)\u001b[0m\u001b[1;33m\u001b[0m\u001b[1;33m\u001b[0m\u001b[0m\n\u001b[0m\u001b[0;32m    109\u001b[0m             \u001b[0mself\u001b[0m\u001b[1;33m.\u001b[0m\u001b[0mvalues\u001b[0m\u001b[1;33m[\u001b[0m\u001b[0mexpression\u001b[0m\u001b[1;33m]\u001b[0m \u001b[1;33m=\u001b[0m \u001b[0mwrap\u001b[0m\u001b[1;33m(\u001b[0m\u001b[0mresult\u001b[0m\u001b[1;33m)\u001b[0m\u001b[1;33m\u001b[0m\u001b[1;33m\u001b[0m\u001b[0m\n",
      "\u001b[1;32m<string>\u001b[0m in \u001b[0;36m<module>\u001b[1;34m\u001b[0m\n",
      "\u001b[1;31mNameError\u001b[0m: name '__start_time_1' is not defined",
      "\nDuring handling of the above exception, another exception occurred:\n",
      "\u001b[1;31mKeyError\u001b[0m                                  Traceback (most recent call last)",
      "\u001b[1;32m~\\Anaconda3\\lib\\site-packages\\vaex\\scopes.py\u001b[0m in \u001b[0;36mevaluate\u001b[1;34m(self, expression, out)\u001b[0m\n\u001b[0;32m    101\u001b[0m             \u001b[1;31m# logger.debug(\"try avoid evaluating: %s\", expression)\u001b[0m\u001b[1;33m\u001b[0m\u001b[1;33m\u001b[0m\u001b[1;33m\u001b[0m\u001b[0m\n\u001b[1;32m--> 102\u001b[1;33m             \u001b[0mresult\u001b[0m \u001b[1;33m=\u001b[0m \u001b[0mself\u001b[0m\u001b[1;33m[\u001b[0m\u001b[0mexpression\u001b[0m\u001b[1;33m]\u001b[0m\u001b[1;33m\u001b[0m\u001b[1;33m\u001b[0m\u001b[0m\n\u001b[0m\u001b[0;32m    103\u001b[0m         \u001b[1;32mexcept\u001b[0m \u001b[0mKeyError\u001b[0m\u001b[1;33m:\u001b[0m\u001b[1;33m\u001b[0m\u001b[1;33m\u001b[0m\u001b[0m\n",
      "\u001b[1;32m~\\Anaconda3\\lib\\site-packages\\vaex\\scopes.py\u001b[0m in \u001b[0;36m__getitem__\u001b[1;34m(self, variable)\u001b[0m\n\u001b[0;32m    158\u001b[0m             \u001b[1;32mif\u001b[0m \u001b[0mvariable\u001b[0m \u001b[1;32mnot\u001b[0m \u001b[1;32min\u001b[0m \u001b[0mself\u001b[0m\u001b[1;33m.\u001b[0m\u001b[0mvalues\u001b[0m\u001b[1;33m:\u001b[0m\u001b[1;33m\u001b[0m\u001b[1;33m\u001b[0m\u001b[0m\n\u001b[1;32m--> 159\u001b[1;33m                 \u001b[1;32mraise\u001b[0m \u001b[0mKeyError\u001b[0m\u001b[1;33m(\u001b[0m\u001b[1;34m\"Unknown variables or column: %r\"\u001b[0m \u001b[1;33m%\u001b[0m \u001b[1;33m(\u001b[0m\u001b[0mvariable\u001b[0m\u001b[1;33m,\u001b[0m\u001b[1;33m)\u001b[0m\u001b[1;33m)\u001b[0m\u001b[1;33m\u001b[0m\u001b[1;33m\u001b[0m\u001b[0m\n\u001b[0m\u001b[0;32m    160\u001b[0m \u001b[1;33m\u001b[0m\u001b[0m\n",
      "\u001b[1;31mKeyError\u001b[0m: 'Unknown variables or column: \"astype(__start_time_1, \\'datetime64[ns]\\')\"'",
      "\nDuring handling of the above exception, another exception occurred:\n",
      "\u001b[1;31mNameError\u001b[0m                                 Traceback (most recent call last)",
      "\u001b[1;32m<ipython-input-140-27a09e1788e8>\u001b[0m in \u001b[0;36m<module>\u001b[1;34m\u001b[0m\n\u001b[0;32m      1\u001b[0m \u001b[1;31m#age outliers:\u001b[0m\u001b[1;33m\u001b[0m\u001b[1;33m\u001b[0m\u001b[1;33m\u001b[0m\u001b[0m\n\u001b[1;32m----> 2\u001b[1;33m \u001b[0mdf\u001b[0m\u001b[1;33m.\u001b[0m\u001b[0mdescribe\u001b[0m\u001b[1;33m(\u001b[0m\u001b[1;33m)\u001b[0m\u001b[1;33m\u001b[0m\u001b[1;33m\u001b[0m\u001b[0m\n\u001b[0m",
      "\u001b[1;32m~\\Anaconda3\\lib\\site-packages\\vaex\\dataframe.py\u001b[0m in \u001b[0;36mdescribe\u001b[1;34m(self, strings, virtual, selection)\u001b[0m\n\u001b[0;32m   3495\u001b[0m         \u001b[0mcolumns\u001b[0m \u001b[1;33m=\u001b[0m \u001b[1;33m{\u001b[0m\u001b[1;33m}\u001b[0m\u001b[1;33m\u001b[0m\u001b[1;33m\u001b[0m\u001b[0m\n\u001b[0;32m   3496\u001b[0m         \u001b[1;32mfor\u001b[0m \u001b[0mfeature\u001b[0m \u001b[1;32min\u001b[0m \u001b[0mself\u001b[0m\u001b[1;33m.\u001b[0m\u001b[0mget_column_names\u001b[0m\u001b[1;33m(\u001b[0m\u001b[0mstrings\u001b[0m\u001b[1;33m=\u001b[0m\u001b[0mstrings\u001b[0m\u001b[1;33m,\u001b[0m \u001b[0mvirtual\u001b[0m\u001b[1;33m=\u001b[0m\u001b[0mvirtual\u001b[0m\u001b[1;33m)\u001b[0m\u001b[1;33m[\u001b[0m\u001b[1;33m:\u001b[0m\u001b[1;33m]\u001b[0m\u001b[1;33m:\u001b[0m\u001b[1;33m\u001b[0m\u001b[1;33m\u001b[0m\u001b[0m\n\u001b[1;32m-> 3497\u001b[1;33m             \u001b[0mdata_type\u001b[0m \u001b[1;33m=\u001b[0m \u001b[0mself\u001b[0m\u001b[1;33m.\u001b[0m\u001b[0mdata_type\u001b[0m\u001b[1;33m(\u001b[0m\u001b[0mfeature\u001b[0m\u001b[1;33m)\u001b[0m\u001b[1;33m\u001b[0m\u001b[1;33m\u001b[0m\u001b[0m\n\u001b[0m\u001b[0;32m   3498\u001b[0m             \u001b[1;32mif\u001b[0m \u001b[0mdata_type\u001b[0m \u001b[1;33m==\u001b[0m \u001b[0mstr\u001b[0m\u001b[1;33m:\u001b[0m\u001b[1;33m\u001b[0m\u001b[1;33m\u001b[0m\u001b[0m\n\u001b[0;32m   3499\u001b[0m                 \u001b[0mcount\u001b[0m \u001b[1;33m=\u001b[0m \u001b[0mself\u001b[0m\u001b[1;33m.\u001b[0m\u001b[0mcount\u001b[0m\u001b[1;33m(\u001b[0m\u001b[0mfeature\u001b[0m\u001b[1;33m,\u001b[0m \u001b[0mselection\u001b[0m\u001b[1;33m=\u001b[0m\u001b[0mselection\u001b[0m\u001b[1;33m,\u001b[0m \u001b[0mdelay\u001b[0m\u001b[1;33m=\u001b[0m\u001b[1;32mTrue\u001b[0m\u001b[1;33m)\u001b[0m\u001b[1;33m\u001b[0m\u001b[1;33m\u001b[0m\u001b[0m\n",
      "\u001b[1;32m~\\Anaconda3\\lib\\site-packages\\vaex\\dataframe.py\u001b[0m in \u001b[0;36mdata_type\u001b[1;34m(self, expression, array_type, internal, axis)\u001b[0m\n\u001b[0;32m   1968\u001b[0m                 \u001b[0mdata\u001b[0m \u001b[1;33m=\u001b[0m \u001b[0mself\u001b[0m\u001b[1;33m.\u001b[0m\u001b[0mevaluate\u001b[0m\u001b[1;33m(\u001b[0m\u001b[0mexpression\u001b[0m\u001b[1;33m,\u001b[0m \u001b[1;36m0\u001b[0m\u001b[1;33m,\u001b[0m \u001b[1;36m1\u001b[0m\u001b[1;33m,\u001b[0m \u001b[0mfiltered\u001b[0m\u001b[1;33m=\u001b[0m\u001b[1;32mFalse\u001b[0m\u001b[1;33m,\u001b[0m \u001b[0marray_type\u001b[0m\u001b[1;33m=\u001b[0m\u001b[0marray_type\u001b[0m\u001b[1;33m,\u001b[0m \u001b[0mparallel\u001b[0m\u001b[1;33m=\u001b[0m\u001b[1;32mFalse\u001b[0m\u001b[1;33m)\u001b[0m\u001b[1;33m\u001b[0m\u001b[1;33m\u001b[0m\u001b[0m\n\u001b[0;32m   1969\u001b[0m             \u001b[1;32mexcept\u001b[0m\u001b[1;33m:\u001b[0m\u001b[1;33m\u001b[0m\u001b[1;33m\u001b[0m\u001b[0m\n\u001b[1;32m-> 1970\u001b[1;33m                 \u001b[0mdata\u001b[0m \u001b[1;33m=\u001b[0m \u001b[0mself\u001b[0m\u001b[1;33m.\u001b[0m\u001b[0mevaluate\u001b[0m\u001b[1;33m(\u001b[0m\u001b[0mexpression\u001b[0m\u001b[1;33m,\u001b[0m \u001b[1;36m0\u001b[0m\u001b[1;33m,\u001b[0m \u001b[1;36m1\u001b[0m\u001b[1;33m,\u001b[0m \u001b[0mfiltered\u001b[0m\u001b[1;33m=\u001b[0m\u001b[1;32mTrue\u001b[0m\u001b[1;33m,\u001b[0m \u001b[0marray_type\u001b[0m\u001b[1;33m=\u001b[0m\u001b[0marray_type\u001b[0m\u001b[1;33m,\u001b[0m \u001b[0mparallel\u001b[0m\u001b[1;33m=\u001b[0m\u001b[1;32mFalse\u001b[0m\u001b[1;33m)\u001b[0m\u001b[1;33m\u001b[0m\u001b[1;33m\u001b[0m\u001b[0m\n\u001b[0m\u001b[0;32m   1971\u001b[0m         \u001b[1;32mif\u001b[0m \u001b[0mdata_type\u001b[0m \u001b[1;32mis\u001b[0m \u001b[1;32mNone\u001b[0m\u001b[1;33m:\u001b[0m\u001b[1;33m\u001b[0m\u001b[1;33m\u001b[0m\u001b[0m\n\u001b[0;32m   1972\u001b[0m             \u001b[1;31m# means we have to determine it from the data\u001b[0m\u001b[1;33m\u001b[0m\u001b[1;33m\u001b[0m\u001b[1;33m\u001b[0m\u001b[0m\n",
      "\u001b[1;32m~\\Anaconda3\\lib\\site-packages\\vaex\\dataframe.py\u001b[0m in \u001b[0;36mevaluate\u001b[1;34m(self, expression, i1, i2, out, selection, filtered, array_type, parallel, chunk_size)\u001b[0m\n\u001b[0;32m   2640\u001b[0m             \u001b[1;32mreturn\u001b[0m \u001b[0mself\u001b[0m\u001b[1;33m.\u001b[0m\u001b[0mevaluate_iterator\u001b[0m\u001b[1;33m(\u001b[0m\u001b[0mexpression\u001b[0m\u001b[1;33m,\u001b[0m \u001b[0ms1\u001b[0m\u001b[1;33m=\u001b[0m\u001b[0mi1\u001b[0m\u001b[1;33m,\u001b[0m \u001b[0ms2\u001b[0m\u001b[1;33m=\u001b[0m\u001b[0mi2\u001b[0m\u001b[1;33m,\u001b[0m \u001b[0mout\u001b[0m\u001b[1;33m=\u001b[0m\u001b[0mout\u001b[0m\u001b[1;33m,\u001b[0m \u001b[0mselection\u001b[0m\u001b[1;33m=\u001b[0m\u001b[0mselection\u001b[0m\u001b[1;33m,\u001b[0m \u001b[0mfiltered\u001b[0m\u001b[1;33m=\u001b[0m\u001b[0mfiltered\u001b[0m\u001b[1;33m,\u001b[0m \u001b[0marray_type\u001b[0m\u001b[1;33m=\u001b[0m\u001b[0marray_type\u001b[0m\u001b[1;33m,\u001b[0m \u001b[0mparallel\u001b[0m\u001b[1;33m=\u001b[0m\u001b[0mparallel\u001b[0m\u001b[1;33m,\u001b[0m \u001b[0mchunk_size\u001b[0m\u001b[1;33m=\u001b[0m\u001b[0mchunk_size\u001b[0m\u001b[1;33m)\u001b[0m\u001b[1;33m\u001b[0m\u001b[1;33m\u001b[0m\u001b[0m\n\u001b[0;32m   2641\u001b[0m         \u001b[1;32melse\u001b[0m\u001b[1;33m:\u001b[0m\u001b[1;33m\u001b[0m\u001b[1;33m\u001b[0m\u001b[0m\n\u001b[1;32m-> 2642\u001b[1;33m             \u001b[1;32mreturn\u001b[0m \u001b[0mself\u001b[0m\u001b[1;33m.\u001b[0m\u001b[0m_evaluate_implementation\u001b[0m\u001b[1;33m(\u001b[0m\u001b[0mexpression\u001b[0m\u001b[1;33m,\u001b[0m \u001b[0mi1\u001b[0m\u001b[1;33m=\u001b[0m\u001b[0mi1\u001b[0m\u001b[1;33m,\u001b[0m \u001b[0mi2\u001b[0m\u001b[1;33m=\u001b[0m\u001b[0mi2\u001b[0m\u001b[1;33m,\u001b[0m \u001b[0mout\u001b[0m\u001b[1;33m=\u001b[0m\u001b[0mout\u001b[0m\u001b[1;33m,\u001b[0m \u001b[0mselection\u001b[0m\u001b[1;33m=\u001b[0m\u001b[0mselection\u001b[0m\u001b[1;33m,\u001b[0m \u001b[0mfiltered\u001b[0m\u001b[1;33m=\u001b[0m\u001b[0mfiltered\u001b[0m\u001b[1;33m,\u001b[0m \u001b[0marray_type\u001b[0m\u001b[1;33m=\u001b[0m\u001b[0marray_type\u001b[0m\u001b[1;33m,\u001b[0m \u001b[0mparallel\u001b[0m\u001b[1;33m=\u001b[0m\u001b[0mparallel\u001b[0m\u001b[1;33m,\u001b[0m \u001b[0mchunk_size\u001b[0m\u001b[1;33m=\u001b[0m\u001b[0mchunk_size\u001b[0m\u001b[1;33m)\u001b[0m\u001b[1;33m\u001b[0m\u001b[1;33m\u001b[0m\u001b[0m\n\u001b[0m\u001b[0;32m   2643\u001b[0m \u001b[1;33m\u001b[0m\u001b[0m\n\u001b[0;32m   2644\u001b[0m     \u001b[1;32mdef\u001b[0m \u001b[0mevaluate_iterator\u001b[0m\u001b[1;33m(\u001b[0m\u001b[0mself\u001b[0m\u001b[1;33m,\u001b[0m \u001b[0mexpression\u001b[0m\u001b[1;33m,\u001b[0m \u001b[0ms1\u001b[0m\u001b[1;33m=\u001b[0m\u001b[1;32mNone\u001b[0m\u001b[1;33m,\u001b[0m \u001b[0ms2\u001b[0m\u001b[1;33m=\u001b[0m\u001b[1;32mNone\u001b[0m\u001b[1;33m,\u001b[0m \u001b[0mout\u001b[0m\u001b[1;33m=\u001b[0m\u001b[1;32mNone\u001b[0m\u001b[1;33m,\u001b[0m \u001b[0mselection\u001b[0m\u001b[1;33m=\u001b[0m\u001b[1;32mNone\u001b[0m\u001b[1;33m,\u001b[0m \u001b[0mfiltered\u001b[0m\u001b[1;33m=\u001b[0m\u001b[1;32mTrue\u001b[0m\u001b[1;33m,\u001b[0m \u001b[0marray_type\u001b[0m\u001b[1;33m=\u001b[0m\u001b[1;32mNone\u001b[0m\u001b[1;33m,\u001b[0m \u001b[0mparallel\u001b[0m\u001b[1;33m=\u001b[0m\u001b[1;32mTrue\u001b[0m\u001b[1;33m,\u001b[0m \u001b[0mchunk_size\u001b[0m\u001b[1;33m=\u001b[0m\u001b[1;32mNone\u001b[0m\u001b[1;33m,\u001b[0m \u001b[0mprefetch\u001b[0m\u001b[1;33m=\u001b[0m\u001b[1;32mTrue\u001b[0m\u001b[1;33m)\u001b[0m\u001b[1;33m:\u001b[0m\u001b[1;33m\u001b[0m\u001b[1;33m\u001b[0m\u001b[0m\n",
      "\u001b[1;32m~\\Anaconda3\\lib\\site-packages\\vaex\\dataframe.py\u001b[0m in \u001b[0;36m_evaluate_implementation\u001b[1;34m(self, expression, i1, i2, out, selection, filtered, array_type, parallel, chunk_size, raw)\u001b[0m\n\u001b[0;32m   5674\u001b[0m                 \u001b[1;32mif\u001b[0m \u001b[0mout\u001b[0m \u001b[1;32mis\u001b[0m \u001b[1;32mnot\u001b[0m \u001b[1;32mNone\u001b[0m\u001b[1;33m:\u001b[0m\u001b[1;33m\u001b[0m\u001b[1;33m\u001b[0m\u001b[0m\n\u001b[0;32m   5675\u001b[0m                     \u001b[0mscope\u001b[0m\u001b[1;33m.\u001b[0m\u001b[0mbuffers\u001b[0m\u001b[1;33m[\u001b[0m\u001b[0mexpression\u001b[0m\u001b[1;33m]\u001b[0m \u001b[1;33m=\u001b[0m \u001b[0mout\u001b[0m\u001b[1;33m\u001b[0m\u001b[1;33m\u001b[0m\u001b[0m\n\u001b[1;32m-> 5676\u001b[1;33m                 \u001b[0mvalue\u001b[0m \u001b[1;33m=\u001b[0m \u001b[0mscope\u001b[0m\u001b[1;33m.\u001b[0m\u001b[0mevaluate\u001b[0m\u001b[1;33m(\u001b[0m\u001b[0mexpression\u001b[0m\u001b[1;33m)\u001b[0m\u001b[1;33m\u001b[0m\u001b[1;33m\u001b[0m\u001b[0m\n\u001b[0m\u001b[0;32m   5677\u001b[0m                 \u001b[1;31m# if isinstance(value, ColumnString) and not internal:\u001b[0m\u001b[1;33m\u001b[0m\u001b[1;33m\u001b[0m\u001b[1;33m\u001b[0m\u001b[0m\n\u001b[0;32m   5678\u001b[0m                 \u001b[1;31m#     value = value.to_numpy()\u001b[0m\u001b[1;33m\u001b[0m\u001b[1;33m\u001b[0m\u001b[1;33m\u001b[0m\u001b[0m\n",
      "\u001b[1;32m~\\Anaconda3\\lib\\site-packages\\vaex\\scopes.py\u001b[0m in \u001b[0;36mevaluate\u001b[1;34m(self, expression, out)\u001b[0m\n\u001b[0;32m    100\u001b[0m         \u001b[1;32mtry\u001b[0m\u001b[1;33m:\u001b[0m\u001b[1;33m\u001b[0m\u001b[1;33m\u001b[0m\u001b[0m\n\u001b[0;32m    101\u001b[0m             \u001b[1;31m# logger.debug(\"try avoid evaluating: %s\", expression)\u001b[0m\u001b[1;33m\u001b[0m\u001b[1;33m\u001b[0m\u001b[1;33m\u001b[0m\u001b[0m\n\u001b[1;32m--> 102\u001b[1;33m             \u001b[0mresult\u001b[0m \u001b[1;33m=\u001b[0m \u001b[0mself\u001b[0m\u001b[1;33m[\u001b[0m\u001b[0mexpression\u001b[0m\u001b[1;33m]\u001b[0m\u001b[1;33m\u001b[0m\u001b[1;33m\u001b[0m\u001b[0m\n\u001b[0m\u001b[0;32m    103\u001b[0m         \u001b[1;32mexcept\u001b[0m \u001b[0mKeyError\u001b[0m\u001b[1;33m:\u001b[0m\u001b[1;33m\u001b[0m\u001b[1;33m\u001b[0m\u001b[0m\n\u001b[0;32m    104\u001b[0m             \u001b[1;31m# logger.debug(\"no luck, eval: %s\", expression)\u001b[0m\u001b[1;33m\u001b[0m\u001b[1;33m\u001b[0m\u001b[1;33m\u001b[0m\u001b[0m\n",
      "\u001b[1;32m~\\Anaconda3\\lib\\site-packages\\vaex\\scopes.py\u001b[0m in \u001b[0;36m__getitem__\u001b[1;34m(self, variable)\u001b[0m\n\u001b[0;32m    150\u001b[0m                 \u001b[1;32melse\u001b[0m\u001b[1;33m:\u001b[0m\u001b[1;33m\u001b[0m\u001b[1;33m\u001b[0m\u001b[0m\n\u001b[0;32m    151\u001b[0m                     \u001b[1;31m# self._ensure_buffer(variable)\u001b[0m\u001b[1;33m\u001b[0m\u001b[1;33m\u001b[0m\u001b[1;33m\u001b[0m\u001b[0m\n\u001b[1;32m--> 152\u001b[1;33m                     \u001b[0mvalues\u001b[0m \u001b[1;33m=\u001b[0m \u001b[0mself\u001b[0m\u001b[1;33m.\u001b[0m\u001b[0mevaluate\u001b[0m\u001b[1;33m(\u001b[0m\u001b[0mexpression\u001b[0m\u001b[1;33m)\u001b[0m\u001b[1;33m\u001b[0m\u001b[1;33m\u001b[0m\u001b[0m\n\u001b[0m\u001b[0;32m    153\u001b[0m                     \u001b[0mself\u001b[0m\u001b[1;33m.\u001b[0m\u001b[0mvalues\u001b[0m\u001b[1;33m[\u001b[0m\u001b[0mvariable\u001b[0m\u001b[1;33m]\u001b[0m \u001b[1;33m=\u001b[0m \u001b[0mwrap\u001b[0m\u001b[1;33m(\u001b[0m\u001b[0mvalues\u001b[0m\u001b[1;33m)\u001b[0m\u001b[1;33m\u001b[0m\u001b[1;33m\u001b[0m\u001b[0m\n\u001b[0;32m    154\u001b[0m                     \u001b[1;31m# self.values[variable] = self.buffers[variable]\u001b[0m\u001b[1;33m\u001b[0m\u001b[1;33m\u001b[0m\u001b[1;33m\u001b[0m\u001b[0m\n",
      "\u001b[1;32m~\\Anaconda3\\lib\\site-packages\\vaex\\scopes.py\u001b[0m in \u001b[0;36mevaluate\u001b[1;34m(self, expression, out)\u001b[0m\n\u001b[0;32m    106\u001b[0m             \u001b[1;31m# logger.debug(\"in eval\")\u001b[0m\u001b[1;33m\u001b[0m\u001b[1;33m\u001b[0m\u001b[1;33m\u001b[0m\u001b[0m\n\u001b[0;32m    107\u001b[0m             \u001b[1;31m# eval(\"def f(\")\u001b[0m\u001b[1;33m\u001b[0m\u001b[1;33m\u001b[0m\u001b[1;33m\u001b[0m\u001b[0m\n\u001b[1;32m--> 108\u001b[1;33m             \u001b[0mresult\u001b[0m \u001b[1;33m=\u001b[0m \u001b[0meval\u001b[0m\u001b[1;33m(\u001b[0m\u001b[0mexpression\u001b[0m\u001b[1;33m,\u001b[0m \u001b[0mexpression_namespace\u001b[0m\u001b[1;33m,\u001b[0m \u001b[0mself\u001b[0m\u001b[1;33m)\u001b[0m\u001b[1;33m\u001b[0m\u001b[1;33m\u001b[0m\u001b[0m\n\u001b[0m\u001b[0;32m    109\u001b[0m             \u001b[0mself\u001b[0m\u001b[1;33m.\u001b[0m\u001b[0mvalues\u001b[0m\u001b[1;33m[\u001b[0m\u001b[0mexpression\u001b[0m\u001b[1;33m]\u001b[0m \u001b[1;33m=\u001b[0m \u001b[0mwrap\u001b[0m\u001b[1;33m(\u001b[0m\u001b[0mresult\u001b[0m\u001b[1;33m)\u001b[0m\u001b[1;33m\u001b[0m\u001b[1;33m\u001b[0m\u001b[0m\n\u001b[0;32m    110\u001b[0m             \u001b[1;31m# if out is not None:\u001b[0m\u001b[1;33m\u001b[0m\u001b[1;33m\u001b[0m\u001b[1;33m\u001b[0m\u001b[0m\n",
      "\u001b[1;32m<string>\u001b[0m in \u001b[0;36m<module>\u001b[1;34m\u001b[0m\n",
      "\u001b[1;31mNameError\u001b[0m: name '__start_time_1' is not defined"
     ]
    }
   ],
   "source": [
    "#age outliers:\n",
    "df.describe()"
   ]
  },
  {
   "cell_type": "code",
   "execution_count": 145,
   "metadata": {},
   "outputs": [
    {
     "ename": "SyntaxError",
     "evalue": "can't delete literal (<ipython-input-145-ae24835029bb>, line 1)",
     "output_type": "error",
     "traceback": [
      "\u001b[1;36m  File \u001b[1;32m\"<ipython-input-145-ae24835029bb>\"\u001b[1;36m, line \u001b[1;32m1\u001b[0m\n\u001b[1;33m    del('__start_time_1')\u001b[0m\n\u001b[1;37m      ^\u001b[0m\n\u001b[1;31mSyntaxError\u001b[0m\u001b[1;31m:\u001b[0m can't delete literal\n"
     ]
    }
   ],
   "source": [
    "del('__start_time_1')"
   ]
  },
  {
   "cell_type": "code",
   "execution_count": 144,
   "metadata": {},
   "outputs": [
    {
     "data": {
      "text/plain": [
       "(array(0), array(137))"
      ]
     },
     "execution_count": 144,
     "metadata": {},
     "output_type": "execute_result"
    }
   ],
   "source": [
    "df.member_age_new.min(), df.member_age_new.max()"
   ]
  },
  {
   "cell_type": "code",
   "execution_count": null,
   "metadata": {},
   "outputs": [],
   "source": []
  }
 ],
 "metadata": {
  "kernelspec": {
   "display_name": "Python 3",
   "language": "python",
   "name": "python3"
  },
  "language_info": {
   "codemirror_mode": {
    "name": "ipython",
    "version": 3
   },
   "file_extension": ".py",
   "mimetype": "text/x-python",
   "name": "python",
   "nbconvert_exporter": "python",
   "pygments_lexer": "ipython3",
   "version": "3.7.9"
  }
 },
 "nbformat": 4,
 "nbformat_minor": 4
}
