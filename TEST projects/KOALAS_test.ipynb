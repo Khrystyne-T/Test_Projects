{
 "cells": [
  {
   "cell_type": "markdown",
   "metadata": {},
   "source": [
    "https://www.guru99.com/pyspark-tutorial.html\n",
    "    \n",
    "\n",
    "https://databricks.com/blog/2020/03/31/10-minutes-from-pandas-to-koalas-on-apache-spark.html\n",
    "\n",
    "https://databricks.com/blog/2019/04/24/koalas-easy-transition-from-pandas-to-apache-spark.html\n",
    "\n",
    "https://databricks-prod-cloudfront.cloud.databricks.com/public/4027ec902e239c93eaaa8714f173bcfc/8266758089056472/1487766102750011/5693546805547978/latest.html\n",
    "\n",
    "https://www.programiz.com/python-programming/regex\n",
    "\n",
    "https://www.analyticsvidhya.com/blog/2017/02/top-28-cheat-sheets-for-machine-learning-data-science-probability-sql-big-data/\n",
    "\n",
    "https://www.analyticsvidhya.com/blog/2016/01/12-pandas-techniques-python-data-manipulation/\n",
    "\n",
    "https://www.guru99.com/python-regular-expressions-complete-tutorial.html\n",
    "\n",
    "https://pandas.pydata.org/pandas-docs/stable/user_guide/merging.html\n",
    "\n",
    "https://towardsdatascience.com/pyspark-and-sparksql-basics-6cb4bf967e53\n",
    "\n",
    "https://sparkbyexamples.com/spark/spark-collect-list-and-collect-set-functions/\n",
    "\n",
    "\n",
    "https://gist.github.com/bsweger/e5817488d161f37dcbd2  useful pandas snippets"
   ]
  },
  {
   "cell_type": "code",
   "execution_count": 1,
   "metadata": {},
   "outputs": [],
   "source": [
    "import matplotlib.pyplot as plt\n",
    "import seaborn as sns\n",
    "import glob\n",
    "import os \n",
    "import datetime\n",
    "from requests import get\n",
    "from os import path, getcwd, makedirs, listdir\n",
    "from io import BytesIO\n",
    "from zipfile import ZipFile\n",
    "import timeit\n",
    "\n",
    "#pip install koalas\n",
    "\n",
    "\n"
   ]
  },
  {
   "cell_type": "code",
   "execution_count": 2,
   "metadata": {},
   "outputs": [
    {
     "data": {
      "text/plain": [
       "'C:\\\\Spark\\\\spark-3.1.1-bin-hadoop2.7'"
      ]
     },
     "execution_count": 2,
     "metadata": {},
     "output_type": "execute_result"
    }
   ],
   "source": [
    "#os.environ\n",
    "os.getenv('SPARK_HOME')"
   ]
  },
  {
   "cell_type": "code",
   "execution_count": 4,
   "metadata": {},
   "outputs": [],
   "source": [
    "#!pip install findspark"
   ]
  },
  {
   "cell_type": "code",
   "execution_count": 3,
   "metadata": {},
   "outputs": [],
   "source": [
    "import findspark\n",
    "findspark.init()"
   ]
  },
  {
   "cell_type": "code",
   "execution_count": 4,
   "metadata": {},
   "outputs": [
    {
     "name": "stderr",
     "output_type": "stream",
     "text": [
      "WARNING:root:'PYARROW_IGNORE_TIMEZONE' environment variable was not set. It is required to set this environment variable to '1' in both driver and executor sides if you use pyarrow>=2.0.0. Koalas will set it for you but it does not work if there is a Spark context already launched.\n"
     ]
    }
   ],
   "source": [
    "import pyspark\n",
    "#Import koalas:\n",
    "import databricks.koalas as ks"
   ]
  },
  {
   "cell_type": "code",
   "execution_count": 5,
   "metadata": {},
   "outputs": [],
   "source": [
    "from pyspark import SQLContext\n",
    "from pyspark.sql import SparkSession \n",
    " \n",
    "conf = pyspark.SparkConf() \n",
    " \n",
    "sc = pyspark.SparkContext.getOrCreate(conf=conf)\n",
    "#sqlcontext = SQLContext(sc)\n",
    "spark = SparkSession(sc) "
   ]
  },
  {
   "cell_type": "code",
   "execution_count": 5,
   "metadata": {},
   "outputs": [],
   "source": []
  },
  {
   "cell_type": "code",
   "execution_count": 6,
   "metadata": {},
   "outputs": [
    {
     "data": {
      "text/plain": [
       "'C:\\\\Users\\\\hp\\\\Downloads\\\\TEST projects'"
      ]
     },
     "execution_count": 6,
     "metadata": {},
     "output_type": "execute_result"
    }
   ],
   "source": [
    "os.getcwd()"
   ]
  },
  {
   "cell_type": "code",
   "execution_count": 5,
   "metadata": {},
   "outputs": [],
   "source": [
    "os.chdir(\"C:\\\\Users\\\\hp\\\\Downloads\\\\TEST_projects\")"
   ]
  },
  {
   "cell_type": "code",
   "execution_count": null,
   "metadata": {},
   "outputs": [],
   "source": [
    "#create folder:\n",
    "folder_data = 'data'\n",
    "\n",
    "if not os.path.exists(folder_data):\n",
    "    os.makedirs(folder_data)\n",
    "else:\n",
    "    print('Folder already exists')\n",
    "        \n",
    "#loop through all files (from url) starting at month 1 to 12:\n",
    "for month in range(1,13):\n",
    "    month_string = str(month)\n",
    "    month_leading_zero = month_string.zfill(2)\n",
    "    \n",
    "    #scrape URL:                                                      +01, 02, 03...eg:201801-fordgobike-tripdata.csv.zip\n",
    "    bike_data_url = 'https://s3.amazonaws.com/fordgobike-data/2018' + month_leading_zero + '-fordgobike-tripdata.csv.zip'\n",
    "    response = get(bike_data_url)\n",
    "\n",
    "    # code below opens zip file; BytesIO returns a view of the contents;\n",
    "    unzipped_file = ZipFile(BytesIO(response.content))\n",
    "\n",
    "    # place extracted zip files into folder_data\n",
    "    unzipped_file.extractall(folder_data)\n"
   ]
  },
  {
   "cell_type": "code",
   "execution_count": 6,
   "metadata": {},
   "outputs": [
    {
     "name": "stdout",
     "output_type": "stream",
     "text": [
      "Wall time: 13.3 s\n"
     ]
    }
   ],
   "source": [
    "%%time\n",
    "\n",
    "#import all csv files into a spark df: 12 files\n",
    "df = spark.read.option(\"header\", \"true\").csv('C:\\\\Users\\\\hp\\\\Downloads\\\\TEST projects\\\\data\\\\*.csv')"
   ]
  },
  {
   "cell_type": "code",
   "execution_count": 16,
   "metadata": {},
   "outputs": [
    {
     "data": {
      "text/plain": [
       "pyspark.sql.dataframe.DataFrame"
      ]
     },
     "execution_count": 16,
     "metadata": {},
     "output_type": "execute_result"
    }
   ],
   "source": [
    "type(df)"
   ]
  },
  {
   "cell_type": "code",
   "execution_count": 7,
   "metadata": {},
   "outputs": [
    {
     "name": "stdout",
     "output_type": "stream",
     "text": [
      "-RECORD 0---------------------------------------\n",
      " duration_sec            | 80066                \n",
      " start_time              | 2018-10-31 20:49:... \n",
      " end_time                | 2018-11-01 19:03:... \n",
      " start_station_id        | 138                  \n",
      " start_station_name      | Jersey St at Chur... \n",
      " start_station_latitude  | 37.7509004           \n",
      " start_station_longitude | -122.4274114         \n",
      " end_station_id          | 147                  \n",
      " end_station_name        | 29th St at Tiffan... \n",
      " end_station_latitude    | 37.7440667           \n",
      " end_station_longitude   | -122.4214722         \n",
      " bike_id                 | 3458                 \n",
      " user_type               | Customer             \n",
      " member_birth_year       | 1987                 \n",
      " member_gender           | Female               \n",
      " bike_share_for_all_trip | No                   \n",
      "-RECORD 1---------------------------------------\n",
      " duration_sec            | 56428                \n",
      " start_time              | 2018-10-31 20:18:... \n",
      " end_time                | 2018-11-01 11:58:... \n",
      " start_station_id        | 75                   \n",
      " start_station_name      | Market St at Fran... \n",
      " start_station_latitude  | 37.7737932060887     \n",
      " start_station_longitude | -122.42123901844025  \n",
      " end_station_id          | 86                   \n",
      " end_station_name        | Market St at Dolo... \n",
      " end_station_latitude    | 37.7693053           \n",
      " end_station_longitude   | -122.4268256         \n",
      " bike_id                 | 1798                 \n",
      " user_type               | Customer             \n",
      " member_birth_year       | null                 \n",
      " member_gender           | null                 \n",
      " bike_share_for_all_trip | No                   \n",
      "-RECORD 2---------------------------------------\n",
      " duration_sec            | 44825                \n",
      " start_time              | 2018-10-31 20:07:... \n",
      " end_time                | 2018-11-01 08:34:... \n",
      " start_station_id        | 139                  \n",
      " start_station_name      | Garfield Square (... \n",
      " start_station_latitude  | 37.7510171           \n",
      " start_station_longitude | -122.4119009         \n",
      " end_station_id          | 122                  \n",
      " end_station_name        | 19th St at Missio... \n",
      " end_station_latitude    | 37.760299            \n",
      " end_station_longitude   | -122.418892          \n",
      " bike_id                 | 1575                 \n",
      " user_type               | Customer             \n",
      " member_birth_year       | 1983                 \n",
      " member_gender           | Female               \n",
      " bike_share_for_all_trip | No                   \n",
      "-RECORD 3---------------------------------------\n",
      " duration_sec            | 55461                \n",
      " start_time              | 2018-10-31 17:06:... \n",
      " end_time                | 2018-11-01 08:30:... \n",
      " start_station_id        | 67                   \n",
      " start_station_name      | San Francisco Cal... \n",
      " start_station_latitude  | 37.7766392           \n",
      " start_station_longitude | -122.3955263         \n",
      " end_station_id          | 16                   \n",
      " end_station_name        | Steuart St at Mar... \n",
      " end_station_latitude    | 37.79413             \n",
      " end_station_longitude   | -122.39443           \n",
      " bike_id                 | 2978                 \n",
      " user_type               | Subscriber           \n",
      " member_birth_year       | 1992                 \n",
      " member_gender           | Female               \n",
      " bike_share_for_all_trip | No                   \n",
      "-RECORD 4---------------------------------------\n",
      " duration_sec            | 47724                \n",
      " start_time              | 2018-10-31 18:27:... \n",
      " end_time                | 2018-11-01 07:43:... \n",
      " start_station_id        | 259                  \n",
      " start_station_name      | Addison St at Fou... \n",
      " start_station_latitude  | 37.866249            \n",
      " start_station_longitude | -122.2993708         \n",
      " end_station_id          | 259                  \n",
      " end_station_name        | Addison St at Fou... \n",
      " end_station_latitude    | 37.866249            \n",
      " end_station_longitude   | -122.2993708         \n",
      " bike_id                 | 2392                 \n",
      " user_type               | Customer             \n",
      " member_birth_year       | null                 \n",
      " member_gender           | null                 \n",
      " bike_share_for_all_trip | No                   \n",
      "-RECORD 5---------------------------------------\n",
      " duration_sec            | 32818                \n",
      " start_time              | 2018-10-31 20:54:... \n",
      " end_time                | 2018-11-01 06:01:... \n",
      " start_station_id        | 345                  \n",
      " start_station_name      | Hubbell St at 16t... \n",
      " start_station_latitude  | 37.76647421515012    \n",
      " start_station_longitude | -122.39829540252686  \n",
      " end_station_id          | 109                  \n",
      " end_station_name        | 17th St at Valenc... \n",
      " end_station_latitude    | 37.7633158           \n",
      " end_station_longitude   | -122.4219039         \n",
      " bike_id                 | 1466                 \n",
      " user_type               | Customer             \n",
      " member_birth_year       | 1975                 \n",
      " member_gender           | Male                 \n",
      " bike_share_for_all_trip | No                   \n",
      "-RECORD 6---------------------------------------\n",
      " duration_sec            | 18888                \n",
      " start_time              | 2018-10-31 21:43:... \n",
      " end_time                | 2018-11-01 02:58:... \n",
      " start_station_id        | 17                   \n",
      " start_station_name      | Embarcadero BART ... \n",
      " start_station_latitude  | 37.792251            \n",
      " start_station_longitude | -122.397086          \n",
      " end_station_id          | 74                   \n",
      " end_station_name        | Laguna St at Haye... \n",
      " end_station_latitude    | 37.776434819204745   \n",
      " end_station_longitude   | -122.42624402046204  \n",
      " bike_id                 | 4452                 \n",
      " user_type               | Subscriber           \n",
      " member_birth_year       | 1995                 \n",
      " member_gender           | Female               \n",
      " bike_share_for_all_trip | No                   \n",
      "-RECORD 7---------------------------------------\n",
      " duration_sec            | 1786                 \n",
      " start_time              | 2018-10-31 23:44:... \n",
      " end_time                | 2018-11-01 00:13:... \n",
      " start_station_id        | 323                  \n",
      " start_station_name      | Broadway at Kearny   \n",
      " start_station_latitude  | 37.79801364395978    \n",
      " start_station_longitude | -122.40595042705534  \n",
      " end_station_id          | 27                   \n",
      " end_station_name        | Beale St at Harri... \n",
      " end_station_latitude    | 37.7880593           \n",
      " end_station_longitude   | -122.3918648         \n",
      " bike_id                 | 4050                 \n",
      " user_type               | Subscriber           \n",
      " member_birth_year       | 1977                 \n",
      " member_gender           | Male                 \n",
      " bike_share_for_all_trip | No                   \n",
      "-RECORD 8---------------------------------------\n",
      " duration_sec            | 4391                 \n",
      " start_time              | 2018-10-31 23:00:... \n",
      " end_time                | 2018-11-01 00:13:... \n",
      " start_station_id        | 241                  \n",
      " start_station_name      | Ashby BART Station   \n",
      " start_station_latitude  | 37.8524766           \n",
      " start_station_longitude | -122.2702132         \n",
      " end_station_id          | 272                  \n",
      " end_station_name        | Woolsey St at Sac... \n",
      " end_station_latitude    | 37.850577684047856   \n",
      " end_station_longitude   | -122.27817535400389  \n",
      " bike_id                 | 1789                 \n",
      " user_type               | Customer             \n",
      " member_birth_year       | null                 \n",
      " member_gender           | null                 \n",
      " bike_share_for_all_trip | No                   \n",
      "-RECORD 9---------------------------------------\n",
      " duration_sec            | 1752                 \n",
      " start_time              | 2018-10-31 23:40:... \n",
      " end_time                | 2018-11-01 00:09:... \n",
      " start_station_id        | 81                   \n",
      " start_station_name      | Berry St at 4th St   \n",
      " start_station_latitude  | 37.77588             \n",
      " start_station_longitude | -122.39317           \n",
      " end_station_id          | 3                    \n",
      " end_station_name        | Powell St BART St... \n",
      " end_station_latitude    | 37.78637526861584    \n",
      " end_station_longitude   | -122.40490436553954  \n",
      " bike_id                 | 1525                 \n",
      " user_type               | Subscriber           \n",
      " member_birth_year       | 1986                 \n",
      " member_gender           | Other                \n",
      " bike_share_for_all_trip | Yes                  \n",
      "-RECORD 10--------------------------------------\n",
      " duration_sec            | 577                  \n",
      " start_time              | 2018-10-31 23:58:... \n",
      " end_time                | 2018-11-01 00:08:... \n",
      " start_station_id        | 93                   \n",
      " start_station_name      | 4th St at Mission... \n",
      " start_station_latitude  | 37.7704074           \n",
      " start_station_longitude | -122.3911984         \n",
      " end_station_id          | 122                  \n",
      " end_station_name        | 19th St at Missio... \n",
      " end_station_latitude    | 37.760299            \n",
      " end_station_longitude   | -122.418892          \n",
      " bike_id                 | 4436                 \n",
      " user_type               | Subscriber           \n",
      " member_birth_year       | 1994                 \n",
      " member_gender           | Male                 \n",
      " bike_share_for_all_trip | No                   \n",
      "-RECORD 11--------------------------------------\n",
      " duration_sec            | 689                  \n",
      " start_time              | 2018-10-31 23:53:... \n",
      " end_time                | 2018-11-01 00:04:... \n",
      " start_station_id        | 43                   \n",
      " start_station_name      | San Francisco Pub... \n",
      " start_station_latitude  | 37.7787677           \n",
      " start_station_longitude | -122.4159292         \n",
      " end_station_id          | 55                   \n",
      " end_station_name        | Webster St at Gro... \n",
      " end_station_latitude    | 37.7770527           \n",
      " end_station_longitude   | -122.4295585         \n",
      " bike_id                 | 2103                 \n",
      " user_type               | Subscriber           \n",
      " member_birth_year       | 1992                 \n",
      " member_gender           | Male                 \n",
      " bike_share_for_all_trip | No                   \n",
      "-RECORD 12--------------------------------------\n",
      " duration_sec            | 583                  \n",
      " start_time              | 2018-10-31 23:51:... \n",
      " end_time                | 2018-11-01 00:01:... \n",
      " start_station_id        | 97                   \n",
      " start_station_name      | 14th St at Missio... \n",
      " start_station_latitude  | 37.7682646           \n",
      " start_station_longitude | -122.4201102         \n",
      " end_station_id          | 67                   \n",
      " end_station_name        | San Francisco Cal... \n",
      " end_station_latitude    | 37.7766392           \n",
      " end_station_longitude   | -122.3955263         \n",
      " bike_id                 | 1834                 \n",
      " user_type               | Customer             \n",
      " member_birth_year       | null                 \n",
      " member_gender           | null                 \n",
      " bike_share_for_all_trip | No                   \n",
      "-RECORD 13--------------------------------------\n",
      " duration_sec            | 245                  \n",
      " start_time              | 2018-10-31 23:57:... \n",
      " end_time                | 2018-11-01 00:01:... \n",
      " start_station_id        | 308                  \n",
      " start_station_name      | San Pedro Square     \n",
      " start_station_latitude  | 37.336802            \n",
      " start_station_longitude | -121.8940901         \n",
      " end_station_id          | 305                  \n",
      " end_station_name        | Ryland Park          \n",
      " end_station_latitude    | 37.342725            \n",
      " end_station_longitude   | -121.895617          \n",
      " bike_id                 | 254                  \n",
      " user_type               | Subscriber           \n",
      " member_birth_year       | 1995                 \n",
      " member_gender           | Male                 \n",
      " bike_share_for_all_trip | Yes                  \n",
      "-RECORD 14--------------------------------------\n",
      " duration_sec            | 765                  \n",
      " start_time              | 2018-10-31 23:46:... \n",
      " end_time                | 2018-10-31 23:59:... \n",
      " start_station_id        | 350                  \n",
      " start_station_name      | 8th St at Brannan St \n",
      " start_station_latitude  | 37.771431362921085   \n",
      " start_station_longitude | -122.40578681230545  \n",
      " end_station_id          | 56                   \n",
      " end_station_name        | Koshland Park        \n",
      " end_station_latitude    | 37.77341396997343    \n",
      " end_station_longitude   | -122.42731690406801  \n",
      " bike_id                 | 1908                 \n",
      " user_type               | Subscriber           \n",
      " member_birth_year       | 1984                 \n",
      " member_gender           | Male                 \n",
      " bike_share_for_all_trip | No                   \n",
      "-RECORD 15--------------------------------------\n",
      " duration_sec            | 776                  \n",
      " start_time              | 2018-10-31 23:43:... \n",
      " end_time                | 2018-10-31 23:56:... \n",
      " start_station_id        | 60                   \n",
      " start_station_name      | 8th St at Ringold St \n",
      " start_station_latitude  | 37.77452040113685    \n",
      " start_station_longitude | -122.4094493687153   \n",
      " end_station_id          | 368                  \n",
      " end_station_name        | Myrtle St at Polk St \n",
      " end_station_latitude    | 37.78543382786823    \n",
      " end_station_longitude   | -122.41962164640428  \n",
      " bike_id                 | 1321                 \n",
      " user_type               | Subscriber           \n",
      " member_birth_year       | 1986                 \n",
      " member_gender           | Male                 \n",
      " bike_share_for_all_trip | No                   \n",
      "-RECORD 16--------------------------------------\n",
      " duration_sec            | 1061                 \n",
      " start_time              | 2018-10-31 23:38:... \n",
      " end_time                | 2018-10-31 23:56:... \n",
      " start_station_id        | 341                  \n",
      " start_station_name      | Fountain Alley at... \n",
      " start_station_latitude  | 37.33618830029063    \n",
      " start_station_longitude | -121.88927650451659  \n",
      " end_station_id          | 357                  \n",
      " end_station_name        | 2nd St at Julian St  \n",
      " end_station_latitude    | 37.34113203547954    \n",
      " end_station_longitude   | -121.89284384250641  \n",
      " bike_id                 | 352                  \n",
      " user_type               | Subscriber           \n",
      " member_birth_year       | 1994                 \n",
      " member_gender           | Male                 \n",
      " bike_share_for_all_trip | Yes                  \n",
      "-RECORD 17--------------------------------------\n",
      " duration_sec            | 171                  \n",
      " start_time              | 2018-10-31 23:53:... \n",
      " end_time                | 2018-10-31 23:56:... \n",
      " start_station_id        | 133                  \n",
      " start_station_name      | Valencia St at 22... \n",
      " start_station_latitude  | 37.7552126           \n",
      " start_station_longitude | -122.4209752         \n",
      " end_station_id          | 98                   \n",
      " end_station_name        | Valencia St at 16... \n",
      " end_station_latitude    | 37.765052            \n",
      " end_station_longitude   | -122.4218661         \n",
      " bike_id                 | 3610                 \n",
      " user_type               | Subscriber           \n",
      " member_birth_year       | 1993                 \n",
      " member_gender           | Male                 \n",
      " bike_share_for_all_trip | No                   \n",
      "-RECORD 18--------------------------------------\n",
      " duration_sec            | 1043                 \n",
      " start_time              | 2018-10-31 23:38:... \n",
      " end_time                | 2018-10-31 23:55:... \n",
      " start_station_id        | 341                  \n",
      " start_station_name      | Fountain Alley at... \n",
      " start_station_latitude  | 37.33618830029063    \n",
      " start_station_longitude | -121.88927650451659  \n",
      " end_station_id          | 357                  \n",
      " end_station_name        | 2nd St at Julian St  \n",
      " end_station_latitude    | 37.34113203547954    \n",
      " end_station_longitude   | -121.89284384250641  \n",
      " bike_id                 | 1269                 \n",
      " user_type               | Subscriber           \n",
      " member_birth_year       | 1994                 \n",
      " member_gender           | Male                 \n",
      " bike_share_for_all_trip | Yes                  \n",
      "-RECORD 19--------------------------------------\n",
      " duration_sec            | 1006                 \n",
      " start_time              | 2018-10-31 23:39:... \n",
      " end_time                | 2018-10-31 23:55:... \n",
      " start_station_id        | 341                  \n",
      " start_station_name      | Fountain Alley at... \n",
      " start_station_latitude  | 37.33618830029063    \n",
      " start_station_longitude | -121.88927650451659  \n",
      " end_station_id          | 357                  \n",
      " end_station_name        | 2nd St at Julian St  \n",
      " end_station_latitude    | 37.34113203547954    \n",
      " end_station_longitude   | -121.89284384250641  \n",
      " bike_id                 | 2823                 \n",
      " user_type               | Subscriber           \n",
      " member_birth_year       | 1993                 \n",
      " member_gender           | Male                 \n",
      " bike_share_for_all_trip | Yes                  \n",
      "only showing top 20 rows\n",
      "\n",
      "Wall time: 873 ms\n"
     ]
    }
   ],
   "source": [
    "%%time\n",
    "\n",
    "#check df:\n",
    "df.show(vertical=True)"
   ]
  },
  {
   "cell_type": "code",
   "execution_count": 16,
   "metadata": {},
   "outputs": [
    {
     "name": "stdout",
     "output_type": "stream",
     "text": [
      "Wall time: 26.2 s\n"
     ]
    }
   ],
   "source": [
    "%%time\n",
    "\n",
    "#Read in using Koalas read_csv\n",
    "kdf = ks.read_csv('C:\\\\Users\\\\hp\\\\Downloads\\\\TEST projects\\\\data\\\\*.csv', header=0, sep=\",\")\n",
    "#this is slow, try converting to koalas from pyspark df"
   ]
  },
  {
   "cell_type": "code",
   "execution_count": 8,
   "metadata": {},
   "outputs": [],
   "source": [
    "#to avoid whole partition in single node when converting spark df to koalas:\n",
    "ks.set_option('compute.default_index_type', 'distributed')"
   ]
  },
  {
   "cell_type": "code",
   "execution_count": 9,
   "metadata": {},
   "outputs": [
    {
     "name": "stdout",
     "output_type": "stream",
     "text": [
      "Wall time: 896 ms\n"
     ]
    }
   ],
   "source": [
    "%%time\n",
    "\n",
    "#convert pyspark df to koalas df:\n",
    "kdf = df.to_koalas() #this is efficient"
   ]
  },
  {
   "cell_type": "code",
   "execution_count": 9,
   "metadata": {},
   "outputs": [
    {
     "name": "stdout",
     "output_type": "stream",
     "text": [
      "Wall time: 765 ms\n"
     ]
    },
    {
     "data": {
      "text/html": [
       "<div>\n",
       "<style scoped>\n",
       "    .dataframe tbody tr th:only-of-type {\n",
       "        vertical-align: middle;\n",
       "    }\n",
       "\n",
       "    .dataframe tbody tr th {\n",
       "        vertical-align: top;\n",
       "    }\n",
       "\n",
       "    .dataframe thead th {\n",
       "        text-align: right;\n",
       "    }\n",
       "</style>\n",
       "<table border=\"1\" class=\"dataframe\">\n",
       "  <thead>\n",
       "    <tr style=\"text-align: right;\">\n",
       "      <th></th>\n",
       "      <th>duration_sec</th>\n",
       "      <th>start_time</th>\n",
       "      <th>end_time</th>\n",
       "      <th>start_station_id</th>\n",
       "      <th>start_station_name</th>\n",
       "      <th>start_station_latitude</th>\n",
       "      <th>start_station_longitude</th>\n",
       "      <th>end_station_id</th>\n",
       "      <th>end_station_name</th>\n",
       "      <th>end_station_latitude</th>\n",
       "      <th>end_station_longitude</th>\n",
       "      <th>bike_id</th>\n",
       "      <th>user_type</th>\n",
       "      <th>member_birth_year</th>\n",
       "      <th>member_gender</th>\n",
       "      <th>bike_share_for_all_trip</th>\n",
       "    </tr>\n",
       "  </thead>\n",
       "  <tbody>\n",
       "    <tr>\n",
       "      <th>0</th>\n",
       "      <td>80066</td>\n",
       "      <td>2018-10-31 20:49:03.1400</td>\n",
       "      <td>2018-11-01 19:03:30.0550</td>\n",
       "      <td>138</td>\n",
       "      <td>Jersey St at Church St</td>\n",
       "      <td>37.7509004</td>\n",
       "      <td>-122.4274114</td>\n",
       "      <td>147</td>\n",
       "      <td>29th St at Tiffany Ave</td>\n",
       "      <td>37.7440667</td>\n",
       "      <td>-122.4214722</td>\n",
       "      <td>3458</td>\n",
       "      <td>Customer</td>\n",
       "      <td>1987</td>\n",
       "      <td>Female</td>\n",
       "      <td>No</td>\n",
       "    </tr>\n",
       "    <tr>\n",
       "      <th>1</th>\n",
       "      <td>56428</td>\n",
       "      <td>2018-10-31 20:18:02.8810</td>\n",
       "      <td>2018-11-01 11:58:31.1460</td>\n",
       "      <td>75</td>\n",
       "      <td>Market St at Franklin St</td>\n",
       "      <td>37.7737932060887</td>\n",
       "      <td>-122.42123901844025</td>\n",
       "      <td>86</td>\n",
       "      <td>Market St at Dolores St</td>\n",
       "      <td>37.7693053</td>\n",
       "      <td>-122.4268256</td>\n",
       "      <td>1798</td>\n",
       "      <td>Customer</td>\n",
       "      <td>None</td>\n",
       "      <td>None</td>\n",
       "      <td>No</td>\n",
       "    </tr>\n",
       "    <tr>\n",
       "      <th>2</th>\n",
       "      <td>44825</td>\n",
       "      <td>2018-10-31 20:07:13.3780</td>\n",
       "      <td>2018-11-01 08:34:19.3670</td>\n",
       "      <td>139</td>\n",
       "      <td>Garfield Square (25th St at Harrison St)</td>\n",
       "      <td>37.7510171</td>\n",
       "      <td>-122.4119009</td>\n",
       "      <td>122</td>\n",
       "      <td>19th St at Mission St</td>\n",
       "      <td>37.760299</td>\n",
       "      <td>-122.418892</td>\n",
       "      <td>1575</td>\n",
       "      <td>Customer</td>\n",
       "      <td>1983</td>\n",
       "      <td>Female</td>\n",
       "      <td>No</td>\n",
       "    </tr>\n",
       "    <tr>\n",
       "      <th>3</th>\n",
       "      <td>55461</td>\n",
       "      <td>2018-10-31 17:06:37.6830</td>\n",
       "      <td>2018-11-01 08:30:59.2200</td>\n",
       "      <td>67</td>\n",
       "      <td>San Francisco Caltrain Station 2  (Townsend St...</td>\n",
       "      <td>37.7766392</td>\n",
       "      <td>-122.3955263</td>\n",
       "      <td>16</td>\n",
       "      <td>Steuart St at Market St</td>\n",
       "      <td>37.79413</td>\n",
       "      <td>-122.39443</td>\n",
       "      <td>2978</td>\n",
       "      <td>Subscriber</td>\n",
       "      <td>1992</td>\n",
       "      <td>Female</td>\n",
       "      <td>No</td>\n",
       "    </tr>\n",
       "    <tr>\n",
       "      <th>4</th>\n",
       "      <td>47724</td>\n",
       "      <td>2018-10-31 18:27:36.8230</td>\n",
       "      <td>2018-11-01 07:43:01.5610</td>\n",
       "      <td>259</td>\n",
       "      <td>Addison St at Fourth St</td>\n",
       "      <td>37.866249</td>\n",
       "      <td>-122.2993708</td>\n",
       "      <td>259</td>\n",
       "      <td>Addison St at Fourth St</td>\n",
       "      <td>37.866249</td>\n",
       "      <td>-122.2993708</td>\n",
       "      <td>2392</td>\n",
       "      <td>Customer</td>\n",
       "      <td>None</td>\n",
       "      <td>None</td>\n",
       "      <td>No</td>\n",
       "    </tr>\n",
       "    <tr>\n",
       "      <th>5</th>\n",
       "      <td>32818</td>\n",
       "      <td>2018-10-31 20:54:06.5050</td>\n",
       "      <td>2018-11-01 06:01:05.3020</td>\n",
       "      <td>345</td>\n",
       "      <td>Hubbell St at 16th St</td>\n",
       "      <td>37.76647421515012</td>\n",
       "      <td>-122.39829540252686</td>\n",
       "      <td>109</td>\n",
       "      <td>17th St at Valencia St</td>\n",
       "      <td>37.7633158</td>\n",
       "      <td>-122.4219039</td>\n",
       "      <td>1466</td>\n",
       "      <td>Customer</td>\n",
       "      <td>1975</td>\n",
       "      <td>Male</td>\n",
       "      <td>No</td>\n",
       "    </tr>\n",
       "    <tr>\n",
       "      <th>6</th>\n",
       "      <td>18888</td>\n",
       "      <td>2018-10-31 21:43:43.0640</td>\n",
       "      <td>2018-11-01 02:58:31.2400</td>\n",
       "      <td>17</td>\n",
       "      <td>Embarcadero BART Station (Beale St at Market St)</td>\n",
       "      <td>37.792251</td>\n",
       "      <td>-122.397086</td>\n",
       "      <td>74</td>\n",
       "      <td>Laguna St at Hayes St</td>\n",
       "      <td>37.776434819204745</td>\n",
       "      <td>-122.42624402046204</td>\n",
       "      <td>4452</td>\n",
       "      <td>Subscriber</td>\n",
       "      <td>1995</td>\n",
       "      <td>Female</td>\n",
       "      <td>No</td>\n",
       "    </tr>\n",
       "    <tr>\n",
       "      <th>7</th>\n",
       "      <td>1786</td>\n",
       "      <td>2018-10-31 23:44:10.7030</td>\n",
       "      <td>2018-11-01 00:13:56.9500</td>\n",
       "      <td>323</td>\n",
       "      <td>Broadway at Kearny</td>\n",
       "      <td>37.79801364395978</td>\n",
       "      <td>-122.40595042705534</td>\n",
       "      <td>27</td>\n",
       "      <td>Beale St at Harrison St</td>\n",
       "      <td>37.7880593</td>\n",
       "      <td>-122.3918648</td>\n",
       "      <td>4050</td>\n",
       "      <td>Subscriber</td>\n",
       "      <td>1977</td>\n",
       "      <td>Male</td>\n",
       "      <td>No</td>\n",
       "    </tr>\n",
       "    <tr>\n",
       "      <th>8</th>\n",
       "      <td>4391</td>\n",
       "      <td>2018-10-31 23:00:13.7270</td>\n",
       "      <td>2018-11-01 00:13:25.1030</td>\n",
       "      <td>241</td>\n",
       "      <td>Ashby BART Station</td>\n",
       "      <td>37.8524766</td>\n",
       "      <td>-122.2702132</td>\n",
       "      <td>272</td>\n",
       "      <td>Woolsey St at Sacramento St</td>\n",
       "      <td>37.850577684047856</td>\n",
       "      <td>-122.27817535400389</td>\n",
       "      <td>1789</td>\n",
       "      <td>Customer</td>\n",
       "      <td>None</td>\n",
       "      <td>None</td>\n",
       "      <td>No</td>\n",
       "    </tr>\n",
       "    <tr>\n",
       "      <th>9</th>\n",
       "      <td>1752</td>\n",
       "      <td>2018-10-31 23:40:10.4300</td>\n",
       "      <td>2018-11-01 00:09:23.0920</td>\n",
       "      <td>81</td>\n",
       "      <td>Berry St at 4th St</td>\n",
       "      <td>37.77588</td>\n",
       "      <td>-122.39317</td>\n",
       "      <td>3</td>\n",
       "      <td>Powell St BART Station (Market St at 4th St)</td>\n",
       "      <td>37.78637526861584</td>\n",
       "      <td>-122.40490436553954</td>\n",
       "      <td>1525</td>\n",
       "      <td>Subscriber</td>\n",
       "      <td>1986</td>\n",
       "      <td>Other</td>\n",
       "      <td>Yes</td>\n",
       "    </tr>\n",
       "    <tr>\n",
       "      <th>10</th>\n",
       "      <td>577</td>\n",
       "      <td>2018-10-31 23:58:54.3210</td>\n",
       "      <td>2018-11-01 00:08:31.8830</td>\n",
       "      <td>93</td>\n",
       "      <td>4th St at Mission Bay Blvd S</td>\n",
       "      <td>37.7704074</td>\n",
       "      <td>-122.3911984</td>\n",
       "      <td>122</td>\n",
       "      <td>19th St at Mission St</td>\n",
       "      <td>37.760299</td>\n",
       "      <td>-122.418892</td>\n",
       "      <td>4436</td>\n",
       "      <td>Subscriber</td>\n",
       "      <td>1994</td>\n",
       "      <td>Male</td>\n",
       "      <td>No</td>\n",
       "    </tr>\n",
       "    <tr>\n",
       "      <th>11</th>\n",
       "      <td>689</td>\n",
       "      <td>2018-10-31 23:53:01.3390</td>\n",
       "      <td>2018-11-01 00:04:30.6910</td>\n",
       "      <td>43</td>\n",
       "      <td>San Francisco Public Library (Grove St at Hyde...</td>\n",
       "      <td>37.7787677</td>\n",
       "      <td>-122.4159292</td>\n",
       "      <td>55</td>\n",
       "      <td>Webster St at Grove St</td>\n",
       "      <td>37.7770527</td>\n",
       "      <td>-122.4295585</td>\n",
       "      <td>2103</td>\n",
       "      <td>Subscriber</td>\n",
       "      <td>1992</td>\n",
       "      <td>Male</td>\n",
       "      <td>No</td>\n",
       "    </tr>\n",
       "    <tr>\n",
       "      <th>12</th>\n",
       "      <td>583</td>\n",
       "      <td>2018-10-31 23:51:54.0140</td>\n",
       "      <td>2018-11-01 00:01:37.7950</td>\n",
       "      <td>97</td>\n",
       "      <td>14th St at Mission St</td>\n",
       "      <td>37.7682646</td>\n",
       "      <td>-122.4201102</td>\n",
       "      <td>67</td>\n",
       "      <td>San Francisco Caltrain Station 2  (Townsend St...</td>\n",
       "      <td>37.7766392</td>\n",
       "      <td>-122.3955263</td>\n",
       "      <td>1834</td>\n",
       "      <td>Customer</td>\n",
       "      <td>None</td>\n",
       "      <td>None</td>\n",
       "      <td>No</td>\n",
       "    </tr>\n",
       "    <tr>\n",
       "      <th>13</th>\n",
       "      <td>245</td>\n",
       "      <td>2018-10-31 23:57:15.3810</td>\n",
       "      <td>2018-11-01 00:01:21.0630</td>\n",
       "      <td>308</td>\n",
       "      <td>San Pedro Square</td>\n",
       "      <td>37.336802</td>\n",
       "      <td>-121.8940901</td>\n",
       "      <td>305</td>\n",
       "      <td>Ryland Park</td>\n",
       "      <td>37.342725</td>\n",
       "      <td>-121.895617</td>\n",
       "      <td>254</td>\n",
       "      <td>Subscriber</td>\n",
       "      <td>1995</td>\n",
       "      <td>Male</td>\n",
       "      <td>Yes</td>\n",
       "    </tr>\n",
       "    <tr>\n",
       "      <th>14</th>\n",
       "      <td>765</td>\n",
       "      <td>2018-10-31 23:46:47.5260</td>\n",
       "      <td>2018-10-31 23:59:33.1390</td>\n",
       "      <td>350</td>\n",
       "      <td>8th St at Brannan St</td>\n",
       "      <td>37.771431362921085</td>\n",
       "      <td>-122.40578681230545</td>\n",
       "      <td>56</td>\n",
       "      <td>Koshland Park</td>\n",
       "      <td>37.77341396997343</td>\n",
       "      <td>-122.42731690406801</td>\n",
       "      <td>1908</td>\n",
       "      <td>Subscriber</td>\n",
       "      <td>1984</td>\n",
       "      <td>Male</td>\n",
       "      <td>No</td>\n",
       "    </tr>\n",
       "    <tr>\n",
       "      <th>15</th>\n",
       "      <td>776</td>\n",
       "      <td>2018-10-31 23:43:47.7870</td>\n",
       "      <td>2018-10-31 23:56:44.6770</td>\n",
       "      <td>60</td>\n",
       "      <td>8th St at Ringold St</td>\n",
       "      <td>37.77452040113685</td>\n",
       "      <td>-122.4094493687153</td>\n",
       "      <td>368</td>\n",
       "      <td>Myrtle St at Polk St</td>\n",
       "      <td>37.78543382786823</td>\n",
       "      <td>-122.41962164640428</td>\n",
       "      <td>1321</td>\n",
       "      <td>Subscriber</td>\n",
       "      <td>1986</td>\n",
       "      <td>Male</td>\n",
       "      <td>No</td>\n",
       "    </tr>\n",
       "    <tr>\n",
       "      <th>16</th>\n",
       "      <td>1061</td>\n",
       "      <td>2018-10-31 23:38:39.7140</td>\n",
       "      <td>2018-10-31 23:56:21.0410</td>\n",
       "      <td>341</td>\n",
       "      <td>Fountain Alley at S 2nd St</td>\n",
       "      <td>37.33618830029063</td>\n",
       "      <td>-121.88927650451659</td>\n",
       "      <td>357</td>\n",
       "      <td>2nd St at Julian St</td>\n",
       "      <td>37.34113203547954</td>\n",
       "      <td>-121.89284384250641</td>\n",
       "      <td>352</td>\n",
       "      <td>Subscriber</td>\n",
       "      <td>1994</td>\n",
       "      <td>Male</td>\n",
       "      <td>Yes</td>\n",
       "    </tr>\n",
       "    <tr>\n",
       "      <th>17</th>\n",
       "      <td>171</td>\n",
       "      <td>2018-10-31 23:53:14.1570</td>\n",
       "      <td>2018-10-31 23:56:05.5580</td>\n",
       "      <td>133</td>\n",
       "      <td>Valencia St at 22nd St</td>\n",
       "      <td>37.7552126</td>\n",
       "      <td>-122.4209752</td>\n",
       "      <td>98</td>\n",
       "      <td>Valencia St at 16th St</td>\n",
       "      <td>37.765052</td>\n",
       "      <td>-122.4218661</td>\n",
       "      <td>3610</td>\n",
       "      <td>Subscriber</td>\n",
       "      <td>1993</td>\n",
       "      <td>Male</td>\n",
       "      <td>No</td>\n",
       "    </tr>\n",
       "    <tr>\n",
       "      <th>18</th>\n",
       "      <td>1043</td>\n",
       "      <td>2018-10-31 23:38:35.0020</td>\n",
       "      <td>2018-10-31 23:55:58.6820</td>\n",
       "      <td>341</td>\n",
       "      <td>Fountain Alley at S 2nd St</td>\n",
       "      <td>37.33618830029063</td>\n",
       "      <td>-121.88927650451659</td>\n",
       "      <td>357</td>\n",
       "      <td>2nd St at Julian St</td>\n",
       "      <td>37.34113203547954</td>\n",
       "      <td>-121.89284384250641</td>\n",
       "      <td>1269</td>\n",
       "      <td>Subscriber</td>\n",
       "      <td>1994</td>\n",
       "      <td>Male</td>\n",
       "      <td>Yes</td>\n",
       "    </tr>\n",
       "    <tr>\n",
       "      <th>19</th>\n",
       "      <td>1006</td>\n",
       "      <td>2018-10-31 23:39:08.2550</td>\n",
       "      <td>2018-10-31 23:55:54.5810</td>\n",
       "      <td>341</td>\n",
       "      <td>Fountain Alley at S 2nd St</td>\n",
       "      <td>37.33618830029063</td>\n",
       "      <td>-121.88927650451659</td>\n",
       "      <td>357</td>\n",
       "      <td>2nd St at Julian St</td>\n",
       "      <td>37.34113203547954</td>\n",
       "      <td>-121.89284384250641</td>\n",
       "      <td>2823</td>\n",
       "      <td>Subscriber</td>\n",
       "      <td>1993</td>\n",
       "      <td>Male</td>\n",
       "      <td>Yes</td>\n",
       "    </tr>\n",
       "  </tbody>\n",
       "</table>\n",
       "</div>"
      ],
      "text/plain": [
       "   duration_sec                start_time                  end_time start_station_id                                         start_station_name start_station_latitude start_station_longitude end_station_id                                           end_station_name end_station_latitude end_station_longitude bike_id   user_type member_birth_year member_gender bike_share_for_all_trip\n",
       "0         80066  2018-10-31 20:49:03.1400  2018-11-01 19:03:30.0550              138                                     Jersey St at Church St             37.7509004            -122.4274114            147                                     29th St at Tiffany Ave           37.7440667          -122.4214722    3458    Customer              1987        Female                      No\n",
       "1         56428  2018-10-31 20:18:02.8810  2018-11-01 11:58:31.1460               75                                   Market St at Franklin St       37.7737932060887     -122.42123901844025             86                                    Market St at Dolores St           37.7693053          -122.4268256    1798    Customer              None          None                      No\n",
       "2         44825  2018-10-31 20:07:13.3780  2018-11-01 08:34:19.3670              139                   Garfield Square (25th St at Harrison St)             37.7510171            -122.4119009            122                                      19th St at Mission St            37.760299           -122.418892    1575    Customer              1983        Female                      No\n",
       "3         55461  2018-10-31 17:06:37.6830  2018-11-01 08:30:59.2200               67  San Francisco Caltrain Station 2  (Townsend St at 4th St)             37.7766392            -122.3955263             16                                    Steuart St at Market St             37.79413            -122.39443    2978  Subscriber              1992        Female                      No\n",
       "4         47724  2018-10-31 18:27:36.8230  2018-11-01 07:43:01.5610              259                                    Addison St at Fourth St              37.866249            -122.2993708            259                                    Addison St at Fourth St            37.866249          -122.2993708    2392    Customer              None          None                      No\n",
       "5         32818  2018-10-31 20:54:06.5050  2018-11-01 06:01:05.3020              345                                      Hubbell St at 16th St      37.76647421515012     -122.39829540252686            109                                     17th St at Valencia St           37.7633158          -122.4219039    1466    Customer              1975          Male                      No\n",
       "6         18888  2018-10-31 21:43:43.0640  2018-11-01 02:58:31.2400               17           Embarcadero BART Station (Beale St at Market St)              37.792251             -122.397086             74                                      Laguna St at Hayes St   37.776434819204745   -122.42624402046204    4452  Subscriber              1995        Female                      No\n",
       "7          1786  2018-10-31 23:44:10.7030  2018-11-01 00:13:56.9500              323                                         Broadway at Kearny      37.79801364395978     -122.40595042705534             27                                    Beale St at Harrison St           37.7880593          -122.3918648    4050  Subscriber              1977          Male                      No\n",
       "8          4391  2018-10-31 23:00:13.7270  2018-11-01 00:13:25.1030              241                                         Ashby BART Station             37.8524766            -122.2702132            272                                Woolsey St at Sacramento St   37.850577684047856   -122.27817535400389    1789    Customer              None          None                      No\n",
       "9          1752  2018-10-31 23:40:10.4300  2018-11-01 00:09:23.0920               81                                         Berry St at 4th St               37.77588              -122.39317              3               Powell St BART Station (Market St at 4th St)    37.78637526861584   -122.40490436553954    1525  Subscriber              1986         Other                     Yes\n",
       "10          577  2018-10-31 23:58:54.3210  2018-11-01 00:08:31.8830               93                               4th St at Mission Bay Blvd S             37.7704074            -122.3911984            122                                      19th St at Mission St            37.760299           -122.418892    4436  Subscriber              1994          Male                      No\n",
       "11          689  2018-10-31 23:53:01.3390  2018-11-01 00:04:30.6910               43         San Francisco Public Library (Grove St at Hyde St)             37.7787677            -122.4159292             55                                     Webster St at Grove St           37.7770527          -122.4295585    2103  Subscriber              1992          Male                      No\n",
       "12          583  2018-10-31 23:51:54.0140  2018-11-01 00:01:37.7950               97                                      14th St at Mission St             37.7682646            -122.4201102             67  San Francisco Caltrain Station 2  (Townsend St at 4th St)           37.7766392          -122.3955263    1834    Customer              None          None                      No\n",
       "13          245  2018-10-31 23:57:15.3810  2018-11-01 00:01:21.0630              308                                           San Pedro Square              37.336802            -121.8940901            305                                                Ryland Park            37.342725           -121.895617     254  Subscriber              1995          Male                     Yes\n",
       "14          765  2018-10-31 23:46:47.5260  2018-10-31 23:59:33.1390              350                                       8th St at Brannan St     37.771431362921085     -122.40578681230545             56                                              Koshland Park    37.77341396997343   -122.42731690406801    1908  Subscriber              1984          Male                      No\n",
       "15          776  2018-10-31 23:43:47.7870  2018-10-31 23:56:44.6770               60                                       8th St at Ringold St      37.77452040113685      -122.4094493687153            368                                       Myrtle St at Polk St    37.78543382786823   -122.41962164640428    1321  Subscriber              1986          Male                      No\n",
       "16         1061  2018-10-31 23:38:39.7140  2018-10-31 23:56:21.0410              341                                 Fountain Alley at S 2nd St      37.33618830029063     -121.88927650451659            357                                        2nd St at Julian St    37.34113203547954   -121.89284384250641     352  Subscriber              1994          Male                     Yes\n",
       "17          171  2018-10-31 23:53:14.1570  2018-10-31 23:56:05.5580              133                                     Valencia St at 22nd St             37.7552126            -122.4209752             98                                     Valencia St at 16th St            37.765052          -122.4218661    3610  Subscriber              1993          Male                      No\n",
       "18         1043  2018-10-31 23:38:35.0020  2018-10-31 23:55:58.6820              341                                 Fountain Alley at S 2nd St      37.33618830029063     -121.88927650451659            357                                        2nd St at Julian St    37.34113203547954   -121.89284384250641    1269  Subscriber              1994          Male                     Yes\n",
       "19         1006  2018-10-31 23:39:08.2550  2018-10-31 23:55:54.5810              341                                 Fountain Alley at S 2nd St      37.33618830029063     -121.88927650451659            357                                        2nd St at Julian St    37.34113203547954   -121.89284384250641    2823  Subscriber              1993          Male                     Yes"
      ]
     },
     "execution_count": 9,
     "metadata": {},
     "output_type": "execute_result"
    }
   ],
   "source": [
    "%%time\n",
    "\n",
    "kdf.head(20) #display 20 records to make it equal to pyspark .show method"
   ]
  },
  {
   "cell_type": "code",
   "execution_count": 12,
   "metadata": {},
   "outputs": [
    {
     "name": "stdout",
     "output_type": "stream",
     "text": [
      "Wall time: 2.32 s\n"
     ]
    },
    {
     "data": {
      "text/plain": [
       "(1863721, 16)"
      ]
     },
     "execution_count": 12,
     "metadata": {},
     "output_type": "execute_result"
    }
   ],
   "source": [
    "%%time\n",
    "\n",
    "kdf.shape #quick"
   ]
  },
  {
   "cell_type": "code",
   "execution_count": 10,
   "metadata": {},
   "outputs": [
    {
     "name": "stdout",
     "output_type": "stream",
     "text": [
      "(1863721, 16)\n",
      "Wall time: 2.78 s\n"
     ]
    }
   ],
   "source": [
    "%%time\n",
    "\n",
    "#cols and rows in pyspark:\n",
    "print((df.count(), len(df.columns)))"
   ]
  },
  {
   "cell_type": "code",
   "execution_count": 11,
   "metadata": {},
   "outputs": [
    {
     "name": "stdout",
     "output_type": "stream",
     "text": [
      "Wall time: 0 ns\n"
     ]
    },
    {
     "data": {
      "text/plain": [
       "['duration_sec',\n",
       " 'start_time',\n",
       " 'end_time',\n",
       " 'start_station_id',\n",
       " 'start_station_name',\n",
       " 'start_station_latitude',\n",
       " 'start_station_longitude',\n",
       " 'end_station_id',\n",
       " 'end_station_name',\n",
       " 'end_station_latitude',\n",
       " 'end_station_longitude',\n",
       " 'bike_id',\n",
       " 'user_type',\n",
       " 'member_birth_year',\n",
       " 'member_gender',\n",
       " 'bike_share_for_all_trip']"
      ]
     },
     "execution_count": 11,
     "metadata": {},
     "output_type": "execute_result"
    }
   ],
   "source": [
    "%%time\n",
    "\n",
    "#cols ps:\n",
    "df.columns"
   ]
  },
  {
   "cell_type": "code",
   "execution_count": 13,
   "metadata": {},
   "outputs": [
    {
     "name": "stdout",
     "output_type": "stream",
     "text": [
      "Wall time: 0 ns\n"
     ]
    },
    {
     "data": {
      "text/plain": [
       "Index(['duration_sec', 'start_time', 'end_time', 'start_station_id',\n",
       "       'start_station_name', 'start_station_latitude',\n",
       "       'start_station_longitude', 'end_station_id', 'end_station_name',\n",
       "       'end_station_latitude', 'end_station_longitude', 'bike_id', 'user_type',\n",
       "       'member_birth_year', 'member_gender', 'bike_share_for_all_trip'],\n",
       "      dtype='object')"
      ]
     },
     "execution_count": 13,
     "metadata": {},
     "output_type": "execute_result"
    }
   ],
   "source": [
    "%%time \n",
    "\n",
    "#cols kdf:\n",
    "kdf.columns"
   ]
  },
  {
   "cell_type": "code",
   "execution_count": 14,
   "metadata": {},
   "outputs": [
    {
     "name": "stdout",
     "output_type": "stream",
     "text": [
      "root\n",
      " |-- duration_sec: string (nullable = true)\n",
      " |-- start_time: string (nullable = true)\n",
      " |-- end_time: string (nullable = true)\n",
      " |-- start_station_id: string (nullable = true)\n",
      " |-- start_station_name: string (nullable = true)\n",
      " |-- start_station_latitude: string (nullable = true)\n",
      " |-- start_station_longitude: string (nullable = true)\n",
      " |-- end_station_id: string (nullable = true)\n",
      " |-- end_station_name: string (nullable = true)\n",
      " |-- end_station_latitude: string (nullable = true)\n",
      " |-- end_station_longitude: string (nullable = true)\n",
      " |-- bike_id: string (nullable = true)\n",
      " |-- user_type: string (nullable = true)\n",
      " |-- member_birth_year: string (nullable = true)\n",
      " |-- member_gender: string (nullable = true)\n",
      " |-- bike_share_for_all_trip: string (nullable = true)\n",
      "\n",
      "Wall time: 4.5 ms\n"
     ]
    }
   ],
   "source": [
    "%%time\n",
    "\n",
    "#cols and dtypes ps:\n",
    "df.printSchema()"
   ]
  },
  {
   "cell_type": "code",
   "execution_count": 15,
   "metadata": {},
   "outputs": [
    {
     "name": "stdout",
     "output_type": "stream",
     "text": [
      "<class 'databricks.koalas.frame.DataFrame'>\n",
      "Int64Index: 1863721 entries, 0 to 1863720\n",
      "Data columns (total 16 columns):\n",
      " #   Column                   Non-Null Count    Dtype \n",
      "---  ------                   --------------    ----- \n",
      " 0   duration_sec             1863721 non-null  object\n",
      " 1   start_time               1863721 non-null  object\n",
      " 2   end_time                 1863721 non-null  object\n",
      " 3   start_station_id         1863721 non-null  object\n",
      " 4   start_station_name       1863721 non-null  object\n",
      " 5   start_station_latitude   1863721 non-null  object\n",
      " 6   start_station_longitude  1863721 non-null  object\n",
      " 7   end_station_id           1863721 non-null  object\n",
      " 8   end_station_name         1863721 non-null  object\n",
      " 9   end_station_latitude     1863721 non-null  object\n",
      " 10  end_station_longitude    1863721 non-null  object\n",
      " 11  bike_id                  1863721 non-null  object\n",
      " 12  user_type                1863721 non-null  object\n",
      " 13  member_birth_year        1753003 non-null  object\n",
      " 14  member_gender            1753354 non-null  object\n",
      " 15  bike_share_for_all_trip  1863721 non-null  object\n",
      "dtypes: object(16)Wall time: 45.2 s\n"
     ]
    }
   ],
   "source": [
    "%%time\n",
    "\n",
    "kdf.info()"
   ]
  },
  {
   "cell_type": "code",
   "execution_count": 10,
   "metadata": {},
   "outputs": [
    {
     "name": "stdout",
     "output_type": "stream",
     "text": [
      "Wall time: 49.9 ms\n"
     ]
    }
   ],
   "source": [
    "%%time\n",
    "\n",
    "#rename cols ps:\n",
    "df = df.withColumnRenamed(\"duration_sec\", \"dur_sec\")\\\n",
    "       .withColumnRenamed(\"end_station_latitude\", \"end_station_lat\")\\\n",
    "       .withColumnRenamed(\"end_station_longitude\", \"end_station_long\")"
   ]
  },
  {
   "cell_type": "code",
   "execution_count": 11,
   "metadata": {},
   "outputs": [
    {
     "name": "stdout",
     "output_type": "stream",
     "text": [
      "Wall time: 894 ms\n"
     ]
    }
   ],
   "source": [
    "%%time\n",
    "\n",
    "kdf = kdf.rename(columns = {\"duration_sec\": \"dur_sec\", \"end_station_latitude\": \"end_station_lat\",\n",
    "                      \"end_station_longitude\": \"end_station_long\"})"
   ]
  },
  {
   "cell_type": "code",
   "execution_count": 12,
   "metadata": {},
   "outputs": [
    {
     "name": "stdout",
     "output_type": "stream",
     "text": [
      "Wall time: 1.56 s\n"
     ]
    }
   ],
   "source": [
    "%%time\n",
    "\n",
    "from pyspark.sql.functions import col\n",
    "#create new col ps:\n",
    "df = df.withColumn('member_age', 2018 - col('member_birth_year'))\n",
    "#change new col to int:\n",
    "df = df.withColumn('member_age', df.member_age.cast('int'))"
   ]
  },
  {
   "cell_type": "code",
   "execution_count": 21,
   "metadata": {},
   "outputs": [
    {
     "name": "stdout",
     "output_type": "stream",
     "text": [
      "root\n",
      " |-- dur_sec: string (nullable = true)\n",
      " |-- start_time: string (nullable = true)\n",
      " |-- end_time: string (nullable = true)\n",
      " |-- start_station_id: string (nullable = true)\n",
      " |-- start_station_name: string (nullable = true)\n",
      " |-- start_station_latitude: string (nullable = true)\n",
      " |-- start_station_longitude: string (nullable = true)\n",
      " |-- end_station_id: string (nullable = true)\n",
      " |-- end_station_name: string (nullable = true)\n",
      " |-- end_station_lat: string (nullable = true)\n",
      " |-- end_station_long: string (nullable = true)\n",
      " |-- bike_id: string (nullable = true)\n",
      " |-- user_type: string (nullable = true)\n",
      " |-- member_birth_year: string (nullable = true)\n",
      " |-- member_gender: string (nullable = true)\n",
      " |-- bike_share_for_all_trip: string (nullable = true)\n",
      " |-- member_age: integer (nullable = true)\n",
      "\n"
     ]
    }
   ],
   "source": [
    "#test:\n",
    "df.printSchema()"
   ]
  },
  {
   "cell_type": "code",
   "execution_count": 11,
   "metadata": {},
   "outputs": [
    {
     "data": {
      "text/plain": [
       "Index(['dur_sec', 'start_time', 'end_time', 'start_station_id',\n",
       "       'start_station_name', 'start_station_latitude',\n",
       "       'start_station_longitude', 'end_station_id', 'end_station_name',\n",
       "       'end_station_lat', 'end_station_long', 'bike_id', 'user_type',\n",
       "       'member_birth_year', 'member_gender', 'bike_share_for_all_trip'],\n",
       "      dtype='object')"
      ]
     },
     "execution_count": 11,
     "metadata": {},
     "output_type": "execute_result"
    }
   ],
   "source": [
    "kdf.columns"
   ]
  },
  {
   "cell_type": "code",
   "execution_count": 85,
   "metadata": {},
   "outputs": [
    {
     "data": {
      "text/plain": [
       "dur_sec                         0\n",
       "start_time                      0\n",
       "end_time                        0\n",
       "start_station_id                0\n",
       "start_station_name              0\n",
       "start_station_latitude          0\n",
       "start_station_longitude         0\n",
       "end_station_id                  0\n",
       "end_station_name                0\n",
       "end_station_lat                 0\n",
       "end_station_long                0\n",
       "bike_id                         0\n",
       "user_type                       0\n",
       "member_birth_year          110718\n",
       "member_gender              110367\n",
       "bike_share_for_all_trip         0\n",
       "member_age                 110718\n",
       "dtype: int64"
      ]
     },
     "execution_count": 85,
     "metadata": {},
     "output_type": "execute_result"
    }
   ],
   "source": [
    "kdf.isnull().sum()"
   ]
  },
  {
   "cell_type": "code",
   "execution_count": null,
   "metadata": {},
   "outputs": [],
   "source": [
    "#when calculating the age column, kdf returns float ints, whereas ps returns whole numbers. This is the desired format going\n",
    "#forward as trailing decimals will cause issues when doing computations or aggregations.\n",
    "\n",
    "\n",
    "#NOTE:\n",
    "#there are NaNs in age col and pandas/koalas needs to use a float64 type to represent NaNs -> this is why the conversion to\n",
    "# int returns decimal point(.0)\n",
    "#SOLUTION -> drop nan values in year col before age calculation in order to return whole numbers\n",
    "\n",
    "#this is one massive disadvantage in comparison to age calc in pyspark df --> see possible solution below"
   ]
  },
  {
   "cell_type": "code",
   "execution_count": 13,
   "metadata": {},
   "outputs": [],
   "source": [
    "#drop nans in year col before age calculation:\n",
    "kdf.dropna(subset=['member_birth_year'], inplace = True)"
   ]
  },
  {
   "cell_type": "code",
   "execution_count": 89,
   "metadata": {},
   "outputs": [
    {
     "data": {
      "text/plain": [
       "dur_sec                    0\n",
       "start_time                 0\n",
       "end_time                   0\n",
       "start_station_id           0\n",
       "start_station_name         0\n",
       "start_station_latitude     0\n",
       "start_station_longitude    0\n",
       "end_station_id             0\n",
       "end_station_name           0\n",
       "end_station_lat            0\n",
       "end_station_long           0\n",
       "bike_id                    0\n",
       "user_type                  0\n",
       "member_birth_year          0\n",
       "member_gender              0\n",
       "bike_share_for_all_trip    0\n",
       "member_age                 0\n",
       "dtype: int64"
      ]
     },
     "execution_count": 89,
     "metadata": {},
     "output_type": "execute_result"
    }
   ],
   "source": [
    "#test:\n",
    "kdf.isnull().sum()"
   ]
  },
  {
   "cell_type": "code",
   "execution_count": 14,
   "metadata": {},
   "outputs": [
    {
     "name": "stdout",
     "output_type": "stream",
     "text": [
      "Wall time: 341 ms\n"
     ]
    },
    {
     "data": {
      "text/plain": [
       "dtype('int32')"
      ]
     },
     "execution_count": 14,
     "metadata": {},
     "output_type": "execute_result"
    }
   ],
   "source": [
    "%%time\n",
    "\n",
    "#new col:\n",
    "kdf['member_age'] = 2018 - kdf['member_birth_year'].astype(int)\n",
    "kdf.member_age.dtype"
   ]
  },
  {
   "cell_type": "code",
   "execution_count": 13,
   "metadata": {},
   "outputs": [
    {
     "name": "stdout",
     "output_type": "stream",
     "text": [
      "+-------+------------------+\n",
      "|summary|        member_age|\n",
      "+-------+------------------+\n",
      "|  count|           1753003|\n",
      "|   mean| 34.91203780027758|\n",
      "| stddev|10.442886209686751|\n",
      "|    min|                18|\n",
      "|    max|               137|\n",
      "+-------+------------------+\n",
      "\n",
      "Wall time: 30.5 s\n"
     ]
    }
   ],
   "source": [
    "%%time\n",
    "\n",
    "#summary stats age in ps:\n",
    "df.describe(['member_age']).show()"
   ]
  },
  {
   "cell_type": "code",
   "execution_count": 96,
   "metadata": {},
   "outputs": [
    {
     "name": "stdout",
     "output_type": "stream",
     "text": [
      "Wall time: 2.97 s\n"
     ]
    },
    {
     "data": {
      "text/html": [
       "<div>\n",
       "<style scoped>\n",
       "    .dataframe tbody tr th:only-of-type {\n",
       "        vertical-align: middle;\n",
       "    }\n",
       "\n",
       "    .dataframe tbody tr th {\n",
       "        vertical-align: top;\n",
       "    }\n",
       "\n",
       "    .dataframe thead th {\n",
       "        text-align: right;\n",
       "    }\n",
       "</style>\n",
       "<table border=\"1\" class=\"dataframe\">\n",
       "  <thead>\n",
       "    <tr style=\"text-align: right;\">\n",
       "      <th></th>\n",
       "      <th>member_age</th>\n",
       "    </tr>\n",
       "  </thead>\n",
       "  <tbody>\n",
       "    <tr>\n",
       "      <th>count</th>\n",
       "      <td>1.753003e+06</td>\n",
       "    </tr>\n",
       "    <tr>\n",
       "      <th>mean</th>\n",
       "      <td>3.491204e+01</td>\n",
       "    </tr>\n",
       "    <tr>\n",
       "      <th>std</th>\n",
       "      <td>1.044289e+01</td>\n",
       "    </tr>\n",
       "    <tr>\n",
       "      <th>min</th>\n",
       "      <td>1.800000e+01</td>\n",
       "    </tr>\n",
       "    <tr>\n",
       "      <th>25%</th>\n",
       "      <td>2.700000e+01</td>\n",
       "    </tr>\n",
       "    <tr>\n",
       "      <th>50%</th>\n",
       "      <td>3.300000e+01</td>\n",
       "    </tr>\n",
       "    <tr>\n",
       "      <th>75%</th>\n",
       "      <td>4.000000e+01</td>\n",
       "    </tr>\n",
       "    <tr>\n",
       "      <th>max</th>\n",
       "      <td>1.370000e+02</td>\n",
       "    </tr>\n",
       "  </tbody>\n",
       "</table>\n",
       "</div>"
      ],
      "text/plain": [
       "         member_age\n",
       "count  1.753003e+06\n",
       "mean   3.491204e+01\n",
       "std    1.044289e+01\n",
       "min    1.800000e+01\n",
       "25%    2.700000e+01\n",
       "50%    3.300000e+01\n",
       "75%    4.000000e+01\n",
       "max    1.370000e+02"
      ]
     },
     "execution_count": 96,
     "metadata": {},
     "output_type": "execute_result"
    }
   ],
   "source": [
    "%%time\n",
    "\n",
    "#summary stats age in kdf:\n",
    "kdf.describe() #why return of floats when age is whole number in df?"
   ]
  },
  {
   "cell_type": "code",
   "execution_count": null,
   "metadata": {},
   "outputs": [],
   "source": [
    "#NOTE:\n",
    "\n",
    "#dropping nan values in year col before calc of age col does return whole numbers to each row of df, however, when displaying\n",
    "#stats with .describe(), the return values are still floats, which is so flippen annoying -_-\n",
    "\n",
    "\n",
    "## posible solution:\n",
    "# use pd.options.display.float_format = \"{:.0f}\".format  --> do not know the possible consequences\\exprnse\n",
    "#of run time with this"
   ]
  },
  {
   "cell_type": "code",
   "execution_count": 13,
   "metadata": {},
   "outputs": [],
   "source": [
    "#try panadas method:\n",
    "import pandas as pd\n",
    "pd.options.display.float_format = \"{:.0f}\".format"
   ]
  },
  {
   "cell_type": "code",
   "execution_count": 15,
   "metadata": {},
   "outputs": [
    {
     "name": "stdout",
     "output_type": "stream",
     "text": [
      "Wall time: 3.62 s\n"
     ]
    },
    {
     "data": {
      "text/html": [
       "<div>\n",
       "<style scoped>\n",
       "    .dataframe tbody tr th:only-of-type {\n",
       "        vertical-align: middle;\n",
       "    }\n",
       "\n",
       "    .dataframe tbody tr th {\n",
       "        vertical-align: top;\n",
       "    }\n",
       "\n",
       "    .dataframe thead th {\n",
       "        text-align: right;\n",
       "    }\n",
       "</style>\n",
       "<table border=\"1\" class=\"dataframe\">\n",
       "  <thead>\n",
       "    <tr style=\"text-align: right;\">\n",
       "      <th></th>\n",
       "      <th>member_age</th>\n",
       "    </tr>\n",
       "  </thead>\n",
       "  <tbody>\n",
       "    <tr>\n",
       "      <th>count</th>\n",
       "      <td>1753003</td>\n",
       "    </tr>\n",
       "    <tr>\n",
       "      <th>mean</th>\n",
       "      <td>35</td>\n",
       "    </tr>\n",
       "    <tr>\n",
       "      <th>std</th>\n",
       "      <td>10</td>\n",
       "    </tr>\n",
       "    <tr>\n",
       "      <th>min</th>\n",
       "      <td>18</td>\n",
       "    </tr>\n",
       "    <tr>\n",
       "      <th>25%</th>\n",
       "      <td>27</td>\n",
       "    </tr>\n",
       "    <tr>\n",
       "      <th>50%</th>\n",
       "      <td>33</td>\n",
       "    </tr>\n",
       "    <tr>\n",
       "      <th>75%</th>\n",
       "      <td>40</td>\n",
       "    </tr>\n",
       "    <tr>\n",
       "      <th>max</th>\n",
       "      <td>137</td>\n",
       "    </tr>\n",
       "  </tbody>\n",
       "</table>\n",
       "</div>"
      ],
      "text/plain": [
       "       member_age\n",
       "count     1753003\n",
       "mean           35\n",
       "std            10\n",
       "min            18\n",
       "25%            27\n",
       "50%            33\n",
       "75%            40\n",
       "max           137"
      ]
     },
     "execution_count": 15,
     "metadata": {},
     "output_type": "execute_result"
    }
   ],
   "source": [
    "%%time\n",
    "\n",
    "# run describe again:\n",
    "kdf.describe() # now whole numbers are returned instead of floats when pd.option is used\n",
    "\n",
    "#does not seem to affect run time as runtime is still quicker that pysparkDF.describe()"
   ]
  },
  {
   "cell_type": "code",
   "execution_count": 15,
   "metadata": {},
   "outputs": [],
   "source": [
    "from pyspark.sql.functions import udf\n",
    "from pyspark.sql.types import *\n",
    "from pyspark.sql import functions as F"
   ]
  },
  {
   "cell_type": "code",
   "execution_count": 17,
   "metadata": {},
   "outputs": [
    {
     "data": {
      "text/plain": [
       "DataFrame[dur_sec: string, start_time: string, end_time: string, start_station_id: string, start_station_name: string, start_station_latitude: string, start_station_longitude: string, end_station_id: string, end_station_name: string, end_station_lat: string, end_station_long: string, bike_id: string, user_type: string, member_birth_year: string, member_gender: string, bike_share_for_all_trip: string, member_age: int]"
      ]
     },
     "execution_count": 17,
     "metadata": {},
     "output_type": "execute_result"
    }
   ],
   "source": [
    "#need to drop nan values in order for the below condition to work:\n",
    "df.na.drop(subset=[\"member_age\"])"
   ]
  },
  {
   "cell_type": "code",
   "execution_count": 16,
   "metadata": {},
   "outputs": [
    {
     "name": "stdout",
     "output_type": "stream",
     "text": [
      "Wall time: 105 ms\n"
     ]
    }
   ],
   "source": [
    "%%time\n",
    "\n",
    "#create age_category [new_col] ps:\n",
    "df = df.withColumn(\n",
    "    'age_group',\n",
    "    F.when(F.col('member_age').between(18, 25), 'young adult')\\\n",
    "    .when(F.col('member_age').between(26, 40), 'adult')\\\n",
    "    .when(F.col('member_age').between(41, 60), 'middle age')\\\n",
    "    .when((F.col('member_age') > 61), 'mature adult')\\\n",
    "    .otherwise(None)\n",
    ")"
   ]
  },
  {
   "cell_type": "code",
   "execution_count": 16,
   "metadata": {},
   "outputs": [
    {
     "name": "stdout",
     "output_type": "stream",
     "text": [
      "+-----------+\n",
      "|  age_group|\n",
      "+-----------+\n",
      "|      adult|\n",
      "|       null|\n",
      "|      adult|\n",
      "|      adult|\n",
      "|       null|\n",
      "| middle age|\n",
      "|young adult|\n",
      "| middle age|\n",
      "|       null|\n",
      "|      adult|\n",
      "|young adult|\n",
      "|      adult|\n",
      "|       null|\n",
      "|young adult|\n",
      "|      adult|\n",
      "|      adult|\n",
      "|young adult|\n",
      "|young adult|\n",
      "|young adult|\n",
      "|young adult|\n",
      "+-----------+\n",
      "only showing top 20 rows\n",
      "\n",
      "Wall time: 487 ms\n"
     ]
    }
   ],
   "source": [
    "%%time\n",
    "\n",
    "#test:\n",
    "df.select('age_group').show()"
   ]
  },
  {
   "cell_type": "code",
   "execution_count": null,
   "metadata": {},
   "outputs": [],
   "source": [
    "#why does this age group col have nuls? It shouldn't because all na's were dropped prior to creating the bins."
   ]
  },
  {
   "cell_type": "code",
   "execution_count": 20,
   "metadata": {},
   "outputs": [
    {
     "data": {
      "text/plain": [
       "116686"
      ]
     },
     "execution_count": 20,
     "metadata": {},
     "output_type": "execute_result"
    }
   ],
   "source": [
    "#nulls in age group col:\n",
    "#df.filter(df.age_group.isNotNull()).count()\n",
    "df.filter('age_group is NULL').count() #this is odd because na's were dropped in age col"
   ]
  },
  {
   "cell_type": "code",
   "execution_count": 134,
   "metadata": {},
   "outputs": [
    {
     "name": "stdout",
     "output_type": "stream",
     "text": [
      "Wall time: 2.38 s\n"
     ]
    },
    {
     "data": {
      "text/plain": [
       "110718"
      ]
     },
     "execution_count": 134,
     "metadata": {},
     "output_type": "execute_result"
    }
   ],
   "source": [
    "%%time\n",
    "\n",
    "df.filter('member_age is NULL').count() #-_-"
   ]
  },
  {
   "cell_type": "code",
   "execution_count": 37,
   "metadata": {},
   "outputs": [],
   "source": [
    "#set options for below function to run successfully:\n",
    "ks.set_option('compute.ops_on_diff_frames', True)  #--> dont do this"
   ]
  },
  {
   "cell_type": "code",
   "execution_count": 23,
   "metadata": {},
   "outputs": [
    {
     "name": "stdout",
     "output_type": "stream",
     "text": [
      "Wall time: 23.2 s\n"
     ]
    }
   ],
   "source": [
    "%%time\n",
    "\n",
    "#create age group col for kdf with np --> this does not perform well with koalas df(extremely long runtime ~ >5min)\n",
    "\n",
    "# --> Try if:\n",
    "def condition(i):\n",
    "    if (i['member_age'] >= 18) & (i['member_age'] <= 25):\n",
    "        return 'young_adult'\n",
    "    elif (i['member_age'] >= 26) & (i['member_age'] <= 40):\n",
    "        return 'adult'\n",
    "    elif (i['member_age'] >= 41) & (i['member_age'] <= 60):\n",
    "        return 'middle age'\n",
    "    elif (i['member_age'] > 61):\n",
    "        return 'mature adult'\n",
    "    else:\n",
    "        return None\n",
    "    \n",
    "kdf['age_group'] = kdf.apply(condition, axis= 1)\n",
    "\n",
    "#this method has a significantly longer run time that ps"
   ]
  },
  {
   "cell_type": "code",
   "execution_count": 17,
   "metadata": {},
   "outputs": [
    {
     "name": "stdout",
     "output_type": "stream",
     "text": [
      "Wall time: 1.99 s\n"
     ]
    }
   ],
   "source": [
    "%%time\n",
    "\n",
    "#try sql statement to see if runtime is quicker:  == it is\n",
    "\n",
    "kdf2 = ks.sql(\"select *, \\\n",
    "       CASE \\\n",
    "       WHEN (member_age >= 18 AND member_age <=25) THEN 'young_adult' \\\n",
    "       WHEN (member_age >= 26 AND member_age <=40) THEN 'adult' \\\n",
    "       WHEN (member_age >= 41 AND member_age <=60) THEN 'middle age' \\\n",
    "       ELSE 'mature adult' \\\n",
    "       END AS age_group \\\n",
    "       from {kdf}\") #wrap a DataFrame with curly braces to query it directly\n",
    "\n",
    "# OR to koalas:\n",
    "#kdf2 = ks.read_sql(query) and then join to kdf on bike_id -> can't join, bike ids are not unique"
   ]
  },
  {
   "cell_type": "code",
   "execution_count": 24,
   "metadata": {},
   "outputs": [
    {
     "data": {
      "text/html": [
       "<div>\n",
       "<style scoped>\n",
       "    .dataframe tbody tr th:only-of-type {\n",
       "        vertical-align: middle;\n",
       "    }\n",
       "\n",
       "    .dataframe tbody tr th {\n",
       "        vertical-align: top;\n",
       "    }\n",
       "\n",
       "    .dataframe thead th {\n",
       "        text-align: right;\n",
       "    }\n",
       "</style>\n",
       "<table border=\"1\" class=\"dataframe\">\n",
       "  <thead>\n",
       "    <tr style=\"text-align: right;\">\n",
       "      <th></th>\n",
       "      <th>dur_sec</th>\n",
       "      <th>start_time</th>\n",
       "      <th>end_time</th>\n",
       "      <th>start_station_id</th>\n",
       "      <th>start_station_name</th>\n",
       "      <th>start_station_latitude</th>\n",
       "      <th>start_station_longitude</th>\n",
       "      <th>end_station_id</th>\n",
       "      <th>end_station_name</th>\n",
       "      <th>end_station_lat</th>\n",
       "      <th>end_station_long</th>\n",
       "      <th>bike_id</th>\n",
       "      <th>user_type</th>\n",
       "      <th>member_birth_year</th>\n",
       "      <th>member_gender</th>\n",
       "      <th>bike_share_for_all_trip</th>\n",
       "      <th>member_age</th>\n",
       "      <th>age_group</th>\n",
       "    </tr>\n",
       "  </thead>\n",
       "  <tbody>\n",
       "    <tr>\n",
       "      <th>0</th>\n",
       "      <td>80066</td>\n",
       "      <td>2018-10-31 20:49:03.1400</td>\n",
       "      <td>2018-11-01 19:03:30.0550</td>\n",
       "      <td>138</td>\n",
       "      <td>Jersey St at Church St</td>\n",
       "      <td>37.7509004</td>\n",
       "      <td>-122.4274114</td>\n",
       "      <td>147</td>\n",
       "      <td>29th St at Tiffany Ave</td>\n",
       "      <td>37.7440667</td>\n",
       "      <td>-122.4214722</td>\n",
       "      <td>3458</td>\n",
       "      <td>Customer</td>\n",
       "      <td>1987</td>\n",
       "      <td>Female</td>\n",
       "      <td>No</td>\n",
       "      <td>31</td>\n",
       "      <td>adult</td>\n",
       "    </tr>\n",
       "    <tr>\n",
       "      <th>1</th>\n",
       "      <td>44825</td>\n",
       "      <td>2018-10-31 20:07:13.3780</td>\n",
       "      <td>2018-11-01 08:34:19.3670</td>\n",
       "      <td>139</td>\n",
       "      <td>Garfield Square (25th St at Harrison St)</td>\n",
       "      <td>37.7510171</td>\n",
       "      <td>-122.4119009</td>\n",
       "      <td>122</td>\n",
       "      <td>19th St at Mission St</td>\n",
       "      <td>37.760299</td>\n",
       "      <td>-122.418892</td>\n",
       "      <td>1575</td>\n",
       "      <td>Customer</td>\n",
       "      <td>1983</td>\n",
       "      <td>Female</td>\n",
       "      <td>No</td>\n",
       "      <td>35</td>\n",
       "      <td>adult</td>\n",
       "    </tr>\n",
       "    <tr>\n",
       "      <th>2</th>\n",
       "      <td>55461</td>\n",
       "      <td>2018-10-31 17:06:37.6830</td>\n",
       "      <td>2018-11-01 08:30:59.2200</td>\n",
       "      <td>67</td>\n",
       "      <td>San Francisco Caltrain Station 2  (Townsend St...</td>\n",
       "      <td>37.7766392</td>\n",
       "      <td>-122.3955263</td>\n",
       "      <td>16</td>\n",
       "      <td>Steuart St at Market St</td>\n",
       "      <td>37.79413</td>\n",
       "      <td>-122.39443</td>\n",
       "      <td>2978</td>\n",
       "      <td>Subscriber</td>\n",
       "      <td>1992</td>\n",
       "      <td>Female</td>\n",
       "      <td>No</td>\n",
       "      <td>26</td>\n",
       "      <td>adult</td>\n",
       "    </tr>\n",
       "  </tbody>\n",
       "</table>\n",
       "</div>"
      ],
      "text/plain": [
       "  dur_sec                start_time                  end_time start_station_id                                         start_station_name start_station_latitude start_station_longitude end_station_id         end_station_name end_station_lat end_station_long bike_id   user_type member_birth_year member_gender bike_share_for_all_trip  member_age age_group\n",
       "0   80066  2018-10-31 20:49:03.1400  2018-11-01 19:03:30.0550              138                                     Jersey St at Church St             37.7509004            -122.4274114            147   29th St at Tiffany Ave      37.7440667     -122.4214722    3458    Customer              1987        Female                      No          31     adult\n",
       "1   44825  2018-10-31 20:07:13.3780  2018-11-01 08:34:19.3670              139                   Garfield Square (25th St at Harrison St)             37.7510171            -122.4119009            122    19th St at Mission St       37.760299      -122.418892    1575    Customer              1983        Female                      No          35     adult\n",
       "2   55461  2018-10-31 17:06:37.6830  2018-11-01 08:30:59.2200               67  San Francisco Caltrain Station 2  (Townsend St at 4th St)             37.7766392            -122.3955263             16  Steuart St at Market St        37.79413       -122.39443    2978  Subscriber              1992        Female                      No          26     adult"
      ]
     },
     "execution_count": 24,
     "metadata": {},
     "output_type": "execute_result"
    }
   ],
   "source": [
    "kdf2.head(3)"
   ]
  },
  {
   "cell_type": "code",
   "execution_count": 26,
   "metadata": {},
   "outputs": [
    {
     "name": "stdout",
     "output_type": "stream",
     "text": [
      "Wall time: 95.5 ms\n"
     ]
    },
    {
     "data": {
      "text/html": [
       "<div>\n",
       "<style scoped>\n",
       "    .dataframe tbody tr th:only-of-type {\n",
       "        vertical-align: middle;\n",
       "    }\n",
       "\n",
       "    .dataframe tbody tr th {\n",
       "        vertical-align: top;\n",
       "    }\n",
       "\n",
       "    .dataframe thead th {\n",
       "        text-align: right;\n",
       "    }\n",
       "</style>\n",
       "<table border=\"1\" class=\"dataframe\">\n",
       "  <thead>\n",
       "    <tr style=\"text-align: right;\">\n",
       "      <th></th>\n",
       "      <th>age_group</th>\n",
       "    </tr>\n",
       "  </thead>\n",
       "  <tbody>\n",
       "    <tr>\n",
       "      <th>0</th>\n",
       "      <td>adult</td>\n",
       "    </tr>\n",
       "    <tr>\n",
       "      <th>2</th>\n",
       "      <td>adult</td>\n",
       "    </tr>\n",
       "    <tr>\n",
       "      <th>3</th>\n",
       "      <td>adult</td>\n",
       "    </tr>\n",
       "    <tr>\n",
       "      <th>5</th>\n",
       "      <td>middle age</td>\n",
       "    </tr>\n",
       "    <tr>\n",
       "      <th>6</th>\n",
       "      <td>young_adult</td>\n",
       "    </tr>\n",
       "  </tbody>\n",
       "</table>\n",
       "</div>"
      ],
      "text/plain": [
       "     age_group\n",
       "0        adult\n",
       "2        adult\n",
       "3        adult\n",
       "5   middle age\n",
       "6  young_adult"
      ]
     },
     "execution_count": 26,
     "metadata": {},
     "output_type": "execute_result"
    }
   ],
   "source": [
    "%%time\n",
    "\n",
    "#test:\n",
    "kdf2[['age_group']].head()"
   ]
  },
  {
   "cell_type": "code",
   "execution_count": 34,
   "metadata": {},
   "outputs": [
    {
     "name": "stdout",
     "output_type": "stream",
     "text": [
      "+------------+-------+\n",
      "|   age_group|  count|\n",
      "+------------+-------+\n",
      "|       adult|1031867|\n",
      "|  middle age| 391699|\n",
      "| young adult| 292741|\n",
      "|        null| 116686|\n",
      "|mature adult|  30728|\n",
      "+------------+-------+\n",
      "\n",
      "Wall time: 3.22 s\n"
     ]
    }
   ],
   "source": [
    "%%time\n",
    "\n",
    "#value counts ps:\n",
    "df.groupby(\"age_group\").count().orderBy('count', ascending = False).show()"
   ]
  },
  {
   "cell_type": "code",
   "execution_count": 46,
   "metadata": {},
   "outputs": [
    {
     "name": "stdout",
     "output_type": "stream",
     "text": [
      "+----------+-------+\n",
      "| user_type|  count|\n",
      "+----------+-------+\n",
      "|Subscriber|1583554|\n",
      "|  Customer| 280167|\n",
      "+----------+-------+\n",
      "\n"
     ]
    }
   ],
   "source": [
    "df.groupby(\"user_type\").count().orderBy('count', ascending = False).show()"
   ]
  },
  {
   "cell_type": "code",
   "execution_count": 25,
   "metadata": {},
   "outputs": [
    {
     "name": "stdout",
     "output_type": "stream",
     "text": [
      "Wall time: 113 ms\n"
     ]
    },
    {
     "data": {
      "text/plain": [
       "adult           1031867\n",
       "middle age       391699\n",
       "young_adult      292741\n",
       "mature adult      36696\n",
       "Name: age_group, dtype: int64"
      ]
     },
     "execution_count": 25,
     "metadata": {},
     "output_type": "execute_result"
    }
   ],
   "source": [
    "%%time\n",
    "\n",
    "#value_counts kdf:\n",
    "kdf2.age_group.value_counts()"
   ]
  },
  {
   "cell_type": "code",
   "execution_count": 19,
   "metadata": {},
   "outputs": [
    {
     "name": "stdout",
     "output_type": "stream",
     "text": [
      "Wall time: 60.8 ms\n"
     ]
    }
   ],
   "source": [
    "%%time\n",
    "\n",
    "#prepare for join time comparison:\n",
    "#use sql query to create new spark df and then do a join to combine new col to existing df:\n",
    "#df.createOrReplaceTempView(\"temp\")\n",
    "\n",
    "#df2 = spark.sql(\"\"\"select bike_id, CASE WHEN user_type = 'Customer' THEN 'yes' ELSE 'no' END AS is_member from temp\"\"\")\n",
    "#code has to be in one line otherwise an error is thrown"
   ]
  },
  {
   "cell_type": "raw",
   "metadata": {},
   "source": [
    "%%time\n",
    "\n",
    "#create new column based on condition:\n",
    "\n",
    "df = df.withColumn(\n",
    "    'is_member',\n",
    "    F.when(F.col('user_type') == 'Customer', 'yes') \\\n",
    "    .otherwise(None)\n",
    ")"
   ]
  },
  {
   "cell_type": "code",
   "execution_count": 18,
   "metadata": {},
   "outputs": [
    {
     "name": "stdout",
     "output_type": "stream",
     "text": [
      "Wall time: 0 ns\n"
     ]
    }
   ],
   "source": [
    "%%time\n",
    "\n",
    "#inspect new df:\n",
    "#df2.show()"
   ]
  },
  {
   "cell_type": "code",
   "execution_count": 35,
   "metadata": {},
   "outputs": [],
   "source": [
    "#spark.catalog.dropTempView(\"temp\")\n",
    "\n",
    "#DO NOT JOIN: BIKE ID's ARE NOT UNIQUE."
   ]
  },
  {
   "cell_type": "raw",
   "metadata": {},
   "source": [
    "%%time \n",
    "\n",
    "#prepare for join time comparison:\n",
    "#use sql query to create new koalas df and then do a join to combine new col to existing df:\n",
    "\n",
    "kd = ks.sql('''select bike_id, CASE WHEN user_type = 'Customer' THEN 'yes' ELSE 'no' END as is_member from {kdf}''')\n",
    "#code has to be in one line otherwise an error is thrown"
   ]
  },
  {
   "cell_type": "code",
   "execution_count": 58,
   "metadata": {},
   "outputs": [
    {
     "name": "stdout",
     "output_type": "stream",
     "text": [
      "Wall time: 88.9 ms\n"
     ]
    },
    {
     "data": {
      "text/html": [
       "<div>\n",
       "<style scoped>\n",
       "    .dataframe tbody tr th:only-of-type {\n",
       "        vertical-align: middle;\n",
       "    }\n",
       "\n",
       "    .dataframe tbody tr th {\n",
       "        vertical-align: top;\n",
       "    }\n",
       "\n",
       "    .dataframe thead th {\n",
       "        text-align: right;\n",
       "    }\n",
       "</style>\n",
       "<table border=\"1\" class=\"dataframe\">\n",
       "  <thead>\n",
       "    <tr style=\"text-align: right;\">\n",
       "      <th></th>\n",
       "      <th>bike_id</th>\n",
       "      <th>is_member</th>\n",
       "    </tr>\n",
       "  </thead>\n",
       "  <tbody>\n",
       "    <tr>\n",
       "      <th>0</th>\n",
       "      <td>3458</td>\n",
       "      <td>yes</td>\n",
       "    </tr>\n",
       "    <tr>\n",
       "      <th>1</th>\n",
       "      <td>1575</td>\n",
       "      <td>yes</td>\n",
       "    </tr>\n",
       "    <tr>\n",
       "      <th>2</th>\n",
       "      <td>2978</td>\n",
       "      <td>no</td>\n",
       "    </tr>\n",
       "    <tr>\n",
       "      <th>3</th>\n",
       "      <td>1466</td>\n",
       "      <td>yes</td>\n",
       "    </tr>\n",
       "    <tr>\n",
       "      <th>4</th>\n",
       "      <td>4452</td>\n",
       "      <td>no</td>\n",
       "    </tr>\n",
       "    <tr>\n",
       "      <th>5</th>\n",
       "      <td>4050</td>\n",
       "      <td>no</td>\n",
       "    </tr>\n",
       "    <tr>\n",
       "      <th>6</th>\n",
       "      <td>1525</td>\n",
       "      <td>no</td>\n",
       "    </tr>\n",
       "    <tr>\n",
       "      <th>7</th>\n",
       "      <td>4436</td>\n",
       "      <td>no</td>\n",
       "    </tr>\n",
       "    <tr>\n",
       "      <th>8</th>\n",
       "      <td>2103</td>\n",
       "      <td>no</td>\n",
       "    </tr>\n",
       "    <tr>\n",
       "      <th>9</th>\n",
       "      <td>254</td>\n",
       "      <td>no</td>\n",
       "    </tr>\n",
       "    <tr>\n",
       "      <th>10</th>\n",
       "      <td>1908</td>\n",
       "      <td>no</td>\n",
       "    </tr>\n",
       "    <tr>\n",
       "      <th>11</th>\n",
       "      <td>1321</td>\n",
       "      <td>no</td>\n",
       "    </tr>\n",
       "    <tr>\n",
       "      <th>12</th>\n",
       "      <td>352</td>\n",
       "      <td>no</td>\n",
       "    </tr>\n",
       "    <tr>\n",
       "      <th>13</th>\n",
       "      <td>3610</td>\n",
       "      <td>no</td>\n",
       "    </tr>\n",
       "    <tr>\n",
       "      <th>14</th>\n",
       "      <td>1269</td>\n",
       "      <td>no</td>\n",
       "    </tr>\n",
       "    <tr>\n",
       "      <th>15</th>\n",
       "      <td>2823</td>\n",
       "      <td>no</td>\n",
       "    </tr>\n",
       "    <tr>\n",
       "      <th>16</th>\n",
       "      <td>421</td>\n",
       "      <td>no</td>\n",
       "    </tr>\n",
       "    <tr>\n",
       "      <th>17</th>\n",
       "      <td>1615</td>\n",
       "      <td>no</td>\n",
       "    </tr>\n",
       "    <tr>\n",
       "      <th>18</th>\n",
       "      <td>443</td>\n",
       "      <td>no</td>\n",
       "    </tr>\n",
       "    <tr>\n",
       "      <th>19</th>\n",
       "      <td>3092</td>\n",
       "      <td>yes</td>\n",
       "    </tr>\n",
       "  </tbody>\n",
       "</table>\n",
       "</div>"
      ],
      "text/plain": [
       "   bike_id is_member\n",
       "0     3458       yes\n",
       "1     1575       yes\n",
       "2     2978        no\n",
       "3     1466       yes\n",
       "4     4452        no\n",
       "5     4050        no\n",
       "6     1525        no\n",
       "7     4436        no\n",
       "8     2103        no\n",
       "9      254        no\n",
       "10    1908        no\n",
       "11    1321        no\n",
       "12     352        no\n",
       "13    3610        no\n",
       "14    1269        no\n",
       "15    2823        no\n",
       "16     421        no\n",
       "17    1615        no\n",
       "18     443        no\n",
       "19    3092       yes"
      ]
     },
     "execution_count": 58,
     "metadata": {},
     "output_type": "execute_result"
    }
   ],
   "source": [
    "%%time\n",
    "\n",
    "#inspect df:\n",
    "#kd.head(20)"
   ]
  },
  {
   "cell_type": "code",
   "execution_count": 43,
   "metadata": {},
   "outputs": [
    {
     "data": {
      "text/plain": [
       "5054"
      ]
     },
     "execution_count": 43,
     "metadata": {},
     "output_type": "execute_result"
    }
   ],
   "source": [
    "#kdf.bike_id.nunique()"
   ]
  },
  {
   "cell_type": "raw",
   "metadata": {},
   "source": [
    "%%time\n",
    "\n",
    "#join new ps df with old one:\n",
    "df = df.join(df2, df.bike_id == df2.bike_id, 'inner')"
   ]
  },
  {
   "cell_type": "code",
   "execution_count": 19,
   "metadata": {},
   "outputs": [],
   "source": [
    "#test:\n",
    "#df.groupby(\"is_member\").count().orderBy('count', ascending = False).show()\n",
    "#df has more counts than kdf because nulls where not sucessfully removed from ps(df)"
   ]
  },
  {
   "cell_type": "code",
   "execution_count": 20,
   "metadata": {},
   "outputs": [
    {
     "name": "stdout",
     "output_type": "stream",
     "text": [
      "Wall time: 0 ns\n"
     ]
    }
   ],
   "source": [
    "%%time\n",
    "\n",
    "#df.select('age_group', 'member_age', 'is_member').show()"
   ]
  },
  {
   "cell_type": "raw",
   "metadata": {},
   "source": [
    "%%time\n",
    "\n",
    "kdf = kdf2.merge(kd, on = 'bike_id', how = 'inner')"
   ]
  },
  {
   "cell_type": "code",
   "execution_count": 21,
   "metadata": {},
   "outputs": [],
   "source": [
    "#test:\n",
    "#kdf.is_member.value_counts()"
   ]
  },
  {
   "cell_type": "code",
   "execution_count": 22,
   "metadata": {},
   "outputs": [
    {
     "name": "stdout",
     "output_type": "stream",
     "text": [
      "Wall time: 0 ns\n"
     ]
    }
   ],
   "source": [
    "%%time\n",
    "\n",
    "#kdf[['age_group', 'member_age', 'is_member']].head()"
   ]
  },
  {
   "cell_type": "code",
   "execution_count": null,
   "metadata": {},
   "outputs": [],
   "source": [
    "%%time\n",
    "\n",
    "#calculare distance between start station and end station:\n"
   ]
  },
  {
   "cell_type": "code",
   "execution_count": 18,
   "metadata": {},
   "outputs": [
    {
     "name": "stdout",
     "output_type": "stream",
     "text": [
      "Wall time: 37.9 ms\n"
     ]
    }
   ],
   "source": [
    "%%time\n",
    "\n",
    "#create a duration minutes col ps:\n",
    "df = df.withColumn('dur_min', col('dur_sec') / 60)\n",
    "#change new col to float:\n",
    "df = df.withColumn('dur_min', df.dur_min.cast('float'))"
   ]
  },
  {
   "cell_type": "code",
   "execution_count": 43,
   "metadata": {},
   "outputs": [
    {
     "name": "stdout",
     "output_type": "stream",
     "text": [
      "Wall time: 445 ms\n"
     ]
    }
   ],
   "source": [
    "%%time\n",
    "\n",
    "#create a duration minutes col kdf:\n",
    "#convert dur_min to int:\n",
    "kdf['dur_sec'] = kdf['dur_sec'].astype(float)\n",
    "kdf['dur_min'] = kdf['dur_sec'] / 60"
   ]
  },
  {
   "cell_type": "code",
   "execution_count": 44,
   "metadata": {},
   "outputs": [
    {
     "data": {
      "text/plain": [
       "dtype('float64')"
      ]
     },
     "execution_count": 44,
     "metadata": {},
     "output_type": "execute_result"
    }
   ],
   "source": [
    "kdf.dur_min.dtype"
   ]
  },
  {
   "cell_type": "code",
   "execution_count": 20,
   "metadata": {},
   "outputs": [
    {
     "name": "stdout",
     "output_type": "stream",
     "text": [
      "Wall time: 73.6 ms\n"
     ]
    }
   ],
   "source": [
    "%%time\n",
    "\n",
    "#change cols to timestamp:\n",
    "from pyspark.sql.types import DateType\n",
    "df = df.withColumn('start_dt', df['start_time'].cast(DateType()))"
   ]
  },
  {
   "cell_type": "code",
   "execution_count": 28,
   "metadata": {},
   "outputs": [
    {
     "name": "stdout",
     "output_type": "stream",
     "text": [
      "+--------------------+----------+---------+\n",
      "|          start_time|  start_dt|  dur_min|\n",
      "+--------------------+----------+---------+\n",
      "|2018-10-31 20:49:...|2018-10-31|1334.4333|\n",
      "|2018-10-31 20:18:...|2018-10-31| 940.4667|\n",
      "|2018-10-31 20:07:...|2018-10-31| 747.0833|\n",
      "|2018-10-31 17:06:...|2018-10-31|   924.35|\n",
      "|2018-10-31 18:27:...|2018-10-31|    795.4|\n",
      "|2018-10-31 20:54:...|2018-10-31| 546.9667|\n",
      "|2018-10-31 21:43:...|2018-10-31|    314.8|\n",
      "|2018-10-31 23:44:...|2018-10-31|29.766666|\n",
      "|2018-10-31 23:00:...|2018-10-31|73.183334|\n",
      "|2018-10-31 23:40:...|2018-10-31|     29.2|\n",
      "|2018-10-31 23:58:...|2018-10-31| 9.616667|\n",
      "|2018-10-31 23:53:...|2018-10-31|11.483334|\n",
      "|2018-10-31 23:51:...|2018-10-31| 9.716666|\n",
      "|2018-10-31 23:57:...|2018-10-31|4.0833335|\n",
      "|2018-10-31 23:46:...|2018-10-31|    12.75|\n",
      "|2018-10-31 23:43:...|2018-10-31|12.933333|\n",
      "|2018-10-31 23:38:...|2018-10-31|17.683332|\n",
      "|2018-10-31 23:53:...|2018-10-31|     2.85|\n",
      "|2018-10-31 23:38:...|2018-10-31|17.383333|\n",
      "|2018-10-31 23:39:...|2018-10-31|16.766666|\n",
      "+--------------------+----------+---------+\n",
      "only showing top 20 rows\n",
      "\n"
     ]
    }
   ],
   "source": [
    "df.select('start_time', 'start_dt', 'dur_min').show()"
   ]
  },
  {
   "cell_type": "code",
   "execution_count": 21,
   "metadata": {},
   "outputs": [
    {
     "name": "stderr",
     "output_type": "stream",
     "text": [
      "C:\\Spark\\spark-3.1.1-bin-hadoop2.7\\python\\pyspark\\sql\\pandas\\functions.py:392: UserWarning: In Python 3.6+ and Spark 3.0+, it is preferred to specify type hints for pandas UDF instead of specifying pandas UDF type which will be deprecated in the future releases. See SPARK-28264 for more details.\n",
      "  \"in the future releases. See SPARK-28264 for more details.\", UserWarning)\n"
     ]
    },
    {
     "name": "stdout",
     "output_type": "stream",
     "text": [
      "Wall time: 1.08 s\n"
     ]
    }
   ],
   "source": [
    "%%time\n",
    "\n",
    "#change dtype in kdf:\n",
    "kdf['start_time'] = ks.to_datetime(kdf['start_time'])"
   ]
  },
  {
   "cell_type": "code",
   "execution_count": 27,
   "metadata": {},
   "outputs": [
    {
     "data": {
      "text/plain": [
       "dtype('<M8')"
      ]
     },
     "execution_count": 27,
     "metadata": {},
     "output_type": "execute_result"
    }
   ],
   "source": [
    "#test:\n",
    "kdf.start_time.dtype"
   ]
  },
  {
   "cell_type": "code",
   "execution_count": 30,
   "metadata": {},
   "outputs": [
    {
     "data": {
      "text/html": [
       "<div>\n",
       "<style scoped>\n",
       "    .dataframe tbody tr th:only-of-type {\n",
       "        vertical-align: middle;\n",
       "    }\n",
       "\n",
       "    .dataframe tbody tr th {\n",
       "        vertical-align: top;\n",
       "    }\n",
       "\n",
       "    .dataframe thead th {\n",
       "        text-align: right;\n",
       "    }\n",
       "</style>\n",
       "<table border=\"1\" class=\"dataframe\">\n",
       "  <thead>\n",
       "    <tr style=\"text-align: right;\">\n",
       "      <th></th>\n",
       "      <th>dur_sec</th>\n",
       "      <th>start_time</th>\n",
       "      <th>end_time</th>\n",
       "      <th>start_station_id</th>\n",
       "      <th>start_station_name</th>\n",
       "      <th>start_station_latitude</th>\n",
       "      <th>start_station_longitude</th>\n",
       "      <th>end_station_id</th>\n",
       "      <th>end_station_name</th>\n",
       "      <th>end_station_lat</th>\n",
       "      <th>end_station_long</th>\n",
       "      <th>bike_id</th>\n",
       "      <th>user_type</th>\n",
       "      <th>member_birth_year</th>\n",
       "      <th>member_gender</th>\n",
       "      <th>bike_share_for_all_trip</th>\n",
       "      <th>member_age</th>\n",
       "      <th>dur_min</th>\n",
       "    </tr>\n",
       "  </thead>\n",
       "  <tbody>\n",
       "    <tr>\n",
       "      <th>0</th>\n",
       "      <td>80066</td>\n",
       "      <td>2018-10-31 20:49:03.140</td>\n",
       "      <td>2018-11-01 19:03:30.0550</td>\n",
       "      <td>138</td>\n",
       "      <td>Jersey St at Church St</td>\n",
       "      <td>37.7509004</td>\n",
       "      <td>-122.4274114</td>\n",
       "      <td>147</td>\n",
       "      <td>29th St at Tiffany Ave</td>\n",
       "      <td>37.7440667</td>\n",
       "      <td>-122.4214722</td>\n",
       "      <td>3458</td>\n",
       "      <td>Customer</td>\n",
       "      <td>1987</td>\n",
       "      <td>Female</td>\n",
       "      <td>No</td>\n",
       "      <td>31</td>\n",
       "      <td>1334.433333</td>\n",
       "    </tr>\n",
       "    <tr>\n",
       "      <th>1</th>\n",
       "      <td>44825</td>\n",
       "      <td>2018-10-31 20:07:13.378</td>\n",
       "      <td>2018-11-01 08:34:19.3670</td>\n",
       "      <td>139</td>\n",
       "      <td>Garfield Square (25th St at Harrison St)</td>\n",
       "      <td>37.7510171</td>\n",
       "      <td>-122.4119009</td>\n",
       "      <td>122</td>\n",
       "      <td>19th St at Mission St</td>\n",
       "      <td>37.760299</td>\n",
       "      <td>-122.418892</td>\n",
       "      <td>1575</td>\n",
       "      <td>Customer</td>\n",
       "      <td>1983</td>\n",
       "      <td>Female</td>\n",
       "      <td>No</td>\n",
       "      <td>35</td>\n",
       "      <td>747.083333</td>\n",
       "    </tr>\n",
       "    <tr>\n",
       "      <th>2</th>\n",
       "      <td>55461</td>\n",
       "      <td>2018-10-31 17:06:37.683</td>\n",
       "      <td>2018-11-01 08:30:59.2200</td>\n",
       "      <td>67</td>\n",
       "      <td>San Francisco Caltrain Station 2  (Townsend St...</td>\n",
       "      <td>37.7766392</td>\n",
       "      <td>-122.3955263</td>\n",
       "      <td>16</td>\n",
       "      <td>Steuart St at Market St</td>\n",
       "      <td>37.79413</td>\n",
       "      <td>-122.39443</td>\n",
       "      <td>2978</td>\n",
       "      <td>Subscriber</td>\n",
       "      <td>1992</td>\n",
       "      <td>Female</td>\n",
       "      <td>No</td>\n",
       "      <td>26</td>\n",
       "      <td>924.350000</td>\n",
       "    </tr>\n",
       "  </tbody>\n",
       "</table>\n",
       "</div>"
      ],
      "text/plain": [
       "   dur_sec              start_time                  end_time start_station_id                                         start_station_name start_station_latitude start_station_longitude end_station_id         end_station_name end_station_lat end_station_long bike_id   user_type member_birth_year member_gender bike_share_for_all_trip  member_age      dur_min\n",
       "0    80066 2018-10-31 20:49:03.140  2018-11-01 19:03:30.0550              138                                     Jersey St at Church St             37.7509004            -122.4274114            147   29th St at Tiffany Ave      37.7440667     -122.4214722    3458    Customer              1987        Female                      No          31  1334.433333\n",
       "1    44825 2018-10-31 20:07:13.378  2018-11-01 08:34:19.3670              139                   Garfield Square (25th St at Harrison St)             37.7510171            -122.4119009            122    19th St at Mission St       37.760299      -122.418892    1575    Customer              1983        Female                      No          35   747.083333\n",
       "2    55461 2018-10-31 17:06:37.683  2018-11-01 08:30:59.2200               67  San Francisco Caltrain Station 2  (Townsend St at 4th St)             37.7766392            -122.3955263             16  Steuart St at Market St        37.79413       -122.39443    2978  Subscriber              1992        Female                      No          26   924.350000"
      ]
     },
     "execution_count": 30,
     "metadata": {},
     "output_type": "execute_result"
    }
   ],
   "source": [
    "#test:\n",
    "kdf.head(3)"
   ]
  },
  {
   "cell_type": "code",
   "execution_count": 21,
   "metadata": {},
   "outputs": [
    {
     "name": "stdout",
     "output_type": "stream",
     "text": [
      "Wall time: 320 ms\n"
     ]
    }
   ],
   "source": [
    "%%time\n",
    "\n",
    "#extract weekday from start_time in kdf:\n",
    "kdf['weekday'] = kdf['start_time'].dt.weekday"
   ]
  },
  {
   "cell_type": "code",
   "execution_count": 32,
   "metadata": {},
   "outputs": [
    {
     "data": {
      "text/plain": [
       "1    304791\n",
       "2    302138\n",
       "3    299465\n",
       "0    280420\n",
       "4    274484\n",
       "5    155466\n",
       "6    136239\n",
       "Name: weekday, dtype: int64"
      ]
     },
     "execution_count": 32,
     "metadata": {},
     "output_type": "execute_result"
    }
   ],
   "source": [
    "#test:\n",
    "kdf['weekday'].value_counts() #0: monday - 6:sunday"
   ]
  },
  {
   "cell_type": "code",
   "execution_count": 22,
   "metadata": {},
   "outputs": [
    {
     "name": "stdout",
     "output_type": "stream",
     "text": [
      "Wall time: 299 ms\n"
     ]
    }
   ],
   "source": [
    "%%time\n",
    "\n",
    "#try get weekday name for koalas df:\n",
    "kdf['dow'] = kdf['start_time'].dt.day_name()"
   ]
  },
  {
   "cell_type": "code",
   "execution_count": 59,
   "metadata": {},
   "outputs": [
    {
     "data": {
      "text/plain": [
       "Tuesday      304791\n",
       "Wednesday    302138\n",
       "Thursday     299465\n",
       "Monday       280420\n",
       "Friday       274484\n",
       "Saturday     155466\n",
       "Sunday       136239\n",
       "Name: dow, dtype: int64"
      ]
     },
     "execution_count": 59,
     "metadata": {},
     "output_type": "execute_result"
    }
   ],
   "source": [
    "kdf['dow'].value_counts()"
   ]
  },
  {
   "cell_type": "code",
   "execution_count": 23,
   "metadata": {},
   "outputs": [
    {
     "name": "stdout",
     "output_type": "stream",
     "text": [
      "Wall time: 19.9 ms\n"
     ]
    }
   ],
   "source": [
    "%%time\n",
    "\n",
    "#from pyspark.sql.functions import dayofweek #use this package for weekday numeric representaion.\n",
    "\n",
    "from pyspark.sql.functions import date_format\n",
    "#extract weekday name from start_dt in ps:\n",
    "df = df.withColumn('weekday',date_format(col(\"start_time\"), \"EEEE\"))"
   ]
  },
  {
   "cell_type": "code",
   "execution_count": 53,
   "metadata": {},
   "outputs": [
    {
     "data": {
      "text/plain": [
       "[('weekday', 'string')]"
      ]
     },
     "execution_count": 53,
     "metadata": {},
     "output_type": "execute_result"
    }
   ],
   "source": [
    "df.select('weekday').dtypes"
   ]
  },
  {
   "cell_type": "code",
   "execution_count": 56,
   "metadata": {},
   "outputs": [
    {
     "name": "stdout",
     "output_type": "stream",
     "text": [
      "+---------+------+\n",
      "|  weekday| count|\n",
      "+---------+------+\n",
      "|  Tuesday|319332|\n",
      "|Wednesday|316374|\n",
      "| Thursday|314124|\n",
      "|   Monday|294573|\n",
      "|   Friday|290390|\n",
      "| Saturday|175614|\n",
      "|   Sunday|153314|\n",
      "+---------+------+\n",
      "\n"
     ]
    }
   ],
   "source": [
    "#test:\n",
    "df.groupBy('weekday').count().orderBy('count', ascending = False).show()"
   ]
  },
  {
   "cell_type": "code",
   "execution_count": 24,
   "metadata": {},
   "outputs": [
    {
     "name": "stdout",
     "output_type": "stream",
     "text": [
      "Wall time: 222 ms\n"
     ]
    }
   ],
   "source": [
    "%%time\n",
    "\n",
    "#use groupby to aggregate data by mean and append it to kdf:\n",
    "kdf_mean = kdf.groupby('bike_id')['dur_min'].mean()"
   ]
  },
  {
   "cell_type": "code",
   "execution_count": 64,
   "metadata": {},
   "outputs": [
    {
     "name": "stdout",
     "output_type": "stream",
     "text": [
      "Wall time: 66.8 ms\n"
     ]
    },
    {
     "data": {
      "text/plain": [
       "bike_id\n",
       "1159    11.160152\n",
       "1572    11.281767\n",
       "829     11.882234\n",
       "2136    13.294210\n",
       "691     12.223280\n",
       "2069    12.857402\n",
       "3210    14.305975\n",
       "1436    12.110904\n",
       "3606    10.240434\n",
       "2088    13.918226\n",
       "1090    12.188984\n",
       "296     11.300552\n",
       "1512    14.548297\n",
       "2904    14.473254\n",
       "3414    13.786477\n",
       "467     14.422379\n",
       "3959    11.391667\n",
       "4032    18.876368\n",
       "675     10.362865\n",
       "4821    12.435714\n",
       "Name: dur_min, dtype: float64"
      ]
     },
     "execution_count": 64,
     "metadata": {},
     "output_type": "execute_result"
    }
   ],
   "source": [
    "%%time\n",
    "\n",
    "#test:\n",
    "kdf_mean.head(20)"
   ]
  },
  {
   "cell_type": "code",
   "execution_count": 25,
   "metadata": {},
   "outputs": [
    {
     "name": "stdout",
     "output_type": "stream",
     "text": [
      "Wall time: 24.9 ms\n"
     ]
    }
   ],
   "source": [
    "%%time\n",
    "\n",
    "#average duration min for each bike ride ps:\n",
    "ps_mean = df.groupBy(\"bike_id\").mean( \"dur_min\") "
   ]
  },
  {
   "cell_type": "code",
   "execution_count": 66,
   "metadata": {},
   "outputs": [
    {
     "name": "stdout",
     "output_type": "stream",
     "text": [
      "+-------+------------------+\n",
      "|bike_id|      avg(dur_min)|\n",
      "+-------+------------------+\n",
      "|   1159|11.888165257558102|\n",
      "|   1572|11.366237925946521|\n",
      "|    829|12.824093171351931|\n",
      "|   2136|14.786178128883757|\n",
      "|    691|13.902967401711098|\n",
      "|   2069|15.484368357670473|\n",
      "|   3210|15.126336506093448|\n",
      "|   1436|15.730126621451559|\n",
      "|   3606|10.515544849232985|\n",
      "|   2088|15.730566895900129|\n",
      "|   1090|14.019126026077968|\n",
      "|    296|12.746385517608688|\n",
      "|   1512|15.077571417263576|\n",
      "|   2904|15.723533301030175|\n",
      "|   3414|15.505172469287084|\n",
      "|    467| 16.10021366064365|\n",
      "|   3959|11.535706902805128|\n",
      "|   4032|22.282628939185344|\n",
      "|    675|10.707062197943864|\n",
      "|   4821|12.093939372084357|\n",
      "+-------+------------------+\n",
      "only showing top 20 rows\n",
      "\n",
      "Wall time: 6.23 s\n"
     ]
    }
   ],
   "source": [
    "%%time\n",
    "\n",
    "#test:\n",
    "ps_mean.show()"
   ]
  },
  {
   "cell_type": "code",
   "execution_count": 26,
   "metadata": {},
   "outputs": [
    {
     "name": "stdout",
     "output_type": "stream",
     "text": [
      "Wall time: 1.98 s\n"
     ]
    }
   ],
   "source": [
    "%%time\n",
    "\n",
    "#join the mean calc to kdf:\n",
    "kdf = kdf.merge(kdf_mean)"
   ]
  },
  {
   "cell_type": "code",
   "execution_count": 27,
   "metadata": {},
   "outputs": [
    {
     "name": "stdout",
     "output_type": "stream",
     "text": [
      "Wall time: 60.8 ms\n"
     ]
    }
   ],
   "source": [
    "%%time\n",
    "\n",
    "#join the mean cals to ps:\n",
    "df = df.join(ps_mean, 'bike_id', 'inner')"
   ]
  },
  {
   "cell_type": "code",
   "execution_count": 28,
   "metadata": {},
   "outputs": [
    {
     "name": "stdout",
     "output_type": "stream",
     "text": [
      "Wall time: 0 ns\n"
     ]
    }
   ],
   "source": [
    "%%time\n",
    "\n",
    "#calculate distance:\n",
    "import math\n",
    "def distance(origin1, origin2, dest1, dest2):\n",
    "    \"\"\"\n",
    "    Parameters\n",
    "    ----------\n",
    "    origin : tuple of float-->start station\n",
    "        (lat, long)\n",
    "    destination : tuple of float-->end station\n",
    "        (lat, long)\n",
    "\n",
    "    Returns\n",
    "    -------\n",
    "    distance_in_km : float\n",
    "    \"\"\"\n",
    "    lat1 = origin1\n",
    "    lon1 = origin2\n",
    "    lat2 = dest1\n",
    "    lon2 = dest2\n",
    "    radius = 6371  # km\n",
    "\n",
    "    dlat = math.radians(lat2 - lat1)\n",
    "    dlon = math.radians(lon2 - lon1)\n",
    "    a = (math.sin(dlat / 2) * math.sin(dlat / 2) +\n",
    "         math.cos(math.radians(lat1)) * math.cos(math.radians(lat2)) *\n",
    "         math.sin(dlon / 2) * math.sin(dlon / 2))\n",
    "    c = 2 * math.atan2(math.sqrt(a), math.sqrt(1 - a))\n",
    "    d = radius * c\n",
    "\n",
    "    return d"
   ]
  },
  {
   "cell_type": "code",
   "execution_count": 29,
   "metadata": {},
   "outputs": [
    {
     "name": "stdout",
     "output_type": "stream",
     "text": [
      "Wall time: 52.9 ms\n"
     ]
    }
   ],
   "source": [
    "%%time\n",
    "\n",
    "#long and lat to string:  --> have to convert to string first for function to execute succesfully\n",
    "\n",
    "cols = ['start_station_longitude','start_station_latitude', 'end_station_long','end_station_lat']\n",
    "for col_name in cols:\n",
    "    df = df.withColumn(col_name, col(col_name).cast('float'))"
   ]
  },
  {
   "cell_type": "code",
   "execution_count": 30,
   "metadata": {},
   "outputs": [
    {
     "name": "stdout",
     "output_type": "stream",
     "text": [
      "Wall time: 0 ns\n"
     ]
    }
   ],
   "source": [
    "%%time\n",
    "\n",
    "#Create udf to apply it to ps df:\n",
    "\n",
    "km = udf(distance, FloatType())"
   ]
  },
  {
   "cell_type": "code",
   "execution_count": 31,
   "metadata": {},
   "outputs": [
    {
     "name": "stdout",
     "output_type": "stream",
     "text": [
      "Wall time: 39.9 ms\n"
     ]
    }
   ],
   "source": [
    "%%time\n",
    "\n",
    "#apply function to create distance col ps:\n",
    "df = df.withColumn('distance_km', km(df.start_station_latitude, df.start_station_longitude, df.end_station_lat,\n",
    "                                 df.end_station_long))"
   ]
  },
  {
   "cell_type": "code",
   "execution_count": 48,
   "metadata": {},
   "outputs": [
    {
     "name": "stdout",
     "output_type": "stream",
     "text": [
      "+-----------+---------+\n",
      "|distance_km|  dur_min|\n",
      "+-----------+---------+\n",
      "| 0.71572316| 4.383333|\n",
      "|  3.3172247|17.633333|\n",
      "|  1.6952463|10.283334|\n",
      "|   0.885981|      4.4|\n",
      "|  2.3261278|12.333333|\n",
      "|  0.6012847|      3.9|\n",
      "|  1.5424327|6.0833335|\n",
      "|  1.2706691| 8.966666|\n",
      "|   2.025812|14.633333|\n",
      "|  1.7909632|     13.1|\n",
      "|        0.0|334.11667|\n",
      "|   2.423492|12.566667|\n",
      "|   2.132937|    10.55|\n",
      "|  1.9964571|27.166666|\n",
      "|  1.4335872|77.833336|\n",
      "|  0.7011822| 8.233334|\n",
      "|  0.7011822|     3.95|\n",
      "|  0.7011822|39.933334|\n",
      "|  1.9563731|    35.85|\n",
      "|  1.0654027| 9.616667|\n",
      "+-----------+---------+\n",
      "only showing top 20 rows\n",
      "\n"
     ]
    }
   ],
   "source": [
    "#test:\n",
    "df.select('distance_km', 'dur_min').show()"
   ]
  },
  {
   "cell_type": "code",
   "execution_count": 32,
   "metadata": {},
   "outputs": [
    {
     "name": "stdout",
     "output_type": "stream",
     "text": [
      "Wall time: 887 ms\n"
     ]
    }
   ],
   "source": [
    "%%time\n",
    "\n",
    "#change dtype:\n",
    "\n",
    "cols = ['start_station_longitude','start_station_latitude', 'end_station_long','end_station_lat']\n",
    "for col_name in cols:\n",
    "    kdf[col_name] = kdf[col_name].astype(float)"
   ]
  },
  {
   "cell_type": "code",
   "execution_count": 38,
   "metadata": {},
   "outputs": [
    {
     "name": "stdout",
     "output_type": "stream",
     "text": [
      "Wall time: 1min 14s\n"
     ]
    }
   ],
   "source": [
    "%%time\n",
    "\n",
    "#apply function to create distance column in kdf:\n",
    "kdf['distance_km'] = kdf.apply(lambda i: distance(i['start_station_longitude'],i['start_station_latitude'],\n",
    "                            i['end_station_long'],i['end_station_lat']), axis=1)"
   ]
  },
  {
   "cell_type": "code",
   "execution_count": 58,
   "metadata": {},
   "outputs": [
    {
     "data": {
      "text/html": [
       "<div>\n",
       "<style scoped>\n",
       "    .dataframe tbody tr th:only-of-type {\n",
       "        vertical-align: middle;\n",
       "    }\n",
       "\n",
       "    .dataframe tbody tr th {\n",
       "        vertical-align: top;\n",
       "    }\n",
       "\n",
       "    .dataframe thead th {\n",
       "        text-align: right;\n",
       "    }\n",
       "</style>\n",
       "<table border=\"1\" class=\"dataframe\">\n",
       "  <thead>\n",
       "    <tr style=\"text-align: right;\">\n",
       "      <th></th>\n",
       "      <th>distance_km</th>\n",
       "      <th>dur_min</th>\n",
       "    </tr>\n",
       "  </thead>\n",
       "  <tbody>\n",
       "    <tr>\n",
       "      <th>26</th>\n",
       "      <td>3.459368</td>\n",
       "      <td>10.650000</td>\n",
       "    </tr>\n",
       "    <tr>\n",
       "      <th>29</th>\n",
       "      <td>1.416776</td>\n",
       "      <td>10.650000</td>\n",
       "    </tr>\n",
       "    <tr>\n",
       "      <th>474</th>\n",
       "      <td>2.147084</td>\n",
       "      <td>10.650000</td>\n",
       "    </tr>\n",
       "    <tr>\n",
       "      <th>964</th>\n",
       "      <td>1.431382</td>\n",
       "      <td>10.650000</td>\n",
       "    </tr>\n",
       "    <tr>\n",
       "      <th>17179869487</th>\n",
       "      <td>1.214015</td>\n",
       "      <td>13.266667</td>\n",
       "    </tr>\n",
       "  </tbody>\n",
       "</table>\n",
       "</div>"
      ],
      "text/plain": [
       "             distance_km    dur_min\n",
       "26              3.459368  10.650000\n",
       "29              1.416776  10.650000\n",
       "474             2.147084  10.650000\n",
       "964             1.431382  10.650000\n",
       "17179869487     1.214015  13.266667"
      ]
     },
     "execution_count": 58,
     "metadata": {},
     "output_type": "execute_result"
    }
   ],
   "source": [
    "#test:\n",
    "kdf[['distance_km', 'dur_min']].head()"
   ]
  },
  {
   "cell_type": "code",
   "execution_count": 39,
   "metadata": {},
   "outputs": [
    {
     "name": "stdout",
     "output_type": "stream",
     "text": [
      "Wall time: 34.9 ms\n"
     ]
    }
   ],
   "source": [
    "%%time\n",
    "\n",
    "#calc hours ps:\n",
    "df = df.withColumn('dur_hrs', col('dur_min') / 60)\n",
    "#change new col to float:\n",
    "df = df.withColumn('dur_hrs', df.dur_min.cast('float'))"
   ]
  },
  {
   "cell_type": "code",
   "execution_count": 45,
   "metadata": {},
   "outputs": [
    {
     "name": "stdout",
     "output_type": "stream",
     "text": [
      "Wall time: 573 ms\n"
     ]
    }
   ],
   "source": [
    "%%time\n",
    "\n",
    "#calc hrs kdf:\n",
    "kdf['dur_hrs'] = kdf['dur_min'] / 60\n",
    "#change col to float:\n",
    "kdf['dur_hrs'] = kdf.dur_hrs.astype(float)"
   ]
  },
  {
   "cell_type": "code",
   "execution_count": 50,
   "metadata": {},
   "outputs": [
    {
     "data": {
      "text/plain": [
       "<function __main__.sum_udf(v)>"
      ]
     },
     "execution_count": 50,
     "metadata": {},
     "output_type": "execute_result"
    }
   ],
   "source": [
    "#create a udf to round off agg values in df:\n",
    "\n",
    "from pyspark.sql.functions import pandas_udf, PandasUDFType\n",
    "\n",
    "@pandas_udf(\"float\", PandasUDFType.GROUPED_AGG)\n",
    "def sum_udf(v):\n",
    "    return round(v.sum(), 2)\n",
    "spark.udf.register(\"sum_udf\", sum_udf)"
   ]
  },
  {
   "cell_type": "code",
   "execution_count": 52,
   "metadata": {},
   "outputs": [
    {
     "name": "stdout",
     "output_type": "stream",
     "text": [
      "+---------+----------------+--------------------+\n",
      "|  weekday|sum_udf(dur_hrs)|sum_udf(distance_km)|\n",
      "+---------+----------------+--------------------+\n",
      "|Wednesday|       4050046.5|           509488.38|\n",
      "|  Tuesday|       4063969.5|           512289.47|\n",
      "|   Friday|       3995384.2|            464876.7|\n",
      "| Thursday|       4078651.8|           504538.38|\n",
      "| Saturday|       3510188.8|           271642.47|\n",
      "|   Monday|       3842117.8|           470992.88|\n",
      "|   Sunday|       3089187.5|           231227.31|\n",
      "+---------+----------------+--------------------+\n",
      "\n",
      "Wall time: 2min 33s\n"
     ]
    }
   ],
   "source": [
    "%%time\n",
    "\n",
    "\n",
    "#sum of hrs travelled and distance each weekday ps:\n",
    "\n",
    "#GroupBy and sum multiple columns:\n",
    "df.groupBy(\"weekday\") \\\n",
    "    .agg({\"dur_hrs\": 'sum_udf',\"distance_km\": 'sum_udf'}) \\\n",
    "    .show()"
   ]
  },
  {
   "cell_type": "code",
   "execution_count": 51,
   "metadata": {},
   "outputs": [],
   "source": [
    "#%%time\n",
    "\n",
    "#kdf.groupby('dow')[['dur_hrs', 'distance_km']].sum()"
   ]
  },
  {
   "cell_type": "code",
   "execution_count": 56,
   "metadata": {},
   "outputs": [
    {
     "name": "stdout",
     "output_type": "stream",
     "text": [
      "Wall time: 328 ms\n"
     ]
    },
    {
     "data": {
      "text/html": [
       "<div>\n",
       "<style scoped>\n",
       "    .dataframe tbody tr th:only-of-type {\n",
       "        vertical-align: middle;\n",
       "    }\n",
       "\n",
       "    .dataframe tbody tr th {\n",
       "        vertical-align: top;\n",
       "    }\n",
       "\n",
       "    .dataframe thead th {\n",
       "        text-align: right;\n",
       "    }\n",
       "</style>\n",
       "<table border=\"1\" class=\"dataframe\">\n",
       "  <thead>\n",
       "    <tr style=\"text-align: right;\">\n",
       "      <th></th>\n",
       "      <th>dur_hrs</th>\n",
       "      <th>distance_km</th>\n",
       "    </tr>\n",
       "    <tr>\n",
       "      <th>dow</th>\n",
       "      <th></th>\n",
       "      <th></th>\n",
       "    </tr>\n",
       "  </thead>\n",
       "  <tbody>\n",
       "    <tr>\n",
       "      <th>Wednesday</th>\n",
       "      <td>1565.05</td>\n",
       "      <td>13258.42</td>\n",
       "    </tr>\n",
       "    <tr>\n",
       "      <th>Tuesday</th>\n",
       "      <td>1538.46</td>\n",
       "      <td>13146.52</td>\n",
       "    </tr>\n",
       "    <tr>\n",
       "      <th>Friday</th>\n",
       "      <td>1355.92</td>\n",
       "      <td>11345.17</td>\n",
       "    </tr>\n",
       "    <tr>\n",
       "      <th>Thursday</th>\n",
       "      <td>1522.83</td>\n",
       "      <td>12889.84</td>\n",
       "    </tr>\n",
       "    <tr>\n",
       "      <th>Saturday</th>\n",
       "      <td>751.81</td>\n",
       "      <td>5873.25</td>\n",
       "    </tr>\n",
       "    <tr>\n",
       "      <th>Monday</th>\n",
       "      <td>1429.80</td>\n",
       "      <td>12164.80</td>\n",
       "    </tr>\n",
       "    <tr>\n",
       "      <th>Sunday</th>\n",
       "      <td>652.83</td>\n",
       "      <td>5019.99</td>\n",
       "    </tr>\n",
       "  </tbody>\n",
       "</table>\n",
       "</div>"
      ],
      "text/plain": [
       "           dur_hrs  distance_km\n",
       "dow                            \n",
       "Wednesday  1565.05     13258.42\n",
       "Tuesday    1538.46     13146.52\n",
       "Friday     1355.92     11345.17\n",
       "Thursday   1522.83     12889.84\n",
       "Saturday    751.81      5873.25\n",
       "Monday     1429.80     12164.80\n",
       "Sunday      652.83      5019.99"
      ]
     },
     "execution_count": 56,
     "metadata": {},
     "output_type": "execute_result"
    }
   ],
   "source": [
    "%%time\n",
    "\n",
    "#sum of hrs travelled and distance each weekday kdf:\n",
    "kdf.groupby('dow').agg({'dur_hrs': 'sum', 'distance_km': 'sum'}).round(2)# this computation is wrong"
   ]
  },
  {
   "cell_type": "code",
   "execution_count": null,
   "metadata": {},
   "outputs": [],
   "source": [
    "#filter:"
   ]
  },
  {
   "cell_type": "code",
   "execution_count": 67,
   "metadata": {},
   "outputs": [
    {
     "name": "stdout",
     "output_type": "stream",
     "text": [
      "+-------+-------+--------------------+--------------------+----------------+--------------------+----------------------+-----------------------+--------------+--------------------+---------------+----------------+----------+-----------------+-------------+-----------------------+----------+-----------+---------+----------+---------+------------------+-----------+---------+\n",
      "|bike_id|dur_sec|          start_time|            end_time|start_station_id|  start_station_name|start_station_latitude|start_station_longitude|end_station_id|    end_station_name|end_station_lat|end_station_long| user_type|member_birth_year|member_gender|bike_share_for_all_trip|member_age|  age_group|  dur_min|  start_dt|  weekday|      avg(dur_min)|distance_km|  dur_hrs|\n",
      "+-------+-------+--------------------+--------------------+----------------+--------------------+----------------------+-----------------------+--------------+--------------------+---------------+----------------+----------+-----------------+-------------+-----------------------+----------+-----------+---------+----------+---------+------------------+-----------+---------+\n",
      "|   1090|    263|2018-10-30 17:37:...|2018-10-30 17:42:...|             126|         Esprit Park|             37.761635|             -122.39065|           355|23rd St at Tennes...|      37.755367|     -122.388794|Subscriber|             1979|         Male|                     No|        39|      adult| 4.383333|2018-10-30|  Tuesday|14.019126026077968| 0.71572316| 4.383333|\n",
      "|   1090|    617|2018-10-30 10:10:...|2018-10-30 10:20:...|              67|San Francisco Cal...|             37.776638|             -122.39552|            23|The Embarcadero a...|      37.791466|      -122.39104|Subscriber|             1986|         Male|                     No|        32|      adult|10.283334|2018-10-30|  Tuesday|14.019126026077968|  1.6952463|10.283334|\n",
      "|   1090|    740|2018-10-30 08:18:...|2018-10-30 08:31:...|              85|Church St at Dubo...|             37.770084|             -122.42915|            90|Townsend St at 7t...|      37.771057|      -122.40272|Subscriber|             1980|         Male|                     No|        38|      adult|12.333333|2018-10-30|  Tuesday|14.019126026077968|  2.3261278|12.333333|\n",
      "|   1090|    365|2018-10-29 08:00:...|2018-10-29 08:06:...|              58|Market St at 10th St|              37.77662|             -122.41738|             3|Powell St BART St...|      37.786377|      -122.40491|Subscriber|             1986|         Male|                     No|        32|      adult|6.0833335|2018-10-29|   Monday|14.019126026077968|  1.5424327|6.0833335|\n",
      "|   1090|    538|2018-10-28 22:37:...|2018-10-28 22:46:...|               4|Cyril Magnin St a...|              37.78588|             -122.40891|            58|Market St at 10th St|       37.77662|      -122.41738|Subscriber|             2000|         Male|                     No|        18|young adult| 8.966666|2018-10-28|   Sunday|14.019126026077968|  1.2706691| 8.966666|\n",
      "|   1090|    878|2018-10-26 17:59:...|2018-10-26 18:14:...|              81|  Berry St at 4th St|              37.77588|             -122.39317|            43|San Francisco Pub...|      37.778767|      -122.41593|Subscriber|             1970|         Male|                     No|        48| middle age|14.633333|2018-10-26|   Friday|14.019126026077968|   2.025812|14.633333|\n",
      "|   1090|    754|2018-10-26 09:12:...|2018-10-26 09:24:...|              93|4th St at Mission...|              37.77041|              -122.3912|            20|Mechanics Monumen...|        37.7913|      -122.39905|Subscriber|             1989|         Male|                     No|        29|      adult|12.566667|2018-10-26|   Friday|14.019126026077968|   2.423492|12.566667|\n",
      "|   1090|    633|2018-10-26 08:55:...|2018-10-26 09:06:...|               5|Powell St BART St...|               37.7839|             -122.40845|            93|4th St at Mission...|       37.77041|       -122.3912|Subscriber|             1995|         Male|                     No|        23|young adult|    10.55|2018-10-26|   Friday|14.019126026077968|   2.132937|    10.55|\n",
      "|   1090|   4670|2018-10-25 16:14:...|2018-10-25 17:32:...|              58|Market St at 10th St|              37.77662|             -122.41738|           285|Webster St at O'F...|       37.78352|      -122.43116|  Customer|             1982|         Male|                     No|        36|      adult|77.833336|2018-10-25| Thursday|14.019126026077968|  1.4335872|77.833336|\n",
      "|   1090|    494|2018-10-25 15:53:...|2018-10-25 16:02:...|              44|Civic Center/UN P...|             37.781075|            -122.411736|            58|Market St at 10th St|       37.77662|      -122.41738|Subscriber|             1996|         Male|                     No|        22|young adult| 8.233334|2018-10-25| Thursday|14.019126026077968|  0.7011822| 8.233334|\n",
      "|   1090|    237|2018-10-25 14:36:...|2018-10-25 14:40:...|              58|Market St at 10th St|              37.77662|             -122.41738|            44|Civic Center/UN P...|      37.781075|     -122.411736|Subscriber|             1996|         Male|                     No|        22|young adult|     3.95|2018-10-25| Thursday|14.019126026077968|  0.7011822|     3.95|\n",
      "|   1090|   2396|2018-10-25 13:45:...|2018-10-25 14:25:...|              44|Civic Center/UN P...|             37.781075|            -122.411736|            58|Market St at 10th St|       37.77662|      -122.41738|Subscriber|             2000|         Male|                     No|        18|young adult|39.933334|2018-10-25| Thursday|14.019126026077968|  0.7011822|39.933334|\n",
      "|   1090|   2151|2018-10-25 13:01:...|2018-10-25 13:37:...|             223|16th St Mission B...|             37.764767|             -122.42009|            44|Civic Center/UN P...|      37.781075|     -122.411736|Subscriber|             1978|         Male|                     No|        40|      adult|    35.85|2018-10-25| Thursday|14.019126026077968|  1.9563731|    35.85|\n",
      "|   1090|    577|2018-10-24 17:18:...|2018-10-24 17:27:...|             133|Valencia St at 22...|              37.75521|            -122.420975|           223|16th St Mission B...|      37.764767|      -122.42009|Subscriber|             1985|         Male|                    Yes|        33|      adult| 9.616667|2018-10-24|Wednesday|14.019126026077968|  1.0654027| 9.616667|\n",
      "|   1090|    596|2018-10-24 15:21:...|2018-10-24 15:31:...|              73|Pierce St at Haig...|             37.771793|             -122.43371|           133|Valencia St at 22...|       37.75521|     -122.420975|Subscriber|             1985|         Male|                    Yes|        33|      adult| 9.933333|2018-10-24|Wednesday|14.019126026077968|  2.1570408| 9.933333|\n",
      "|   1090|   1101|2018-10-24 15:00:...|2018-10-24 15:18:...|              42|San Francisco Cit...|              37.77865|             -122.41823|            73|Pierce St at Haig...|      37.771793|      -122.43371|Subscriber|             1986|         Male|                     No|        32|      adult|    18.35|2018-10-24|Wednesday|14.019126026077968|  1.5595237|    18.35|\n",
      "|   1090|    575|2018-10-24 13:20:...|2018-10-24 13:30:...|              86|Market St at Dolo...|             37.769306|             -122.42683|            42|San Francisco Cit...|       37.77865|      -122.41823|Subscriber|             1977|         Male|                     No|        41| middle age| 9.583333|2018-10-24|Wednesday|14.019126026077968|  1.2846152| 9.583333|\n",
      "|   1090|    386|2018-10-24 10:57:...|2018-10-24 11:03:...|              71|Broderick St at O...|             37.773064|             -122.43908|            86|Market St at Dolo...|      37.769306|      -122.42683|Subscriber|             1976|         Male|                     No|        42| middle age|6.4333334|2018-10-24|Wednesday|14.019126026077968|  1.1551728|6.4333334|\n",
      "|   1090|    839|2018-10-23 08:05:...|2018-10-23 08:19:...|             147|29th St at Tiffan...|              37.74407|             -122.42147|            58|Market St at 10th St|       37.77662|      -122.41738|Subscriber|             1984|         Male|                     No|        34|      adult|13.983334|2018-10-23|  Tuesday|14.019126026077968|  3.6372936|13.983334|\n",
      "|   1090|   1268|2018-10-22 21:20:...|2018-10-22 21:41:...|              44|Civic Center/UN P...|             37.781075|            -122.411736|           147|29th St at Tiffan...|       37.74407|      -122.42147|Subscriber|             1994|         Male|                     No|        24|young adult|21.133333|2018-10-22|   Monday|14.019126026077968|   4.202966|21.133333|\n",
      "+-------+-------+--------------------+--------------------+----------------+--------------------+----------------------+-----------------------+--------------+--------------------+---------------+----------------+----------+-----------------+-------------+-----------------------+----------+-----------+---------+----------+---------+------------------+-----------+---------+\n",
      "only showing top 20 rows\n",
      "\n"
     ]
    },
    {
     "name": "stdout",
     "output_type": "stream",
     "text": [
      "+-------+-------+--------------------+--------------------+----------------+--------------------+----------------------+-----------------------+--------------+--------------------+---------------+----------------+----------+-----------------+-------------+-----------------------+----------+-----------+---------+----------+---------+------------------+-----------+---------+\n",
      "|bike_id|dur_sec|          start_time|            end_time|start_station_id|  start_station_name|start_station_latitude|start_station_longitude|end_station_id|    end_station_name|end_station_lat|end_station_long| user_type|member_birth_year|member_gender|bike_share_for_all_trip|member_age|  age_group|  dur_min|  start_dt|  weekday|      avg(dur_min)|distance_km|  dur_hrs|\n",
      "+-------+-------+--------------------+--------------------+----------------+--------------------+----------------------+-----------------------+--------------+--------------------+---------------+----------------+----------+-----------------+-------------+-----------------------+----------+-----------+---------+----------+---------+------------------+-----------+---------+\n",
      "|   1090|   1058|2018-10-30 17:12:...|2018-10-30 17:30:...|              23|The Embarcadero a...|             37.791466|             -122.39104|           126|         Esprit Park|      37.761635|      -122.39065|Subscriber|             1990|       Female|                     No|        28|      adult|17.633333|2018-10-30|  Tuesday|14.019126026077968|  3.3172247|17.633333|\n",
      "|   1090|    264|2018-10-30 09:54:...|2018-10-30 09:58:...|              90|Townsend St at 7t...|             37.771057|             -122.40272|            67|San Francisco Cal...|      37.776638|      -122.39552|Subscriber|             1989|       Female|                     No|        29|      adult|      4.4|2018-10-30|  Tuesday|14.019126026077968|   0.885981|      4.4|\n",
      "|   1090|    234|2018-10-29 08:37:...|2018-10-29 08:41:...|               3|Powell St BART St...|             37.786377|             -122.40491|            36| Folsom St at 3rd St|       37.78383|      -122.39887|Subscriber|             1995|       Female|                     No|        23|young adult|      3.9|2018-10-29|   Monday|14.019126026077968|  0.6012847|      3.9|\n",
      "|   1090|    786|2018-10-26 17:14:...|2018-10-26 17:27:...|              20|Mechanics Monumen...|               37.7913|             -122.39905|            81|  Berry St at 4th St|       37.77588|      -122.39317|Subscriber|             1990|       Female|                     No|        28|      adult|     13.1|2018-10-26|   Friday|14.019126026077968|  1.7909632|     13.1|\n",
      "|   1090|   1006|2018-10-23 08:46:...|2018-10-23 09:02:...|              58|Market St at 10th St|              37.77662|             -122.41738|            11|Davis St at Jacks...|       37.79728|      -122.39844|Subscriber|             1992|       Female|                     No|        26|      adult|16.766666|2018-10-23|  Tuesday|14.019126026077968|  2.8370795|16.766666|\n",
      "|   1090|    376|2018-10-22 14:51:...|2018-10-22 14:58:...|              76|McCoppin St at Va...|             37.771664|            -122.422424|            61| Howard St at 8th St|      37.776512|      -122.41131|Subscriber|             1977|       Female|                     No|        41| middle age| 6.266667|2018-10-22|   Monday|14.019126026077968|  1.1158882| 6.266667|\n",
      "|   1090|    422|2018-10-22 14:24:...|2018-10-22 14:31:...|              99|Folsom St at 15th St|             37.767036|             -122.41544|            76|McCoppin St at Va...|      37.771664|     -122.422424|Subscriber|             1975|       Female|                     No|        43| middle age|7.0333333|2018-10-22|   Monday|14.019126026077968|  0.8007782|7.0333333|\n",
      "|   1090|   1064|2018-10-20 17:23:...|2018-10-20 17:41:...|             126|         Esprit Park|             37.761635|             -122.39065|            61| Howard St at 8th St|      37.776512|      -122.41131|  Customer|             1989|       Female|                     No|        29|      adult|17.733334|2018-10-20| Saturday|14.019126026077968|  2.4565291|17.733334|\n",
      "|   1090|    598|2018-10-17 19:08:...|2018-10-17 19:18:...|              21|Montgomery St BAR...|             37.789627|             -122.40081|            43|San Francisco Pub...|      37.778767|      -122.41593|Subscriber|             1992|       Female|                     No|        26|      adult| 9.966666|2018-10-17|Wednesday|14.019126026077968|  1.7956246| 9.966666|\n",
      "|   1090|   1349|2018-10-16 18:26:...|2018-10-16 18:48:...|              21|Montgomery St BAR...|             37.789627|             -122.40081|           126|         Esprit Park|      37.761635|      -122.39065|Subscriber|             1989|       Female|                     No|        29|      adult|22.483334|2018-10-16|  Tuesday|14.019126026077968|  3.2382107|22.483334|\n",
      "|   1090|    559|2018-10-16 08:16:...|2018-10-16 08:26:...|              80|Townsend St at 5t...|             37.775307|             -122.39738|            61| Howard St at 8th St|      37.776512|      -122.41131|Subscriber|             1989|       Female|                     No|        29|      adult| 9.316667|2018-10-16|  Tuesday|14.019126026077968|  1.2317328| 9.316667|\n",
      "|   1090|    270|2018-10-15 06:10:...|2018-10-15 06:14:...|              17|Embarcadero BART ...|              37.79225|             -122.39709|            27|Beale St at Harri...|       37.78806|      -122.39187|Subscriber|             1970|       Female|                     No|        48| middle age|      4.5|2018-10-15|   Monday|14.019126026077968|  0.6539076|      4.5|\n",
      "|   1090|    704|2018-10-12 09:04:...|2018-10-12 09:16:...|               6|The Embarcadero a...|              37.80477|             -122.40324|            27|Beale St at Harri...|       37.78806|      -122.39187|Subscriber|             1984|       Female|                     No|        34|      adult|11.733334|2018-10-12|   Friday|14.019126026077968|  2.1097379|11.733334|\n",
      "|   1090|    189|2018-10-10 16:58:...|2018-10-10 17:01:...|              19|Post St at Kearny St|             37.788975|             -122.40345|             3|Powell St BART St...|      37.786377|      -122.40491|Subscriber|             1991|       Female|                     No|        27|      adult|     3.15|2018-10-10|Wednesday|14.019126026077968|  0.3159743|     3.15|\n",
      "|   1090|    347|2018-10-10 08:21:...|2018-10-10 08:27:...|             119|   18th St at Noe St|             37.761047|             -122.43264|           223|16th St Mission B...|      37.764767|      -122.42009|Subscriber|             1993|       Female|                     No|        25|young adult|5.7833333|2018-10-10|Wednesday|14.019126026077968|   1.178213|5.7833333|\n",
      "|   1090|    701|2018-10-09 19:05:...|2018-10-09 19:17:...|             123|Folsom St at 19th St|             37.760593|             -122.41482|           119|   18th St at Noe St|      37.761047|      -122.43264|Subscriber|             1971|       Female|                     No|        47| middle age|11.683333|2018-10-09|  Tuesday|14.019126026077968|  1.5675293|11.683333|\n",
      "|   1090|    984|2018-10-09 18:36:...|2018-10-09 18:52:...|              30|San Francisco Cal...|               37.7766|             -122.39528|           123|Folsom St at 19th St|      37.760593|      -122.41482|Subscriber|             1987|       Female|                     No|        31|      adult|     16.4|2018-10-09|  Tuesday|14.019126026077968|  2.4733424|     16.4|\n",
      "|   1090|    375|2018-10-09 18:01:...|2018-10-09 18:08:...|              44|Civic Center/UN P...|             37.781075|            -122.411736|             3|Powell St BART St...|      37.786377|      -122.40491|Subscriber|             1988|       Female|                     No|        30|      adult|     6.25|2018-10-09|  Tuesday|14.019126026077968| 0.84126264|     6.25|\n",
      "|   1090|    808|2018-10-09 16:16:...|2018-10-09 16:30:...|              23|The Embarcadero a...|             37.791466|             -122.39104|            90|Townsend St at 7t...|      37.771057|      -122.40272|Subscriber|             1990|       Female|                     No|        28|      adult|13.466666|2018-10-09|  Tuesday|14.019126026077968|  2.4907138|13.466666|\n",
      "|   1090|    970|2018-10-08 07:35:...|2018-10-08 07:51:...|              24|Spear St at Folso...|             37.789677|             -122.39043|            93|4th St at Mission...|       37.77041|       -122.3912|Subscriber|             1988|       Female|                     No|        30|      adult|16.166666|2018-10-08|   Monday|14.019126026077968|  2.1435778|16.166666|\n",
      "+-------+-------+--------------------+--------------------+----------------+--------------------+----------------------+-----------------------+--------------+--------------------+---------------+----------------+----------+-----------------+-------------+-----------------------+----------+-----------+---------+----------+---------+------------------+-----------+---------+\n",
      "only showing top 20 rows\n",
      "\n",
      "Wall time: 51.7 s\n"
     ]
    }
   ],
   "source": [
    "%%time\n",
    "\n",
    "#create subset for males and females ps:\n",
    "\n",
    "df_males = df.filter(df.member_gender == 'Male').show()\n",
    "df_females = df.filter(df.member_gender == 'Female').show()"
   ]
  },
  {
   "cell_type": "code",
   "execution_count": 70,
   "metadata": {},
   "outputs": [
    {
     "name": "stdout",
     "output_type": "stream",
     "text": [
      "Wall time: 828 ms\n"
     ]
    }
   ],
   "source": [
    "%%time\n",
    "\n",
    "#create subset males and females kdf:\n",
    "kdf_males = kdf[kdf.member_gender == 'Male']\n",
    "kdf_females = kdf[kdf.member_gender == 'Female']"
   ]
  },
  {
   "cell_type": "code",
   "execution_count": 71,
   "metadata": {},
   "outputs": [
    {
     "ename": "AttributeError",
     "evalue": "'NoneType' object has no attribute 'select'",
     "output_type": "error",
     "traceback": [
      "\u001b[1;31m---------------------------------------------------------------------------\u001b[0m",
      "\u001b[1;31mAttributeError\u001b[0m                            Traceback (most recent call last)",
      "\u001b[1;32m<ipython-input-71-b92c81ee5e70>\u001b[0m in \u001b[0;36m<module>\u001b[1;34m\u001b[0m\n\u001b[0;32m      1\u001b[0m \u001b[1;31m#test males ps:\u001b[0m\u001b[1;33m\u001b[0m\u001b[1;33m\u001b[0m\u001b[1;33m\u001b[0m\u001b[0m\n\u001b[1;32m----> 2\u001b[1;33m \u001b[0mdf_males\u001b[0m\u001b[1;33m.\u001b[0m\u001b[0mselect\u001b[0m\u001b[1;33m(\u001b[0m\u001b[1;34m'dur_hrs'\u001b[0m\u001b[1;33m,\u001b[0m \u001b[1;34m'distance_km'\u001b[0m\u001b[1;33m)\u001b[0m\u001b[1;33m.\u001b[0m\u001b[0mshow\u001b[0m\u001b[1;33m(\u001b[0m\u001b[1;33m)\u001b[0m\u001b[1;33m\u001b[0m\u001b[1;33m\u001b[0m\u001b[0m\n\u001b[0m",
      "\u001b[1;31mAttributeError\u001b[0m: 'NoneType' object has no attribute 'select'"
     ]
    }
   ],
   "source": [
    "#test males ps:\n",
    "df_males.select('dur_hrs', 'distance_km').show()"
   ]
  },
  {
   "cell_type": "code",
   "execution_count": 72,
   "metadata": {},
   "outputs": [
    {
     "data": {
      "text/html": [
       "<div>\n",
       "<style scoped>\n",
       "    .dataframe tbody tr th:only-of-type {\n",
       "        vertical-align: middle;\n",
       "    }\n",
       "\n",
       "    .dataframe tbody tr th {\n",
       "        vertical-align: top;\n",
       "    }\n",
       "\n",
       "    .dataframe thead th {\n",
       "        text-align: right;\n",
       "    }\n",
       "</style>\n",
       "<table border=\"1\" class=\"dataframe\">\n",
       "  <thead>\n",
       "    <tr style=\"text-align: right;\">\n",
       "      <th></th>\n",
       "      <th>dur_hrs</th>\n",
       "      <th>distance_km</th>\n",
       "    </tr>\n",
       "  </thead>\n",
       "  <tbody>\n",
       "    <tr>\n",
       "      <th>26</th>\n",
       "      <td>0.177500</td>\n",
       "      <td>3.459368</td>\n",
       "    </tr>\n",
       "    <tr>\n",
       "      <th>29</th>\n",
       "      <td>0.177500</td>\n",
       "      <td>1.416776</td>\n",
       "    </tr>\n",
       "    <tr>\n",
       "      <th>474</th>\n",
       "      <td>0.177500</td>\n",
       "      <td>2.147084</td>\n",
       "    </tr>\n",
       "    <tr>\n",
       "      <th>964</th>\n",
       "      <td>0.177500</td>\n",
       "      <td>1.431382</td>\n",
       "    </tr>\n",
       "    <tr>\n",
       "      <th>17179869487</th>\n",
       "      <td>0.221111</td>\n",
       "      <td>1.214015</td>\n",
       "    </tr>\n",
       "    <tr>\n",
       "      <th>17179870343</th>\n",
       "      <td>0.221111</td>\n",
       "      <td>2.176397</td>\n",
       "    </tr>\n",
       "    <tr>\n",
       "      <th>214748365609</th>\n",
       "      <td>0.208333</td>\n",
       "      <td>1.150987</td>\n",
       "    </tr>\n",
       "    <tr>\n",
       "      <th>214748365806</th>\n",
       "      <td>0.208333</td>\n",
       "      <td>1.455958</td>\n",
       "    </tr>\n",
       "    <tr>\n",
       "      <th>214748365895</th>\n",
       "      <td>0.208333</td>\n",
       "      <td>1.168009</td>\n",
       "    </tr>\n",
       "    <tr>\n",
       "      <th>214748365962</th>\n",
       "      <td>0.208333</td>\n",
       "      <td>2.461159</td>\n",
       "    </tr>\n",
       "    <tr>\n",
       "      <th>231928233998</th>\n",
       "      <td>0.356667</td>\n",
       "      <td>3.550279</td>\n",
       "    </tr>\n",
       "    <tr>\n",
       "      <th>266287972820</th>\n",
       "      <td>0.095000</td>\n",
       "      <td>1.332660</td>\n",
       "    </tr>\n",
       "    <tr>\n",
       "      <th>266287972912</th>\n",
       "      <td>0.095000</td>\n",
       "      <td>0.804855</td>\n",
       "    </tr>\n",
       "    <tr>\n",
       "      <th>266287973252</th>\n",
       "      <td>0.095000</td>\n",
       "      <td>0.588723</td>\n",
       "    </tr>\n",
       "    <tr>\n",
       "      <th>266287973948</th>\n",
       "      <td>0.095000</td>\n",
       "      <td>1.032265</td>\n",
       "    </tr>\n",
       "    <tr>\n",
       "      <th>266287974013</th>\n",
       "      <td>0.095000</td>\n",
       "      <td>1.019798</td>\n",
       "    </tr>\n",
       "    <tr>\n",
       "      <th>266287974195</th>\n",
       "      <td>0.095000</td>\n",
       "      <td>1.129878</td>\n",
       "    </tr>\n",
       "    <tr>\n",
       "      <th>266287974588</th>\n",
       "      <td>0.095000</td>\n",
       "      <td>0.867195</td>\n",
       "    </tr>\n",
       "    <tr>\n",
       "      <th>326417514780</th>\n",
       "      <td>0.285556</td>\n",
       "      <td>2.900348</td>\n",
       "    </tr>\n",
       "    <tr>\n",
       "      <th>326417514854</th>\n",
       "      <td>0.285556</td>\n",
       "      <td>2.635602</td>\n",
       "    </tr>\n",
       "  </tbody>\n",
       "</table>\n",
       "</div>"
      ],
      "text/plain": [
       "               dur_hrs  distance_km\n",
       "26            0.177500     3.459368\n",
       "29            0.177500     1.416776\n",
       "474           0.177500     2.147084\n",
       "964           0.177500     1.431382\n",
       "17179869487   0.221111     1.214015\n",
       "17179870343   0.221111     2.176397\n",
       "214748365609  0.208333     1.150987\n",
       "214748365806  0.208333     1.455958\n",
       "214748365895  0.208333     1.168009\n",
       "214748365962  0.208333     2.461159\n",
       "231928233998  0.356667     3.550279\n",
       "266287972820  0.095000     1.332660\n",
       "266287972912  0.095000     0.804855\n",
       "266287973252  0.095000     0.588723\n",
       "266287973948  0.095000     1.032265\n",
       "266287974013  0.095000     1.019798\n",
       "266287974195  0.095000     1.129878\n",
       "266287974588  0.095000     0.867195\n",
       "326417514780  0.285556     2.900348\n",
       "326417514854  0.285556     2.635602"
      ]
     },
     "execution_count": 72,
     "metadata": {},
     "output_type": "execute_result"
    }
   ],
   "source": [
    "kdf_males[['dur_hrs', 'distance_km']].head(20)"
   ]
  },
  {
   "cell_type": "code",
   "execution_count": null,
   "metadata": {},
   "outputs": [],
   "source": [
    "#trim whitespaces columns:"
   ]
  },
  {
   "cell_type": "code",
   "execution_count": null,
   "metadata": {},
   "outputs": [],
   "source": []
  },
  {
   "cell_type": "code",
   "execution_count": null,
   "metadata": {},
   "outputs": [],
   "source": []
  }
 ],
 "metadata": {
  "kernelspec": {
   "display_name": "Python 3",
   "language": "python",
   "name": "python3"
  },
  "language_info": {
   "codemirror_mode": {
    "name": "ipython",
    "version": 3
   },
   "file_extension": ".py",
   "mimetype": "text/x-python",
   "name": "python",
   "nbconvert_exporter": "python",
   "pygments_lexer": "ipython3",
   "version": "3.7.9"
  }
 },
 "nbformat": 4,
 "nbformat_minor": 4
}
